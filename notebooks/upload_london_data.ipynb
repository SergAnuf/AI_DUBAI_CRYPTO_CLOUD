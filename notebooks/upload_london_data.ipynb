{
 "cells": [
  {
   "cell_type": "code",
   "id": "initial_id",
   "metadata": {
    "collapsed": true,
    "ExecuteTime": {
     "end_time": "2025-10-05T15:35:58.965515Z",
     "start_time": "2025-10-05T15:35:57.276561Z"
    }
   },
   "source": [
    "import pandas as pd\n",
    "import pandasai as pai\n",
    "from datetime import datetime, timedelta"
   ],
   "outputs": [],
   "execution_count": 1
  },
  {
   "metadata": {
    "ExecuteTime": {
     "end_time": "2025-10-05T09:18:56.232302Z",
     "start_time": "2025-10-05T09:18:55.493305Z"
    }
   },
   "cell_type": "code",
   "source": "df = pd.read_csv('../data/catboost_data.csv')",
   "id": "9b543b177c50a345",
   "outputs": [],
   "execution_count": 2
  },
  {
   "metadata": {
    "ExecuteTime": {
     "end_time": "2025-10-05T09:18:58.800811Z",
     "start_time": "2025-10-05T09:18:58.792417Z"
    }
   },
   "cell_type": "code",
   "source": [
    "today = datetime(2024, 12, 29)  # Assuming \"Added yesterday\" refers to 28/12/2024\n",
    "yesterday = today - timedelta(days=1)\n",
    "\n",
    "# Step 2. Clean function\n",
    "def normalize_date(x):\n",
    "    x = x.strip()\n",
    "    if \"Added yesterday\" in x:\n",
    "        return yesterday.strftime(\"%d/%m/%Y\")\n",
    "    elif \"Reduced on\" in x:\n",
    "        # Extract date after the phrase\n",
    "        parts = x.split(\"Reduced on\")[-1].strip()\n",
    "        return parts\n",
    "    else:\n",
    "        return x"
   ],
   "id": "ed2e023ed0e8a11d",
   "outputs": [],
   "execution_count": 3
  },
  {
   "metadata": {
    "ExecuteTime": {
     "end_time": "2025-10-05T09:19:00.745027Z",
     "start_time": "2025-10-05T09:19:00.721849Z"
    }
   },
   "cell_type": "code",
   "source": "df[\"added_on\"] = df[\"added_on\"].apply(normalize_date)",
   "id": "39914a28bd878fa",
   "outputs": [],
   "execution_count": 4
  },
  {
   "metadata": {
    "ExecuteTime": {
     "end_time": "2025-10-05T09:19:25.915242Z",
     "start_time": "2025-10-05T09:19:25.895764Z"
    }
   },
   "cell_type": "code",
   "source": "df[\"added_on\"].value_counts()",
   "id": "c9bfa76b18040f98",
   "outputs": [
    {
     "data": {
      "text/plain": [
       "added_on\n",
       "03/01/2025    1569\n",
       "02/01/2025    1565\n",
       "28/12/2024    1028\n",
       "17/12/2024     679\n",
       "10/12/2024     663\n",
       "              ... \n",
       "01/12/2023       1\n",
       "28/03/2023       1\n",
       "28/10/2019       1\n",
       "03/01/2023       1\n",
       "30/06/2023       1\n",
       "Name: count, Length: 546, dtype: int64"
      ]
     },
     "execution_count": 6,
     "metadata": {},
     "output_type": "execute_result"
    }
   ],
   "execution_count": 6
  },
  {
   "metadata": {
    "ExecuteTime": {
     "end_time": "2025-10-05T10:27:12.658869Z",
     "start_time": "2025-10-05T10:27:12.072255Z"
    }
   },
   "cell_type": "code",
   "source": "df.to_csv(\"../data/catboost_data2.csv\", index=False)",
   "id": "acc1c4980a07bd6c",
   "outputs": [],
   "execution_count": 7
  },
  {
   "metadata": {
    "ExecuteTime": {
     "end_time": "2025-09-16T21:52:09.912615Z",
     "start_time": "2025-09-16T21:52:09.122632Z"
    }
   },
   "cell_type": "code",
   "source": "df = pd.read_parquet(\"../data/catboost_data.parquet\",engine=\"pyarrow\")",
   "id": "de1f9e41f6eb9866",
   "outputs": [],
   "execution_count": 2
  },
  {
   "metadata": {
    "ExecuteTime": {
     "end_time": "2025-09-16T21:53:12.584380Z",
     "start_time": "2025-09-16T21:53:12.580158Z"
    }
   },
   "cell_type": "code",
   "source": "df[\"price\"].sum()/0.0445",
   "id": "46af25a5ad80ab60",
   "outputs": [
    {
     "data": {
      "text/plain": [
       "2010583146.0674157"
      ]
     },
     "execution_count": 4,
     "metadata": {},
     "output_type": "execute_result"
    }
   ],
   "execution_count": 4
  },
  {
   "metadata": {
    "ExecuteTime": {
     "end_time": "2025-09-16T12:51:25.445756Z",
     "start_time": "2025-09-16T12:51:24.532935Z"
    }
   },
   "cell_type": "code",
   "source": [
    "numerical_features = [\"latitude\", \"longitude\",\"distance_to_center\",\"angle_from_center\",\"distance_to_station1\",\"distance_to_station2\",\"distance_to_station3\"]\n",
    "categorical_features = [\"bedrooms\",\"bathrooms\",\"deposit\",\"zone\",\"borough\",\"propertyType\",\"furnishType\",\"NoiseClass\",\"letType\", \"TFL1\", \"TFL2\", \"TFL3\", \"RAIL1\", \"RAIL2\",\"RAIL3\"]\n",
    "\n",
    "# if NLP_clusters:\n",
    "#     categorical_features.append(\"nlp_cluster\")\n",
    "features = numerical_features+categorical_features\n",
    "target = \"price\"\n",
    "\n",
    "model_path = \"../models/catboost_model_v1.cbm\"\n",
    "\n",
    "pricing_model = CatBoostRegressor()\n",
    "pricing_model.load_model(model_path)\n",
    "\n",
    "y_pred = pricing_model.predict(df[features])"
   ],
   "id": "c0d5c2e7a58836a4",
   "outputs": [],
   "execution_count": 6
  },
  {
   "metadata": {
    "ExecuteTime": {
     "end_time": "2025-09-16T12:51:29.492389Z",
     "start_time": "2025-09-16T12:51:29.482226Z"
    }
   },
   "cell_type": "code",
   "source": [
    "df[\"predicted_price\"] = y_pred\n",
    "df[\"pricing_index\"] = df[\"price\"]/df[\"predicted_price\"]"
   ],
   "id": "29b03e19acb2b4d1",
   "outputs": [],
   "execution_count": 7
  },
  {
   "metadata": {
    "ExecuteTime": {
     "end_time": "2025-09-16T12:52:09.838995Z",
     "start_time": "2025-09-16T12:52:09.393227Z"
    }
   },
   "cell_type": "code",
   "source": "df[\"pricing_index\"].hist(bins=50)",
   "id": "8c85a42fc39a7292",
   "outputs": [
    {
     "data": {
      "text/plain": [
       "<Axes: >"
      ]
     },
     "execution_count": 10,
     "metadata": {},
     "output_type": "execute_result"
    },
    {
     "data": {
      "text/plain": [
       "<Figure size 640x480 with 1 Axes>"
      ],
      "image/png": "[encoded data removed]"
     },
     "metadata": {},
     "output_type": "display_data",
     "jetTransient": {
      "display_id": null
     }
    }
   ],
   "execution_count": 10
  },
  {
   "metadata": {
    "ExecuteTime": {
     "end_time": "2025-09-16T12:53:27.655755Z",
     "start_time": "2025-09-16T12:53:27.612994Z"
    }
   },
   "cell_type": "code",
   "source": [
    "drop_columns = [\n",
    "    \"geometry\",\n",
    "    \"color\",\n",
    "    \"angle_from_center\",\n",
    "    \"hex_id\",\n",
    "    \"TFL1\",\n",
    "    \"TFL2\",\n",
    "    \"TFL3\",\n",
    "    \"index_rows\",\n",
    "    \"embeddings\",\n",
    "    \"RAIL1\",\n",
    "    \"RAIL2\",\n",
    "    \"RAIL3\",\n",
    "    \"description\"]\n",
    "\n",
    "\n",
    "df = df.drop(columns=drop_columns)\n",
    "df.rename(columns={\"clean_description\": \"description\"}, inplace=True)"
   ],
   "id": "e49a987bba3944ef",
   "outputs": [],
   "execution_count": 11
  },
  {
   "metadata": {
    "ExecuteTime": {
     "end_time": "2025-09-16T12:53:30.937542Z",
     "start_time": "2025-09-16T12:53:30.855228Z"
    }
   },
   "cell_type": "code",
   "source": "df",
   "id": "f279d5f7a730e7e7",
   "outputs": [
    {
     "data": {
      "text/plain": [
       "              id                                              title  \\\n",
       "0      156331799  3 bedroom apartment for rent in Albany Court, ...   \n",
       "1      156345644  2 bedroom terraced house for rent in Peal Gard...   \n",
       "2      153523199  2 bedroom flat for rent in Blackfriars Road, S...   \n",
       "3      155610035  3 bedroom terraced house for rent in Springfie...   \n",
       "4      155840024  1 bedroom flat for rent in Upper Street, Angel...   \n",
       "...          ...                                                ...   \n",
       "28483  155845379  1 bedroom flat for rent in Draycott Place, Che...   \n",
       "28484  155613146  1 bedroom apartment for rent in Apartment ,  N...   \n",
       "28485  155966516  2 bedroom apartment for rent in Beaufort Road,...   \n",
       "28486   97714892  2 bedroom apartment for rent in Park Street, L...   \n",
       "28487  155614922  3 bedroom ground floor flat for rent in Litchf...   \n",
       "\n",
       "                                          displayAddress outcode incode  \\\n",
       "0                 Albany Court, Spring Grove, London, W4      W4    3BF   \n",
       "1                Peal Gardens, Greenford, Middlesex, W13     W13    0BA   \n",
       "2               Blackfriars Road, Southwark, London, SE1     SE1    8EW   \n",
       "3                 Springfield Place, Hornbeam Mews, SW17    SW17    7DJ   \n",
       "4                        Upper Street, Angel, London, N1      N1    2XQ   \n",
       "...                                                  ...     ...    ...   \n",
       "28483                       Draycott Place, Chelsea, SW3     SW3    3BP   \n",
       "28484                Apartment ,  Nine Elms Lane, London     SW8    5HE   \n",
       "28485  Beaufort Road, St. Johns Court Beaufort Road, KT1     KT1    2TT   \n",
       "28486                           Park Street, London, W1K     W1K    7JF   \n",
       "28487                       Litchfield Way, London, NW11    NW11    6NE   \n",
       "\n",
       "       bathrooms  bedrooms propertyType  price  secondaryPrice  ...  \\\n",
       "0              3         3    Apartment   3550             819  ...   \n",
       "1              1         2     Terraced   2097             484  ...   \n",
       "2              2         2         Flat   5800            1338  ...   \n",
       "3              3         3     Terraced   3100             715  ...   \n",
       "4              1         1         Flat   2500             577  ...   \n",
       "...          ...       ...          ...    ...             ...  ...   \n",
       "28483          1         1         Flat   2752             635  ...   \n",
       "28484          1         1    Apartment   3900             900  ...   \n",
       "28485          1         2    Apartment   1650             381  ...   \n",
       "28486          2         2    Apartment   7323            1690  ...   \n",
       "28487          1         3        other   1850             427  ...   \n",
       "\n",
       "               station_type3                 borough zone distance_to_center  \\\n",
       "0                      [TFL]                Hounslow    3           6.980505   \n",
       "1                      [TFL]                  Ealing    4           8.765145   \n",
       "2                      [TFL]               Southwark    1           1.146696   \n",
       "3           [NATIONAL_TRAIN]              Wandsworth    3           5.216208   \n",
       "4      [TFL, NATIONAL_TRAIN]               Islington    2           2.327834   \n",
       "...                      ...                     ...  ...                ...   \n",
       "28483                  [TFL]  Kensington and Chelsea    1           1.886673   \n",
       "28484                  [TFL]              Wandsworth    1           1.619129   \n",
       "28485       [NATIONAL_TRAIN]    Kingston upon Thames    6          10.405954   \n",
       "28486                  [TFL]             Westminster    1           1.284522   \n",
       "28487                  [TFL]                  Barnet    3           5.883477   \n",
       "\n",
       "       index_right  NoiseClass zone_hex  \\\n",
       "0          20867.0      >=75.0   Zone 3   \n",
       "1          14254.0           0   Zone 4   \n",
       "2          24418.0      >=75.0   Zone 1   \n",
       "3            276.0           0   Zone 3   \n",
       "4            654.0   70.0-74.9   Zone 2   \n",
       "...            ...         ...      ...   \n",
       "28483      16202.0   70.0-74.9   Zone 1   \n",
       "28484        819.0      >=75.0   Zone 1   \n",
       "28485       6871.0           0   Zone 6   \n",
       "28486       1342.0      >=75.0   Zone 1   \n",
       "28487      23701.0           0   Zone 3   \n",
       "\n",
       "                                             description predicted_price  \\\n",
       "0      An exceptional 1,080 sq ft, three bedroom, thr...     4248.351722   \n",
       "1      Video tour available:  \\nA modern 2 Bedrooms h...     1971.855626   \n",
       "2      SHORT LET. Set in an exceptional new developme...     5243.815747   \n",
       "3      Regent excited to offer this spacious, bright ...     3462.593661   \n",
       "4      LONG LET. Situated within highly sought-after ...     2353.953234   \n",
       "...                                                  ...             ...   \n",
       "28483  An excellent one bedroom flat situated on the ...     3447.415903   \n",
       "28484  Leisure Facilities24hr SecurityTwo Double Bedr...     4088.660914   \n",
       "28485  Humphrey & Brand are pleased to present this f...     1993.938799   \n",
       "28486  A newly refurbished first floor apartment, fin...     6823.409218   \n",
       "28487  We are pleased offer this beautiful spacious 3...     3425.602028   \n",
       "\n",
       "      pricing_index  \n",
       "0          0.835618  \n",
       "1          1.063465  \n",
       "2          1.106065  \n",
       "3          0.895283  \n",
       "4          1.062043  \n",
       "...             ...  \n",
       "28483      0.798279  \n",
       "28484      0.953858  \n",
       "28485      0.827508  \n",
       "28486      1.073217  \n",
       "28487      0.540051  \n",
       "\n",
       "[28488 rows x 44 columns]"
      ],
      "text/html": [
       "<div>\n",
       "<style scoped>\n",
       "    .dataframe tbody tr th:only-of-type {\n",
       "        vertical-align: middle;\n",
       "    }\n",
       "\n",
       "    .dataframe tbody tr th {\n",
       "        vertical-align: top;\n",
       "    }\n",
       "\n",
       "    .dataframe thead th {\n",
       "        text-align: right;\n",
       "    }\n",
       "</style>\n",
       "<table border=\"1\" class=\"dataframe\">\n",
       "  <thead>\n",
       "    <tr style=\"text-align: right;\">\n",
       "      <th></th>\n",
       "      <th>id</th>\n",
       "      <th>title</th>\n",
       "      <th>displayAddress</th>\n",
       "      <th>outcode</th>\n",
       "      <th>incode</th>\n",
       "      <th>bathrooms</th>\n",
       "      <th>bedrooms</th>\n",
       "      <th>propertyType</th>\n",
       "      <th>price</th>\n",
       "      <th>secondaryPrice</th>\n",
       "      <th>...</th>\n",
       "      <th>station_type3</th>\n",
       "      <th>borough</th>\n",
       "      <th>zone</th>\n",
       "      <th>distance_to_center</th>\n",
       "      <th>index_right</th>\n",
       "      <th>NoiseClass</th>\n",
       "      <th>zone_hex</th>\n",
       "      <th>description</th>\n",
       "      <th>predicted_price</th>\n",
       "      <th>pricing_index</th>\n",
       "    </tr>\n",
       "  </thead>\n",
       "  <tbody>\n",
       "    <tr>\n",
       "      <th>0</th>\n",
       "      <td>156331799</td>\n",
       "      <td>3 bedroom apartment for rent in Albany Court, ...</td>\n",
       "      <td>Albany Court, Spring Grove, London, W4</td>\n",
       "      <td>W4</td>\n",
       "      <td>3BF</td>\n",
       "      <td>3</td>\n",
       "      <td>3</td>\n",
       "      <td>Apartment</td>\n",
       "      <td>3550</td>\n",
       "      <td>819</td>\n",
       "      <td>...</td>\n",
       "      <td>[TFL]</td>\n",
       "      <td>Hounslow</td>\n",
       "      <td>3</td>\n",
       "      <td>6.980505</td>\n",
       "      <td>20867.0</td>\n",
       "      <td>&gt;=75.0</td>\n",
       "      <td>Zone 3</td>\n",
       "      <td>An exceptional 1,080 sq ft, three bedroom, thr...</td>\n",
       "      <td>4248.351722</td>\n",
       "      <td>0.835618</td>\n",
       "    </tr>\n",
       "    <tr>\n",
       "      <th>1</th>\n",
       "      <td>156345644</td>\n",
       "      <td>2 bedroom terraced house for rent in Peal Gard...</td>\n",
       "      <td>Peal Gardens, Greenford, Middlesex, W13</td>\n",
       "      <td>W13</td>\n",
       "      <td>0BA</td>\n",
       "      <td>1</td>\n",
       "      <td>2</td>\n",
       "      <td>Terraced</td>\n",
       "      <td>2097</td>\n",
       "      <td>484</td>\n",
       "      <td>...</td>\n",
       "      <td>[TFL]</td>\n",
       "      <td>Ealing</td>\n",
       "      <td>4</td>\n",
       "      <td>8.765145</td>\n",
       "      <td>14254.0</td>\n",
       "      <td>0</td>\n",
       "      <td>Zone 4</td>\n",
       "      <td>Video tour available:  \\nA modern 2 Bedrooms h...</td>\n",
       "      <td>1971.855626</td>\n",
       "      <td>1.063465</td>\n",
       "    </tr>\n",
       "    <tr>\n",
       "      <th>2</th>\n",
       "      <td>153523199</td>\n",
       "      <td>2 bedroom flat for rent in Blackfriars Road, S...</td>\n",
       "      <td>Blackfriars Road, Southwark, London, SE1</td>\n",
       "      <td>SE1</td>\n",
       "      <td>8EW</td>\n",
       "      <td>2</td>\n",
       "      <td>2</td>\n",
       "      <td>Flat</td>\n",
       "      <td>5800</td>\n",
       "      <td>1338</td>\n",
       "      <td>...</td>\n",
       "      <td>[TFL]</td>\n",
       "      <td>Southwark</td>\n",
       "      <td>1</td>\n",
       "      <td>1.146696</td>\n",
       "      <td>24418.0</td>\n",
       "      <td>&gt;=75.0</td>\n",
       "      <td>Zone 1</td>\n",
       "      <td>SHORT LET. Set in an exceptional new developme...</td>\n",
       "      <td>5243.815747</td>\n",
       "      <td>1.106065</td>\n",
       "    </tr>\n",
       "    <tr>\n",
       "      <th>3</th>\n",
       "      <td>155610035</td>\n",
       "      <td>3 bedroom terraced house for rent in Springfie...</td>\n",
       "      <td>Springfield Place, Hornbeam Mews, SW17</td>\n",
       "      <td>SW17</td>\n",
       "      <td>7DJ</td>\n",
       "      <td>3</td>\n",
       "      <td>3</td>\n",
       "      <td>Terraced</td>\n",
       "      <td>3100</td>\n",
       "      <td>715</td>\n",
       "      <td>...</td>\n",
       "      <td>[NATIONAL_TRAIN]</td>\n",
       "      <td>Wandsworth</td>\n",
       "      <td>3</td>\n",
       "      <td>5.216208</td>\n",
       "      <td>276.0</td>\n",
       "      <td>0</td>\n",
       "      <td>Zone 3</td>\n",
       "      <td>Regent excited to offer this spacious, bright ...</td>\n",
       "      <td>3462.593661</td>\n",
       "      <td>0.895283</td>\n",
       "    </tr>\n",
       "    <tr>\n",
       "      <th>4</th>\n",
       "      <td>155840024</td>\n",
       "      <td>1 bedroom flat for rent in Upper Street, Angel...</td>\n",
       "      <td>Upper Street, Angel, London, N1</td>\n",
       "      <td>N1</td>\n",
       "      <td>2XQ</td>\n",
       "      <td>1</td>\n",
       "      <td>1</td>\n",
       "      <td>Flat</td>\n",
       "      <td>2500</td>\n",
       "      <td>577</td>\n",
       "      <td>...</td>\n",
       "      <td>[TFL, NATIONAL_TRAIN]</td>\n",
       "      <td>Islington</td>\n",
       "      <td>2</td>\n",
       "      <td>2.327834</td>\n",
       "      <td>654.0</td>\n",
       "      <td>70.0-74.9</td>\n",
       "      <td>Zone 2</td>\n",
       "      <td>LONG LET. Situated within highly sought-after ...</td>\n",
       "      <td>2353.953234</td>\n",
       "      <td>1.062043</td>\n",
       "    </tr>\n",
       "    <tr>\n",
       "      <th>...</th>\n",
       "      <td>...</td>\n",
       "      <td>...</td>\n",
       "      <td>...</td>\n",
       "      <td>...</td>\n",
       "      <td>...</td>\n",
       "      <td>...</td>\n",
       "      <td>...</td>\n",
       "      <td>...</td>\n",
       "      <td>...</td>\n",
       "      <td>...</td>\n",
       "      <td>...</td>\n",
       "      <td>...</td>\n",
       "      <td>...</td>\n",
       "      <td>...</td>\n",
       "      <td>...</td>\n",
       "      <td>...</td>\n",
       "      <td>...</td>\n",
       "      <td>...</td>\n",
       "      <td>...</td>\n",
       "      <td>...</td>\n",
       "      <td>...</td>\n",
       "    </tr>\n",
       "    <tr>\n",
       "      <th>28483</th>\n",
       "      <td>155845379</td>\n",
       "      <td>1 bedroom flat for rent in Draycott Place, Che...</td>\n",
       "      <td>Draycott Place, Chelsea, SW3</td>\n",
       "      <td>SW3</td>\n",
       "      <td>3BP</td>\n",
       "      <td>1</td>\n",
       "      <td>1</td>\n",
       "      <td>Flat</td>\n",
       "      <td>2752</td>\n",
       "      <td>635</td>\n",
       "      <td>...</td>\n",
       "      <td>[TFL]</td>\n",
       "      <td>Kensington and Chelsea</td>\n",
       "      <td>1</td>\n",
       "      <td>1.886673</td>\n",
       "      <td>16202.0</td>\n",
       "      <td>70.0-74.9</td>\n",
       "      <td>Zone 1</td>\n",
       "      <td>An excellent one bedroom flat situated on the ...</td>\n",
       "      <td>3447.415903</td>\n",
       "      <td>0.798279</td>\n",
       "    </tr>\n",
       "    <tr>\n",
       "      <th>28484</th>\n",
       "      <td>155613146</td>\n",
       "      <td>1 bedroom apartment for rent in Apartment ,  N...</td>\n",
       "      <td>Apartment ,  Nine Elms Lane, London</td>\n",
       "      <td>SW8</td>\n",
       "      <td>5HE</td>\n",
       "      <td>1</td>\n",
       "      <td>1</td>\n",
       "      <td>Apartment</td>\n",
       "      <td>3900</td>\n",
       "      <td>900</td>\n",
       "      <td>...</td>\n",
       "      <td>[TFL]</td>\n",
       "      <td>Wandsworth</td>\n",
       "      <td>1</td>\n",
       "      <td>1.619129</td>\n",
       "      <td>819.0</td>\n",
       "      <td>&gt;=75.0</td>\n",
       "      <td>Zone 1</td>\n",
       "      <td>Leisure Facilities24hr SecurityTwo Double Bedr...</td>\n",
       "      <td>4088.660914</td>\n",
       "      <td>0.953858</td>\n",
       "    </tr>\n",
       "    <tr>\n",
       "      <th>28485</th>\n",
       "      <td>155966516</td>\n",
       "      <td>2 bedroom apartment for rent in Beaufort Road,...</td>\n",
       "      <td>Beaufort Road, St. Johns Court Beaufort Road, KT1</td>\n",
       "      <td>KT1</td>\n",
       "      <td>2TT</td>\n",
       "      <td>1</td>\n",
       "      <td>2</td>\n",
       "      <td>Apartment</td>\n",
       "      <td>1650</td>\n",
       "      <td>381</td>\n",
       "      <td>...</td>\n",
       "      <td>[NATIONAL_TRAIN]</td>\n",
       "      <td>Kingston upon Thames</td>\n",
       "      <td>6</td>\n",
       "      <td>10.405954</td>\n",
       "      <td>6871.0</td>\n",
       "      <td>0</td>\n",
       "      <td>Zone 6</td>\n",
       "      <td>Humphrey &amp; Brand are pleased to present this f...</td>\n",
       "      <td>1993.938799</td>\n",
       "      <td>0.827508</td>\n",
       "    </tr>\n",
       "    <tr>\n",
       "      <th>28486</th>\n",
       "      <td>97714892</td>\n",
       "      <td>2 bedroom apartment for rent in Park Street, L...</td>\n",
       "      <td>Park Street, London, W1K</td>\n",
       "      <td>W1K</td>\n",
       "      <td>7JF</td>\n",
       "      <td>2</td>\n",
       "      <td>2</td>\n",
       "      <td>Apartment</td>\n",
       "      <td>7323</td>\n",
       "      <td>1690</td>\n",
       "      <td>...</td>\n",
       "      <td>[TFL]</td>\n",
       "      <td>Westminster</td>\n",
       "      <td>1</td>\n",
       "      <td>1.284522</td>\n",
       "      <td>1342.0</td>\n",
       "      <td>&gt;=75.0</td>\n",
       "      <td>Zone 1</td>\n",
       "      <td>A newly refurbished first floor apartment, fin...</td>\n",
       "      <td>6823.409218</td>\n",
       "      <td>1.073217</td>\n",
       "    </tr>\n",
       "    <tr>\n",
       "      <th>28487</th>\n",
       "      <td>155614922</td>\n",
       "      <td>3 bedroom ground floor flat for rent in Litchf...</td>\n",
       "      <td>Litchfield Way, London, NW11</td>\n",
       "      <td>NW11</td>\n",
       "      <td>6NE</td>\n",
       "      <td>1</td>\n",
       "      <td>3</td>\n",
       "      <td>other</td>\n",
       "      <td>1850</td>\n",
       "      <td>427</td>\n",
       "      <td>...</td>\n",
       "      <td>[TFL]</td>\n",
       "      <td>Barnet</td>\n",
       "      <td>3</td>\n",
       "      <td>5.883477</td>\n",
       "      <td>23701.0</td>\n",
       "      <td>0</td>\n",
       "      <td>Zone 3</td>\n",
       "      <td>We are pleased offer this beautiful spacious 3...</td>\n",
       "      <td>3425.602028</td>\n",
       "      <td>0.540051</td>\n",
       "    </tr>\n",
       "  </tbody>\n",
       "</table>\n",
       "<p>28488 rows × 44 columns</p>\n",
       "</div>"
      ]
     },
     "execution_count": 12,
     "metadata": {},
     "output_type": "execute_result"
    }
   ],
   "execution_count": 12
  },
  {
   "metadata": {
    "ExecuteTime": {
     "end_time": "2025-09-16T12:53:49.099802Z",
     "start_time": "2025-09-16T12:53:49.071469Z"
    }
   },
   "cell_type": "code",
   "source": [
    "# Assuming df is your original DataFrame\n",
    "rename_map = {\n",
    "    \"displayAddress\": \"display_address\",\n",
    "    \"outcode\": \"postcode_outcode\",\n",
    "    \"incode\": \"postcode_incode\",\n",
    "    \"propertyType\": \"property_type\",\n",
    "    \"secondaryPrice\": \"secondary_price_gbp\",\n",
    "    \"letAvailableDate\": \"let_available_date\",\n",
    "    \"deposit\": \"deposit_gbp\",\n",
    "    \"letType\": \"let_type\",\n",
    "    \"furnishType\": \"furnish_type\",\n",
    "    \"councilTaxExempt\": \"council_tax_exempt\",\n",
    "    \"councilTaxIncluded\": \"council_tax_included\",\n",
    "    \"councilTaxBand\": \"council_tax_band\",\n",
    "    \"features\": \"property_features\",\n",
    "    \"listingUpdateReason\": \"listing_update_reason\",\n",
    "    \"listingUpdateDate\": \"listing_update_date\",\n",
    "    \"firstVisibleDate\": \"first_visible_date\",\n",
    "    \"addedOn\": \"added_on\",\n",
    "    \"sizeSqFeetMin\": \"size_sqft_min\",\n",
    "    \"sizeSqFeetMax\": \"size_sqft_max\",\n",
    "    \"station_name1\": \"nearest_station1_name\",\n",
    "    \"station_name2\": \"nearest_station2_name\",\n",
    "    \"station_name3\": \"nearest_station3_name\",\n",
    "    \"distance_to_station1\": \"nearest_station1_distance_km\",\n",
    "    \"distance_to_station2\": \"nearest_station2_distance_km\",\n",
    "    \"distance_to_station3\": \"nearest_station3_distance_km\",\n",
    "    \"station_type1\": \"nearest_station1_type\",\n",
    "    \"station_type2\": \"nearest_station2_type\",\n",
    "    \"station_type3\": \"nearest_station3_type\",\n",
    "    \"borough\": \"borough\",\n",
    "    \"zone\": \"travel_zone\",\n",
    "    \"distance_to_center\": \"distance_to_center_km\",\n",
    "    \"index_right\": \"spatial_index\",\n",
    "    \"NoiseClass\": \"noise_level_class\",\n",
    "    \"zone_hex\": \"zone_hex\",\n",
    "    \"clean_description\": \"clean_description\",\n",
    "    \"price\": \"price_gbp\"\n",
    "}\n",
    "\n",
    "df = df.rename(columns=rename_map)\n",
    "\n",
    "# check result\n",
    "print(df.columns.tolist())\n"
   ],
   "id": "47f8ca8b44a80416",
   "outputs": [
    {
     "name": "stdout",
     "output_type": "stream",
     "text": [
      "['id', 'title', 'display_address', 'postcode_outcode', 'postcode_incode', 'bathrooms', 'bedrooms', 'property_type', 'price_gbp', 'secondary_price_gbp', 'let_available_date', 'deposit_gbp', 'let_type', 'furnish_type', 'council_tax_exempt', 'council_tax_included', 'council_tax_band', 'property_features', 'listing_update_reason', 'listing_update_date', 'first_visible_date', 'added_on', 'size_sqft_min', 'size_sqft_max', 'latitude', 'longitude', 'nearest_station1_name', 'nearest_station2_name', 'nearest_station3_name', 'nearest_station1_distance_km', 'nearest_station2_distance_km', 'nearest_station3_distance_km', 'nearest_station1_type', 'nearest_station2_type', 'nearest_station3_type', 'borough', 'travel_zone', 'distance_to_center_km', 'spatial_index', 'noise_level_class', 'zone_hex', 'description', 'predicted_price', 'pricing_index']\n"
     ]
    }
   ],
   "execution_count": 13
  },
  {
   "metadata": {
    "ExecuteTime": {
     "end_time": "2025-09-13T11:52:21.344670Z",
     "start_time": "2025-09-13T11:52:21.341944Z"
    }
   },
   "cell_type": "code",
   "source": [
    "drop_columns = [\n",
    "    \"zone_hex\",\n",
    "    \"spatial_index\"\n",
    "]\n",
    "\n",
    "df = df.drop(columns=drop_columns)\n",
    "\n",
    "df.rename(columns={\"clean_description\": \"property_description\",\"deposit_gdp\":\"deposit_included_or_not\"}, inplace=True)\n"
   ],
   "id": "8af58b6ce6b859e3",
   "outputs": [],
   "execution_count": 8
  },
  {
   "metadata": {
    "ExecuteTime": {
     "end_time": "2025-09-16T13:11:54.291604Z",
     "start_time": "2025-09-16T13:11:54.276636Z"
    }
   },
   "cell_type": "code",
   "source": [
    "# Example distribution you gave\n",
    "mapping = {\n",
    "    \"55.0-59.9\": \"low\",\n",
    "    \"60.0-64.9\": \"medium-low\",\n",
    "    \"65.0-69.9\": \"medium\",\n",
    "    \"70.0-74.9\": \"medium-high\",\n",
    "    \">=75.0\": \"high\",\n",
    "    \"0\": \"no_data\"   # if you have '0' as a placeholder\n",
    "}\n",
    "\n",
    "df[\"noise_level_class\"] = df[\"noise_level_class\"].map(mapping)"
   ],
   "id": "3c74ea3ab7e4abb6",
   "outputs": [],
   "execution_count": 15
  },
  {
   "metadata": {
    "ExecuteTime": {
     "end_time": "2025-09-16T13:11:59.027727Z",
     "start_time": "2025-09-16T13:11:59.019080Z"
    }
   },
   "cell_type": "code",
   "source": "df.rename(columns={\"deposit_gbp\":\"deposit_included_or_not\"}, inplace=True)",
   "id": "ede43bb7a6c3cee4",
   "outputs": [],
   "execution_count": 16
  },
  {
   "metadata": {
    "ExecuteTime": {
     "end_time": "2025-09-16T13:12:07.345703Z",
     "start_time": "2025-09-16T13:12:07.334664Z"
    }
   },
   "cell_type": "code",
   "source": "df.columns",
   "id": "13b80a2feaf76a56",
   "outputs": [
    {
     "data": {
      "text/plain": [
       "Index(['id', 'title', 'display_address', 'postcode_outcode', 'postcode_incode',\n",
       "       'bathrooms', 'bedrooms', 'property_type', 'price_gbp',\n",
       "       'secondary_price_gbp', 'let_available_date', 'deposit_included_or_not',\n",
       "       'let_type', 'furnish_type', 'council_tax_exempt',\n",
       "       'council_tax_included', 'council_tax_band', 'property_features',\n",
       "       'listing_update_reason', 'listing_update_date', 'first_visible_date',\n",
       "       'added_on', 'size_sqft_min', 'size_sqft_max', 'latitude', 'longitude',\n",
       "       'nearest_station1_name', 'nearest_station2_name',\n",
       "       'nearest_station3_name', 'nearest_station1_distance_km',\n",
       "       'nearest_station2_distance_km', 'nearest_station3_distance_km',\n",
       "       'nearest_station1_type', 'nearest_station2_type',\n",
       "       'nearest_station3_type', 'borough', 'travel_zone',\n",
       "       'distance_to_center_km', 'spatial_index', 'noise_level_class',\n",
       "       'zone_hex', 'description', 'predicted_price', 'pricing_index'],\n",
       "      dtype='object')"
      ]
     },
     "execution_count": 18,
     "metadata": {},
     "output_type": "execute_result"
    }
   ],
   "execution_count": 18
  },
  {
   "metadata": {
    "ExecuteTime": {
     "end_time": "2025-09-16T13:12:44.482631Z",
     "start_time": "2025-09-16T13:12:40.958284Z"
    }
   },
   "cell_type": "code",
   "source": "df.to_csv(\"../data/catboost_data.csv\", index=False)",
   "id": "d2e4886fc80fd282",
   "outputs": [],
   "execution_count": 19
  },
  {
   "metadata": {
    "ExecuteTime": {
     "end_time": "2025-10-05T10:27:42.165751Z",
     "start_time": "2025-10-05T10:27:41.850527Z"
    }
   },
   "cell_type": "code",
   "source": "file = pai.read_csv(\"../data/catboost_data2.csv\")",
   "id": "2eedb51268a8e99c",
   "outputs": [],
   "execution_count": 8
  },
  {
   "metadata": {
    "ExecuteTime": {
     "end_time": "2025-09-18T15:52:04.163959Z",
     "start_time": "2025-09-18T15:52:03.664197Z"
    }
   },
   "cell_type": "code",
   "source": [
    "# Semantic DataFrame\n",
    "df_ai = pai.create(\n",
    "    path=\"new-bot/rental-data-london3\",\n",
    "    df=file,\n",
    "    description=\"London real estate property listings with pricing, size, location, station proximity, and noise levels\",\n",
    "    columns=[\n",
    "        {\"name\": \"id\", \"type\": \"string\", \"description\": \"Unique identifier for each property listing\"},\n",
    "        {\"name\": \"title\", \"type\": \"string\", \"description\": \"Listing title\"},\n",
    "        {\"name\": \"display_address\", \"type\": \"string\", \"description\": \"Readable address of the property\"},\n",
    "        {\"name\": \"postcode_outcode\", \"type\": \"string\", \"description\": \"Outcode part of the UK postcode\"},\n",
    "        {\"name\": \"postcode_incode\", \"type\": \"string\", \"description\": \"Incode part of the UK postcode\"},\n",
    "        {\"name\": \"bathrooms\", \"type\": \"integer\", \"description\": \"Number of bathrooms\"},\n",
    "        {\"name\": \"bedrooms\", \"type\": \"integer\", \"description\": \"Number of bedrooms\"},\n",
    "        {\"name\": \"property_type\", \"type\": \"string\", \"description\": \"Type of property (flat, apartment, house, etc.)\"},\n",
    "        {\"name\": \"price_gbp\", \"type\": \"float\", \"description\": \"Listed price in GBP\"},\n",
    "        {\"name\": \"secondary_price_gbp\", \"type\": \"float\", \"description\": \"Secondary listing price (e.g. weekly rent) in GBP\"},\n",
    "        {\"name\": \"let_available_date\", \"type\": \"datetime\", \"description\": \"Date property is available to let, if known\"},\n",
    "        {\"name\": \"deposit_included_or_not\", \"type\": \"string\", \"description\": \"Deposit included or (e.g \"},\n",
    "        {\"name\": \"let_type\", \"type\": \"string\", \"description\": \"Letting type (short term, long term)\"},\n",
    "        {\"name\": \"furnish_type\", \"type\": \"string\", \"description\": \"Furnishing type (furnished, unfurnished, part furnished)\"},\n",
    "        {\"name\": \"council_tax_exempt\", \"type\": \"boolean\", \"description\": \"Whether council tax is exempt\"},\n",
    "        {\"name\": \"council_tax_included\", \"type\": \"boolean\", \"description\": \"Whether council tax is included in rent\"},\n",
    "        {\"name\": \"council_tax_band\", \"type\": \"string\", \"description\": \"Council tax band classification\"},\n",
    "        {\"name\": \"property_features\", \"type\": \"string\", \"description\": \"Key features of the property, e.g. garden, parking\"},\n",
    "        {\"name\": \"listing_update_reason\", \"type\": \"string\", \"description\": \"Reason for most recent listing update\"},\n",
    "        {\"name\": \"listing_update_date\", \"type\": \"datetime\", \"description\": \"Date of last listing update\"},\n",
    "        {\"name\": \"first_visible_date\", \"type\": \"datetime\", \"description\": \"Date listing first became visible\"},\n",
    "        {\"name\": \"added_on\", \"type\": \"datetime\", \"description\": \"Date property was added to the platform\"},\n",
    "        {\"name\": \"size_sqft_min\", \"type\": \"float\", \"description\": \"Minimum property size in square feet\"},\n",
    "        {\"name\": \"size_sqft_max\", \"type\": \"float\", \"description\": \"Maximum property size in square feet\"},\n",
    "        {\"name\": \"latitude\", \"type\": \"float\", \"description\": \"Latitude of the property\"},\n",
    "        {\"name\": \"longitude\", \"type\": \"float\", \"description\": \"Longitude of the property\"},\n",
    "        {\"name\": \"nearest_station1_name\", \"type\": \"string\", \"description\": \"Name of the nearest station\"},\n",
    "        {\"name\": \"nearest_station2_name\", \"type\": \"string\", \"description\": \"Name of the second nearest station\"},\n",
    "        {\"name\": \"nearest_station3_name\", \"type\": \"string\", \"description\": \"Name of the third nearest station\"},\n",
    "        {\"name\": \"nearest_station1_distance_km\", \"type\": \"float\", \"description\": \"Distance to nearest station in km\"},\n",
    "        {\"name\": \"nearest_station2_distance_km\", \"type\": \"float\", \"description\": \"Distance to second nearest station in km\"},\n",
    "        {\"name\": \"nearest_station3_distance_km\", \"type\": \"float\", \"description\": \"Distance to third nearest station in km\"},\n",
    "        {\"name\": \"nearest_station1_type\", \"type\": \"string\", \"description\": \"Type of nearest station (tube, national train, DLR, etc.)\"},\n",
    "        {\"name\": \"nearest_station2_type\", \"type\": \"string\", \"description\": \"Type of second nearest station\"},\n",
    "        {\"name\": \"nearest_station3_type\", \"type\": \"string\", \"description\": \"Type of third nearest station\"},\n",
    "        {\"name\": \"borough\", \"type\": \"string\", \"description\": \"London borough of the property\"},\n",
    "        {\"name\": \"travel_zone\", \"type\": \"string\", \"description\": \"London Travelcard zone\"},\n",
    "        {\"name\": \"distance_to_center_km\", \"type\": \"float\", \"description\": \"Distance from property to central London (Charing Cross)\"},\n",
    "        {\"name\": \"noise_level_class\", \"type\": \"string\", \"description\": \"Noise classification (low, medium, high, no_data)\"},\n",
    "        {\"name\": \"description\", \"type\": \"string\", \"description\": \"Cleaned free-text property description\"},\n",
    "        {\"name\": \"predicted_price\", \"type\": \"float\",  \"description\": \"Expected price in GBP predicted by a regression model using property features. Serves as a benchmark to compare against the actual listed price.\"},\n",
    "        {\"name\": \"pricing_index\", \"type\": \"float\", \"description\": \"If less than 1, the property is good value. If greater than 1, it is poor value).\"}\n",
    "    ]\n",
    ")\n"
   ],
   "id": "b0449acada44c162",
   "outputs": [
    {
     "name": "stdout",
     "output_type": "stream",
     "text": [
      "Dataset saved successfully to path: new-bot/rental-data-london2\n"
     ]
    }
   ],
   "execution_count": 3
  },
  {
   "metadata": {
    "ExecuteTime": {
     "end_time": "2025-09-16T16:48:24.945679Z",
     "start_time": "2025-09-16T16:48:06.856853Z"
    }
   },
   "cell_type": "code",
   "source": [
    "import pandas as pd\n",
    "import ast\n",
    "import os\n",
    "import pandasai as pai\n",
    "from dotenv import load_dotenv\n",
    "\n",
    "load_dotenv()\n",
    "\n",
    "# Load PandasAI dataset once at module level\n",
    "df_ai = pai.load(\"new-bot/rental-data-london\")\n",
    "\n",
    "\n",
    "response = df_ai.chat(\"show on map 5 properties in Camden with the lowest pricing index\")\n",
    "print(response)"
   ],
   "id": "1022ee756595865e",
   "outputs": [
    {
     "name": "stdout",
     "output_type": "stream",
     "text": [
      "Dataset loaded successfully.\n",
      "          id                                              title  \\\n",
      "0  155910110  1 bedroom house share for rent in Clarence Gar...   \n",
      "1  155931722  2 bedroom apartment for rent in Malden Road, L...   \n",
      "2  155890334  1 bedroom flat for rent in Pied Bull Court, \\n...   \n",
      "3  155830841  2 bedroom flat for rent in East Heath Road, \\n...   \n",
      "4  156464408  2 bedroom flat for rent in Fordwych Road, Lond...   \n",
      "\n",
      "                              display_address   latitude  longitude  \\\n",
      "0               Clarence Gardens, London, NW1  51.528088  -0.142130   \n",
      "1                    Malden Road, London, NW5  51.550300  -0.154362   \n",
      "2        Pied Bull Court, \\nGalen Place, WC1A  51.518563  -0.124067   \n",
      "3           East Heath Road, \\nHampstead, NW3  51.561026  -0.177186   \n",
      "4  Fordwych Road, London, West Hampstead, NW2  51.551190  -0.206104   \n",
      "\n",
      "   pricing_index  \n",
      "0       0.364836  \n",
      "1       0.556909  \n",
      "2       0.596303  \n",
      "3       0.611879  \n",
      "4       0.617852  \n"
     ]
    }
   ],
   "execution_count": 2
  },
  {
   "metadata": {
    "ExecuteTime": {
     "end_time": "2025-09-16T16:50:56.170753Z",
     "start_time": "2025-09-16T16:50:56.150465Z"
    }
   },
   "cell_type": "code",
   "source": "type(response)",
   "id": "a3902041f4c24cfa",
   "outputs": [
    {
     "data": {
      "text/plain": [
       "pandasai.core.response.dataframe.DataFrameResponse"
      ]
     },
     "execution_count": 4,
     "metadata": {},
     "output_type": "execute_result"
    }
   ],
   "execution_count": 4
  },
  {
   "metadata": {
    "ExecuteTime": {
     "end_time": "2025-09-16T13:54:53.191164Z",
     "start_time": "2025-09-16T13:54:30.018244Z"
    }
   },
   "cell_type": "code",
   "source": [
    "response = df_ai.chat(\"What is the average rent for 3-bedroom apartments in Zone 1?\")\n",
    "print(response)"
   ],
   "id": "a2c901d0147e43a2",
   "outputs": [
    {
     "name": "stdout",
     "output_type": "stream",
     "text": [
      "6578.383603238866\n"
     ]
    },
    {
     "name": "stderr",
     "output_type": "stream",
     "text": [
      "<string>:3: FutureWarning: Series.__getitem__ treating keys as positions is deprecated. In a future version, integer keys will always be treated as labels (consistent with DataFrame behavior). To access a value by position, use `ser.iloc[pos]`\n"
     ]
    }
   ],
   "execution_count": 24
  }
 ],
 "metadata": {
  "kernelspec": {
   "display_name": "Python 3",
   "language": "python",
   "name": "python3"
  },
  "language_info": {
   "codemirror_mode": {
    "name": "ipython",
    "version": 2
   },
   "file_extension": ".py",
   "mimetype": "text/x-python",
   "name": "python",
   "nbconvert_exporter": "python",
   "pygments_lexer": "ipython2",
   "version": "2.7.6"
  }
 },
 "nbformat": 4,
 "nbformat_minor": 5
}
