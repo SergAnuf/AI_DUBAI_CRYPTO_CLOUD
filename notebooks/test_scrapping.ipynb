{
 "cells": [
  {
   "cell_type": "code",
   "id": "initial_id",
   "metadata": {
    "collapsed": true,
    "ExecuteTime": {
     "end_time": "2025-10-10T12:19:49.989978Z",
     "start_time": "2025-10-10T12:19:49.943286Z"
    }
   },
   "source": [
    "import os\n",
    "import re\n",
    "import json\n",
    "os.chdir(\"..\")  # move up one level: notebooks → project root\n",
    "from src.scrap_data import run_scraper_safe"
   ],
   "outputs": [],
   "execution_count": 1
  },
  {
   "metadata": {
    "ExecuteTime": {
     "end_time": "2025-10-10T12:19:51.813636Z",
     "start_time": "2025-10-10T12:19:51.809638Z"
    }
   },
   "cell_type": "code",
   "source": [
    "def detect_rightmove_links(query: str):\n",
    "    \"\"\"\n",
    "    Detect any Rightmove property URLs within a text string.\n",
    "    Returns a list of cleaned Rightmove URLs if found, otherwise \"not_rightmove_links\".\n",
    "    \"\"\"\n",
    "\n",
    "    # Remove fragments like #/?channel=RES_LET or #... after each URL\n",
    "    cleaned_query = re.sub(r\"#.*?(?=\\s|,|$)\", \"\", query.strip())\n",
    "\n",
    "    # Regex to match Rightmove property URLs\n",
    "    pattern = r\"https?://(?:www\\.)?rightmove\\.co\\.uk/properties/\\d+\"\n",
    "\n",
    "    # Find all URLs in text\n",
    "    matches = re.findall(pattern, cleaned_query)\n",
    "\n",
    "    if matches:\n",
    "        # Deduplicate and return clean list\n",
    "        unique_links = list(dict.fromkeys(matches))\n",
    "        return unique_links\n",
    "    else:\n",
    "        return []"
   ],
   "id": "d5604aa66a8b9aeb",
   "outputs": [],
   "execution_count": 2
  },
  {
   "metadata": {
    "ExecuteTime": {
     "end_time": "2025-10-10T12:19:54.733005Z",
     "start_time": "2025-10-10T12:19:54.729554Z"
    }
   },
   "cell_type": "code",
   "source": [
    "ans1 = detect_rightmove_links(\"hello world https://www.rightmove.co.uk/properties/12345\")\n",
    "\n",
    "print(ans1)"
   ],
   "id": "24dde34ecfe51532",
   "outputs": [
    {
     "name": "stdout",
     "output_type": "stream",
     "text": [
      "['https://www.rightmove.co.uk/properties/12345']\n"
     ]
    }
   ],
   "execution_count": 3
  },
  {
   "metadata": {
    "ExecuteTime": {
     "end_time": "2025-10-10T12:19:56.313752Z",
     "start_time": "2025-10-10T12:19:56.308983Z"
    }
   },
   "cell_type": "code",
   "source": [
    "ans2 = detect_rightmove_links(\"https://www.rightmove.co.uk/properties/166872251#/?channel=RES_LET\")\n",
    "\n",
    "print(ans2)"
   ],
   "id": "e0a858585f99df59",
   "outputs": [
    {
     "name": "stdout",
     "output_type": "stream",
     "text": [
      "['https://www.rightmove.co.uk/properties/166872251']\n"
     ]
    }
   ],
   "execution_count": 4
  },
  {
   "metadata": {
    "ExecuteTime": {
     "end_time": "2025-10-10T12:19:58.723931Z",
     "start_time": "2025-10-10T12:19:58.720427Z"
    }
   },
   "cell_type": "code",
   "source": [
    "ans3 = detect_rightmove_links(\"https://www.rightmove.co.uk/properties/168054062#/?channel=RES_LET,https://www.rightmove.co.uk/properties/166872251#/?channel=RES_LET\")\n",
    "\n",
    "print(ans3)"
   ],
   "id": "d84fa02e933eb7af",
   "outputs": [
    {
     "name": "stdout",
     "output_type": "stream",
     "text": [
      "['https://www.rightmove.co.uk/properties/168054062', 'https://www.rightmove.co.uk/properties/166872251']\n"
     ]
    }
   ],
   "execution_count": 5
  },
  {
   "metadata": {
    "ExecuteTime": {
     "end_time": "2025-10-10T12:20:00.817924Z",
     "start_time": "2025-10-10T12:20:00.815725Z"
    }
   },
   "cell_type": "code",
   "source": [
    "ans4 = detect_rightmove_links(\"In future we beleive https://www.rightmove.co.uk/properties/168054062#/?channel=RES_LET,https://www.rightmove.co.uk/properties/166872251#/?channel=RES_LET\")\n",
    "\n",
    "print(ans4)"
   ],
   "id": "244b7fa7691f9518",
   "outputs": [
    {
     "name": "stdout",
     "output_type": "stream",
     "text": [
      "['https://www.rightmove.co.uk/properties/168054062', 'https://www.rightmove.co.uk/properties/166872251']\n"
     ]
    }
   ],
   "execution_count": 6
  },
  {
   "metadata": {
    "ExecuteTime": {
     "end_time": "2025-10-10T12:20:02.607328Z",
     "start_time": "2025-10-10T12:20:02.604064Z"
    }
   },
   "cell_type": "code",
   "source": [
    "ans5 = detect_rightmove_links(\"In future we beleive https://www.rightmove.co.uk/properties/168054062#/?channel=RES_LET https://www.rightmove.co.uk/properties/166872251#/?channel=RES_LET\")\n",
    "\n",
    "print(ans5)"
   ],
   "id": "d3992904f3a09cdf",
   "outputs": [
    {
     "name": "stdout",
     "output_type": "stream",
     "text": [
      "['https://www.rightmove.co.uk/properties/168054062', 'https://www.rightmove.co.uk/properties/166872251']\n"
     ]
    }
   ],
   "execution_count": 7
  },
  {
   "metadata": {
    "ExecuteTime": {
     "end_time": "2025-10-10T12:20:05.044889Z",
     "start_time": "2025-10-10T12:20:05.042479Z"
    }
   },
   "cell_type": "code",
   "source": [
    "ans6 = detect_rightmove_links(\"In future we beleive https://www.rightmove.co.uk/properties/168054062#/?channel=RES_LET   https://www.rightmove.co.uk/properties/166872251#/?channel=RES_LET\"   \"https://www.rightmove.co.uk/properties\"   )\n",
    "\n",
    "print(ans6)"
   ],
   "id": "7dc1a4e506226ae0",
   "outputs": [
    {
     "name": "stdout",
     "output_type": "stream",
     "text": [
      "['https://www.rightmove.co.uk/properties/168054062', 'https://www.rightmove.co.uk/properties/166872251']\n"
     ]
    }
   ],
   "execution_count": 8
  },
  {
   "metadata": {
    "ExecuteTime": {
     "end_time": "2025-10-10T12:20:06.808563Z",
     "start_time": "2025-10-10T12:20:06.803281Z"
    }
   },
   "cell_type": "code",
   "source": "ans6",
   "id": "1f69af194fb88cf3",
   "outputs": [
    {
     "data": {
      "text/plain": [
       "['https://www.rightmove.co.uk/properties/168054062',\n",
       " 'https://www.rightmove.co.uk/properties/166872251']"
      ]
     },
     "execution_count": 9,
     "metadata": {},
     "output_type": "execute_result"
    }
   ],
   "execution_count": 9
  },
  {
   "metadata": {
    "ExecuteTime": {
     "end_time": "2025-10-10T12:21:58.467870Z",
     "start_time": "2025-10-10T12:20:09.907444Z"
    }
   },
   "cell_type": "code",
   "source": "output = run_scraper_safe(ans6)",
   "id": "2a7718d3ce3d6b83",
   "outputs": [
    {
     "ename": "KeyboardInterrupt",
     "evalue": "",
     "output_type": "error",
     "traceback": [
      "\u001B[0;31m---------------------------------------------------------------------------\u001B[0m",
      "\u001B[0;31mKeyboardInterrupt\u001B[0m                         Traceback (most recent call last)",
      "Cell \u001B[0;32mIn[10], line 1\u001B[0m\n\u001B[0;32m----> 1\u001B[0m output \u001B[38;5;241m=\u001B[39m \u001B[43mrun_scraper_safe\u001B[49m\u001B[43m(\u001B[49m\u001B[43mans6\u001B[49m\u001B[43m)\u001B[49m\n",
      "File \u001B[0;32m~/PycharmProjects/AI_DUBAI_CRYPTO_CLOUD/src/scrap_data.py:146\u001B[0m, in \u001B[0;36mrun_scraper_safe\u001B[0;34m(urls)\u001B[0m\n\u001B[1;32m    142\u001B[0m \u001B[38;5;28;01mif\u001B[39;00m loop \u001B[38;5;129;01mand\u001B[39;00m loop\u001B[38;5;241m.\u001B[39mis_running():\n\u001B[1;32m    143\u001B[0m     \u001B[38;5;66;03m# ⏱ We're inside an existing running loop (e.g. Streamlit/Jupyter)\u001B[39;00m\n\u001B[1;32m    144\u001B[0m     \u001B[38;5;66;03m# Use asyncio.run_coroutine_threadsafe for proper sync execution\u001B[39;00m\n\u001B[1;32m    145\u001B[0m     future \u001B[38;5;241m=\u001B[39m asyncio\u001B[38;5;241m.\u001B[39mrun_coroutine_threadsafe(scrape_properties(urls), loop)\n\u001B[0;32m--> 146\u001B[0m     \u001B[38;5;28;01mreturn\u001B[39;00m \u001B[43mfuture\u001B[49m\u001B[38;5;241;43m.\u001B[39;49m\u001B[43mresult\u001B[49m\u001B[43m(\u001B[49m\u001B[43m)\u001B[49m  \u001B[38;5;66;03m# waits for completion\u001B[39;00m\n\u001B[1;32m    147\u001B[0m \u001B[38;5;28;01melse\u001B[39;00m:\n\u001B[1;32m    148\u001B[0m     \u001B[38;5;66;03m# 🐍 Normal synchronous environment\u001B[39;00m\n\u001B[1;32m    149\u001B[0m     \u001B[38;5;28;01mreturn\u001B[39;00m asyncio\u001B[38;5;241m.\u001B[39mrun(scrape_properties(urls))\n",
      "File \u001B[0;32m/usr/lib/python3.10/concurrent/futures/_base.py:453\u001B[0m, in \u001B[0;36mFuture.result\u001B[0;34m(self, timeout)\u001B[0m\n\u001B[1;32m    450\u001B[0m \u001B[38;5;28;01melif\u001B[39;00m \u001B[38;5;28mself\u001B[39m\u001B[38;5;241m.\u001B[39m_state \u001B[38;5;241m==\u001B[39m FINISHED:\n\u001B[1;32m    451\u001B[0m     \u001B[38;5;28;01mreturn\u001B[39;00m \u001B[38;5;28mself\u001B[39m\u001B[38;5;241m.\u001B[39m__get_result()\n\u001B[0;32m--> 453\u001B[0m \u001B[38;5;28;43mself\u001B[39;49m\u001B[38;5;241;43m.\u001B[39;49m\u001B[43m_condition\u001B[49m\u001B[38;5;241;43m.\u001B[39;49m\u001B[43mwait\u001B[49m\u001B[43m(\u001B[49m\u001B[43mtimeout\u001B[49m\u001B[43m)\u001B[49m\n\u001B[1;32m    455\u001B[0m \u001B[38;5;28;01mif\u001B[39;00m \u001B[38;5;28mself\u001B[39m\u001B[38;5;241m.\u001B[39m_state \u001B[38;5;129;01min\u001B[39;00m [CANCELLED, CANCELLED_AND_NOTIFIED]:\n\u001B[1;32m    456\u001B[0m     \u001B[38;5;28;01mraise\u001B[39;00m CancelledError()\n",
      "File \u001B[0;32m/usr/lib/python3.10/threading.py:320\u001B[0m, in \u001B[0;36mCondition.wait\u001B[0;34m(self, timeout)\u001B[0m\n\u001B[1;32m    318\u001B[0m \u001B[38;5;28;01mtry\u001B[39;00m:    \u001B[38;5;66;03m# restore state no matter what (e.g., KeyboardInterrupt)\u001B[39;00m\n\u001B[1;32m    319\u001B[0m     \u001B[38;5;28;01mif\u001B[39;00m timeout \u001B[38;5;129;01mis\u001B[39;00m \u001B[38;5;28;01mNone\u001B[39;00m:\n\u001B[0;32m--> 320\u001B[0m         \u001B[43mwaiter\u001B[49m\u001B[38;5;241;43m.\u001B[39;49m\u001B[43macquire\u001B[49m\u001B[43m(\u001B[49m\u001B[43m)\u001B[49m\n\u001B[1;32m    321\u001B[0m         gotit \u001B[38;5;241m=\u001B[39m \u001B[38;5;28;01mTrue\u001B[39;00m\n\u001B[1;32m    322\u001B[0m     \u001B[38;5;28;01melse\u001B[39;00m:\n",
      "\u001B[0;31mKeyboardInterrupt\u001B[0m: "
     ]
    }
   ],
   "execution_count": 10
  },
  {
   "metadata": {
    "ExecuteTime": {
     "end_time": "2025-10-10T12:12:14.801278Z",
     "start_time": "2025-10-10T12:12:14.796157Z"
    }
   },
   "cell_type": "code",
   "source": "output",
   "id": "624ea8b1e688560b",
   "outputs": [
    {
     "data": {
      "text/plain": [
       "<Task finished name='Task-5' coro=<scrape_properties() done, defined at /home/zcemg08/PycharmProjects/AI_DUBAI_CRYPTO_CLOUD/src/scrap_data.py:92> result=[{'address': {'countryCode': 'GB', 'displayAddress': 'Devonshire Place, Marylebone', 'incode': '6HJ', 'outcode': 'W1G', ...}, 'agent': {'branch_id': 74510, 'name': 'Compton Reeback, London', 'telephone': None}, 'bathrooms': 1, 'bedrooms': 1, ...}, {'address': {'countryCode': 'GB', 'displayAddress': 'Bryanston Square, Marylebone', 'incode': '7LL', 'outcode': 'W1H', ...}, 'agent': {'branch_id': 62293, 'name': 'Dexters, Marylebone', 'telephone': None}, 'bathrooms': 1, 'bedrooms': 1, ...}]>"
      ]
     },
     "execution_count": 31,
     "metadata": {},
     "output_type": "execute_result"
    }
   ],
   "execution_count": 31
  },
  {
   "metadata": {
    "ExecuteTime": {
     "end_time": "2025-10-10T12:14:49.454372Z",
     "start_time": "2025-10-10T12:14:49.450982Z"
    }
   },
   "cell_type": "code",
   "source": [
    "run_scraper_safe([\"https://www.rightmove.co.uk/properties/168054062\",\n",
    " \"https://www.rightmove.co.uk/properties/166872251\"])"
   ],
   "id": "4ebc63fa4786c44b",
   "outputs": [
    {
     "data": {
      "text/plain": [
       "<Task pending name='Task-11' coro=<scrape_properties() running at /home/zcemg08/PycharmProjects/AI_DUBAI_CRYPTO_CLOUD/src/scrap_data.py:92>>"
      ]
     },
     "execution_count": 34,
     "metadata": {},
     "output_type": "execute_result"
    }
   ],
   "execution_count": 34
  }
 ],
 "metadata": {
  "kernelspec": {
   "display_name": "Python 3",
   "language": "python",
   "name": "python3"
  },
  "language_info": {
   "codemirror_mode": {
    "name": "ipython",
    "version": 2
   },
   "file_extension": ".py",
   "mimetype": "text/x-python",
   "name": "python",
   "nbconvert_exporter": "python",
   "pygments_lexer": "ipython2",
   "version": "2.7.6"
  }
 },
 "nbformat": 4,
 "nbformat_minor": 5
}
