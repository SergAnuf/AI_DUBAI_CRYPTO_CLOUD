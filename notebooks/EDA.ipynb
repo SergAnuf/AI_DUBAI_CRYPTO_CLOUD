{
 "cells": [
  {
   "cell_type": "code",
   "execution_count": 1,
   "id": "de31c065",
   "metadata": {},
   "outputs": [],
   "source": [
    "import pandas as pd"
   ]
  },
  {
   "cell_type": "code",
   "execution_count": 4,
   "id": "1bc2e943",
   "metadata": {},
   "outputs": [],
   "source": [
    "df = pd.read_csv(\"../data/uae_real_estate_2024.csv\")"
   ]
  }
 ],
 "metadata": {
  "kernelspec": {
   "display_name": ".chatbot_env",
   "language": "python",
   "name": "python3"
  },
  "language_info": {
   "codemirror_mode": {
    "name": "ipython",
    "version": 3
   },
   "file_extension": ".py",
   "mimetype": "text/x-python",
   "name": "python",
   "nbconvert_exporter": "python",
   "pygments_lexer": "ipython3",
   "version": "3.12.3"
  }
 },
 "nbformat": 4,
 "nbformat_minor": 5
}
