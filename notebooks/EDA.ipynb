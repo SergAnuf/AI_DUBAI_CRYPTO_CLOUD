{
 "cells": [
  {
   "cell_type": "code",
   "execution_count": 1,
   "id": "de31c065",
   "metadata": {},
   "outputs": [],
   "source": [
    "import pandas as pd"
   ]
  },
  {
   "cell_type": "code",
   "execution_count": 2,
   "id": "1bc2e943",
   "metadata": {},
   "outputs": [],
   "source": [
    "df = pd.read_csv(\"../data/uae_real_estate_2024.csv\")"
   ]
  },
  {
   "cell_type": "code",
   "execution_count": 7,
   "id": "97d5298e",
   "metadata": {},
   "outputs": [
    {
     "data": {
      "application/vnd.microsoft.datawrangler.viewer.v0+json": {
       "columns": [
        {
         "name": "index",
         "rawType": "int64",
         "type": "integer"
        },
        {
         "name": "title",
         "rawType": "object",
         "type": "string"
        },
        {
         "name": "displayAddress",
         "rawType": "object",
         "type": "string"
        },
        {
         "name": "bathrooms",
         "rawType": "object",
         "type": "string"
        },
        {
         "name": "bedrooms",
         "rawType": "object",
         "type": "string"
        },
        {
         "name": "addedOn",
         "rawType": "object",
         "type": "string"
        },
        {
         "name": "type",
         "rawType": "object",
         "type": "string"
        },
        {
         "name": "price",
         "rawType": "int64",
         "type": "integer"
        },
        {
         "name": "verified",
         "rawType": "bool",
         "type": "boolean"
        },
        {
         "name": "priceDuration",
         "rawType": "object",
         "type": "string"
        },
        {
         "name": "sizeMin",
         "rawType": "object",
         "type": "string"
        },
        {
         "name": "furnishing",
         "rawType": "object",
         "type": "string"
        },
        {
         "name": "description",
         "rawType": "object",
         "type": "string"
        }
       ],
       "ref": "a2f04dae-b5a5-402b-93d1-0eb4d5d579c6",
       "rows": [
        [
         "0",
         "Great ROI I High Floor I Creek View",
         "Binghatti Canal, Business Bay, Dubai",
         "3",
         "2",
         "2024-08-14T12:02:53Z",
         "Residential for Sale",
         "2500000",
         "True",
         "sell",
         "1323 sqft",
         "NO",
         "MNA Properties is delighted to offer this apartment located in the well-esteemed Binghatti Canal, situated in the heart of Business Bay, Dubai, UAE. The 2BR apartment with the most attractive layout based on the high floor and offers the breathtaking panoramic view of Business Bay Canal; near Burj Khalifa.\n\nTo arrange a viewing or to find out more, please contact Amir via phone or Whatsapp on +971581684981 or email at amir.m@mnaproperties.ae\n\nProperty Features:\n2 Bedrooms\n2 Bathrooms + Guest room\nSize 1,323 sq. ft.\n2 Balconies\nPrivate Jacuzzi / Small Pool\nCanal View\n\nCan be sold Unfurnished as well\n\nBinghatti Canal Residences is a newly built project in Business Bay, Dubai that features symbolic design elements to generate a sense of community. Binghatti Canal reflects Binghatti Developers traditional Middle Eastern architecture and art, in addition to its modern design. Bingatti Canal finishing demonstrate the highest degree of quality and workmanship available only from the most reputable worldwide vendors. The interior design and fittings and fixtures in the 2BR Apartment are in perfect harmony, providing for an excellent balance between interior and outside spaces. Binghatti Canal residential complex - your gateway to luxury living in Business Bay."
        ],
        [
         "1",
         "Full Sea View | Beach Life | Brand New Residence",
         "La Vie, Jumeirah Beach Residence, Dubai",
         "3",
         "2",
         "2024-08-13T05:45:16Z",
         "Residential for Sale",
         "7200000",
         "True",
         "sell",
         "1410 sqft",
         "YES",
         "Apartment for sale in La Vie, Jumeirah Beach Residence\n\nMultiple Options\n\nLuxury 2-Bedroom apartment in La Vie, Jumeirah Beach Residences\n\nThis 2-bedroom apartment in La Vie offers a luxurious waterfront living experience with world-class amenities and unparalleled views.\n`Its Large Balcony overlooking Breathtaking views of Sea, the Palm Jumeirah.\n\nLocation: Prime spot in Jumeirah Beach Residences, Easy in and out.\nFeatures:\n\n-2 Bedroom\n-3 Baths\n-Sea Views and Beautiful Sunsets\n-High floor corner unit with a Large balcony\n-Master bedroom with dressing room\n-1 parking space\n- Price Beach Access\n\nFacilities and Amenities\nPrivate Beach\nVIP drop Off\n2 Swimming Pools (Kids &amp; Adults) Pool size - 31 Meter\nVolley-Ball Court\nBeach Club Drop Off\nClub House Pool\nModern huge GYM\nHigh ceiling lobby\nMultipurpose hall\nBespoke Outdoor Gym\nShaded Kids Area\nSteam &amp; Sauna Area (2)\nBBQ Area\nGreen Grass Sitting Area\nHigh speed Elevators\n\nConnectivity:\n-Direct Access from Marina\n-2 minutes to nearest shopping mall\n-5 minutes drive to Sheikh Zayed Road\n-10 minutes drive to Dubai Media City\n-20 minutes drive to Dubai International Airport"
        ],
        [
         "2",
         "Green Belt | Corner Unit | Spacious Plot",
         "La Rosa 6, Villanova, Dubai Land, Dubai",
         "3",
         "4",
         "2024-08-14T06:24:28Z",
         "Residential for Sale",
         "3600000",
         "True",
         "sell",
         "2324 sqft",
         "NO",
         "Treo Homes is very pleased to be bringing to the market our latest listing in La Rosa 6, Villa Nova.<br /><br />Features<br /> - 4 Bedrooms<br /> - Maids Room<br /> - 3 Bathrooms<br /> - Modern Interior<br /> - Open Living and Kitchen Area<br /> - Spacious Plot<br /> - Close to Pool and Park<br /> - Green Belt Single Row<br /> - Newest Handover<br /> - Vacant Now<br /><br />Entering the property, you are immediately greeted with an abundance of light. This 4 bedroom townhouse boasts ample living space downstairs, with an open living room and dining area. Downstairs with the 4th bedroom, a maids room, storage and powder room. The property is flooded with natural light with large sliding doors welcoming you to the spacious garden, perfect for entertaining. Upstairs the remaining three bedrooms are located. The master bedroom is equipped with a walk-in wardrobe and private balcony overlooking the green belt. The property is located in the highly sought after community of La Rosa 6 and situated close to pool/park.<br /><br />To get more information or to book a viewing, get hold of us now."
        ],
        [
         "3",
         "2BR+Study | Near Pool and Park | Private",
         "Springs 15, The Springs, Dubai",
         "3",
         "2",
         "2024-08-15T06:07:22Z",
         "Residential for Sale",
         "2999999",
         "True",
         "sell",
         "1647 sqft",
         "NO",
         "2 Bedrooms + Study | Near Pool &amp; Park | Private  \n\n- BUA 1,647 Sq,Ft\n- PLOT 1,985 Sq,Ft\n- 2 Bedrooms\n- Facing Pool &amp; Park\n- Private Plot\n- Well Maintained \n- Notice Served December\n- Landscaped Garden\n\nArabian Estates are delighted to present this private type 4M 2 bedrooms plus Study in Springs 15. The property is opposite the pool and park, walking distance to the big lake and situated in a very quiet and peaceful location. \n\nThe home offers a peaceful garden retreat, ideal for relaxing or entertaining. Residents will appreciate covered parking for two cars, enhancing convenience and security. The location is highly advantageous, with close proximity to The Lakes and Greater Lake Park, providing scenic surroundings and recreational opportunities.\n\nFor more information on this property or to arrange a viewing please get in contact on the details provided.\n\nPlease note all measurements and information are given to the best of our knowledge. Arabian Estates accept no liability for any incorrect details."
        ],
        [
         "4",
         "Vacant | Well Maintained | Area Expert",
         "Noor Townhouses, Town Square, Dubai",
         "3",
         "3",
         "2024-08-09T08:28:59Z",
         "Residential for Sale",
         "2449999",
         "True",
         "sell",
         "2105 sqft",
         "NO",
         "-Type 1\n-3 Bed+Maid\n-Close To Amenities\n-BUA: 2120 sq.ft\n-Plot: 2063 sq.ft\n\nWelcome to Town Square, where convenience and a sense of community coexist. Located around a bustling park, this community provides the ideal balance of leisure and activity. Savour the park&#39;s peaceful ambiance by holding outdoor events, enjoying picnics, and taking leisurely walks.\n\nRunning errands is convenient because everything you need is close by, including grocery stores, restaurants, and shops. Additionally, you can maximise your free time. Town Square is a thriving neighbourhood where convenience and comfort coexist peacefully, offering more than just a place to live. You have access to everything.\n\nThe best of city living is available in this townhouse with three bedrooms right in the middle of Town Square. This home offers the ideal balance of comfort and convenience with its contemporary style, roomy layout, and easy access to neighbouring amenities. This townhouse might be your next urban oasis, so don&#39;t pass it up!"
        ]
       ],
       "shape": {
        "columns": 12,
        "rows": 5
       }
      },
      "text/html": [
       "<div>\n",
       "<style scoped>\n",
       "    .dataframe tbody tr th:only-of-type {\n",
       "        vertical-align: middle;\n",
       "    }\n",
       "\n",
       "    .dataframe tbody tr th {\n",
       "        vertical-align: top;\n",
       "    }\n",
       "\n",
       "    .dataframe thead th {\n",
       "        text-align: right;\n",
       "    }\n",
       "</style>\n",
       "<table border=\"1\" class=\"dataframe\">\n",
       "  <thead>\n",
       "    <tr style=\"text-align: right;\">\n",
       "      <th></th>\n",
       "      <th>title</th>\n",
       "      <th>displayAddress</th>\n",
       "      <th>bathrooms</th>\n",
       "      <th>bedrooms</th>\n",
       "      <th>addedOn</th>\n",
       "      <th>type</th>\n",
       "      <th>price</th>\n",
       "      <th>verified</th>\n",
       "      <th>priceDuration</th>\n",
       "      <th>sizeMin</th>\n",
       "      <th>furnishing</th>\n",
       "      <th>description</th>\n",
       "    </tr>\n",
       "  </thead>\n",
       "  <tbody>\n",
       "    <tr>\n",
       "      <th>0</th>\n",
       "      <td>Great ROI I High Floor I Creek View</td>\n",
       "      <td>Binghatti Canal, Business Bay, Dubai</td>\n",
       "      <td>3</td>\n",
       "      <td>2</td>\n",
       "      <td>2024-08-14T12:02:53Z</td>\n",
       "      <td>Residential for Sale</td>\n",
       "      <td>2500000</td>\n",
       "      <td>True</td>\n",
       "      <td>sell</td>\n",
       "      <td>1323 sqft</td>\n",
       "      <td>NO</td>\n",
       "      <td>MNA Properties is delighted to offer this apar...</td>\n",
       "    </tr>\n",
       "    <tr>\n",
       "      <th>1</th>\n",
       "      <td>Full Sea View | Beach Life | Brand New Residence</td>\n",
       "      <td>La Vie, Jumeirah Beach Residence, Dubai</td>\n",
       "      <td>3</td>\n",
       "      <td>2</td>\n",
       "      <td>2024-08-13T05:45:16Z</td>\n",
       "      <td>Residential for Sale</td>\n",
       "      <td>7200000</td>\n",
       "      <td>True</td>\n",
       "      <td>sell</td>\n",
       "      <td>1410 sqft</td>\n",
       "      <td>YES</td>\n",
       "      <td>Apartment for sale in La Vie, Jumeirah Beach R...</td>\n",
       "    </tr>\n",
       "    <tr>\n",
       "      <th>2</th>\n",
       "      <td>Green Belt | Corner Unit | Spacious Plot</td>\n",
       "      <td>La Rosa 6, Villanova, Dubai Land, Dubai</td>\n",
       "      <td>3</td>\n",
       "      <td>4</td>\n",
       "      <td>2024-08-14T06:24:28Z</td>\n",
       "      <td>Residential for Sale</td>\n",
       "      <td>3600000</td>\n",
       "      <td>True</td>\n",
       "      <td>sell</td>\n",
       "      <td>2324 sqft</td>\n",
       "      <td>NO</td>\n",
       "      <td>Treo Homes is very pleased to be bringing to t...</td>\n",
       "    </tr>\n",
       "    <tr>\n",
       "      <th>3</th>\n",
       "      <td>2BR+Study | Near Pool and Park | Private</td>\n",
       "      <td>Springs 15, The Springs, Dubai</td>\n",
       "      <td>3</td>\n",
       "      <td>2</td>\n",
       "      <td>2024-08-15T06:07:22Z</td>\n",
       "      <td>Residential for Sale</td>\n",
       "      <td>2999999</td>\n",
       "      <td>True</td>\n",
       "      <td>sell</td>\n",
       "      <td>1647 sqft</td>\n",
       "      <td>NO</td>\n",
       "      <td>2 Bedrooms + Study | Near Pool &amp;amp; Park | Pr...</td>\n",
       "    </tr>\n",
       "    <tr>\n",
       "      <th>4</th>\n",
       "      <td>Vacant | Well Maintained | Area Expert</td>\n",
       "      <td>Noor Townhouses, Town Square, Dubai</td>\n",
       "      <td>3</td>\n",
       "      <td>3</td>\n",
       "      <td>2024-08-09T08:28:59Z</td>\n",
       "      <td>Residential for Sale</td>\n",
       "      <td>2449999</td>\n",
       "      <td>True</td>\n",
       "      <td>sell</td>\n",
       "      <td>2105 sqft</td>\n",
       "      <td>NO</td>\n",
       "      <td>-Type 1\\n-3 Bed+Maid\\n-Close To Amenities\\n-BU...</td>\n",
       "    </tr>\n",
       "  </tbody>\n",
       "</table>\n",
       "</div>"
      ],
      "text/plain": [
       "                                              title  \\\n",
       "0               Great ROI I High Floor I Creek View   \n",
       "1  Full Sea View | Beach Life | Brand New Residence   \n",
       "2          Green Belt | Corner Unit | Spacious Plot   \n",
       "3          2BR+Study | Near Pool and Park | Private   \n",
       "4            Vacant | Well Maintained | Area Expert   \n",
       "\n",
       "                            displayAddress bathrooms bedrooms  \\\n",
       "0     Binghatti Canal, Business Bay, Dubai         3        2   \n",
       "1  La Vie, Jumeirah Beach Residence, Dubai         3        2   \n",
       "2  La Rosa 6, Villanova, Dubai Land, Dubai         3        4   \n",
       "3           Springs 15, The Springs, Dubai         3        2   \n",
       "4      Noor Townhouses, Town Square, Dubai         3        3   \n",
       "\n",
       "                addedOn                  type    price  verified  \\\n",
       "0  2024-08-14T12:02:53Z  Residential for Sale  2500000      True   \n",
       "1  2024-08-13T05:45:16Z  Residential for Sale  7200000      True   \n",
       "2  2024-08-14T06:24:28Z  Residential for Sale  3600000      True   \n",
       "3  2024-08-15T06:07:22Z  Residential for Sale  2999999      True   \n",
       "4  2024-08-09T08:28:59Z  Residential for Sale  2449999      True   \n",
       "\n",
       "  priceDuration    sizeMin furnishing  \\\n",
       "0          sell  1323 sqft         NO   \n",
       "1          sell  1410 sqft        YES   \n",
       "2          sell  2324 sqft         NO   \n",
       "3          sell  1647 sqft         NO   \n",
       "4          sell  2105 sqft         NO   \n",
       "\n",
       "                                         description  \n",
       "0  MNA Properties is delighted to offer this apar...  \n",
       "1  Apartment for sale in La Vie, Jumeirah Beach R...  \n",
       "2  Treo Homes is very pleased to be bringing to t...  \n",
       "3  2 Bedrooms + Study | Near Pool &amp; Park | Pr...  \n",
       "4  -Type 1\\n-3 Bed+Maid\\n-Close To Amenities\\n-BU...  "
      ]
     },
     "execution_count": 7,
     "metadata": {},
     "output_type": "execute_result"
    }
   ],
   "source": [
    "df.head(5)"
   ]
  },
  {
   "cell_type": "code",
   "execution_count": 6,
   "id": "93300e9d",
   "metadata": {},
   "outputs": [
    {
     "data": {
      "application/vnd.microsoft.datawrangler.viewer.v0+json": {
       "columns": [
        {
         "name": "priceDuration",
         "rawType": "object",
         "type": "string"
        },
        {
         "name": "count",
         "rawType": "int64",
         "type": "integer"
        }
       ],
       "ref": "b62aefff-0821-4d31-9c08-8715cd35fe45",
       "rows": [
        [
         "sell",
         "5058"
        ]
       ],
       "shape": {
        "columns": 1,
        "rows": 1
       }
      },
      "text/plain": [
       "priceDuration\n",
       "sell    5058\n",
       "Name: count, dtype: int64"
      ]
     },
     "execution_count": 6,
     "metadata": {},
     "output_type": "execute_result"
    }
   ],
   "source": [
    "df['priceDuration'].value_counts()"
   ]
  },
  {
   "cell_type": "code",
   "execution_count": 8,
   "id": "d5aeceae",
   "metadata": {},
   "outputs": [
    {
     "data": {
      "application/vnd.microsoft.datawrangler.viewer.v0+json": {
       "columns": [
        {
         "name": "index",
         "rawType": "int64",
         "type": "integer"
        },
        {
         "name": "description",
         "rawType": "object",
         "type": "unknown"
        }
       ],
       "ref": "0237b132-e2db-4886-a65c-b905b11128fb",
       "rows": [
        [
         "0",
         "MNA Properties is delighted to offer this apartment located in the well-esteemed Binghatti Canal, situated in the heart of Business Bay, Dubai, UAE. The 2BR apartment with the most attractive layout based on the high floor and offers the breathtaking panoramic view of Business Bay Canal; near Burj Khalifa.\n\nTo arrange a viewing or to find out more, please contact Amir via phone or Whatsapp on +971581684981 or email at amir.m@mnaproperties.ae\n\nProperty Features:\n2 Bedrooms\n2 Bathrooms + Guest room\nSize 1,323 sq. ft.\n2 Balconies\nPrivate Jacuzzi / Small Pool\nCanal View\n\nCan be sold Unfurnished as well\n\nBinghatti Canal Residences is a newly built project in Business Bay, Dubai that features symbolic design elements to generate a sense of community. Binghatti Canal reflects Binghatti Developers traditional Middle Eastern architecture and art, in addition to its modern design. Bingatti Canal finishing demonstrate the highest degree of quality and workmanship available only from the most reputable worldwide vendors. The interior design and fittings and fixtures in the 2BR Apartment are in perfect harmony, providing for an excellent balance between interior and outside spaces. Binghatti Canal residential complex - your gateway to luxury living in Business Bay."
        ],
        [
         "1",
         "Apartment for sale in La Vie, Jumeirah Beach Residence\n\nMultiple Options\n\nLuxury 2-Bedroom apartment in La Vie, Jumeirah Beach Residences\n\nThis 2-bedroom apartment in La Vie offers a luxurious waterfront living experience with world-class amenities and unparalleled views.\n`Its Large Balcony overlooking Breathtaking views of Sea, the Palm Jumeirah.\n\nLocation: Prime spot in Jumeirah Beach Residences, Easy in and out.\nFeatures:\n\n-2 Bedroom\n-3 Baths\n-Sea Views and Beautiful Sunsets\n-High floor corner unit with a Large balcony\n-Master bedroom with dressing room\n-1 parking space\n- Price Beach Access\n\nFacilities and Amenities\nPrivate Beach\nVIP drop Off\n2 Swimming Pools (Kids &amp; Adults) Pool size - 31 Meter\nVolley-Ball Court\nBeach Club Drop Off\nClub House Pool\nModern huge GYM\nHigh ceiling lobby\nMultipurpose hall\nBespoke Outdoor Gym\nShaded Kids Area\nSteam &amp; Sauna Area (2)\nBBQ Area\nGreen Grass Sitting Area\nHigh speed Elevators\n\nConnectivity:\n-Direct Access from Marina\n-2 minutes to nearest shopping mall\n-5 minutes drive to Sheikh Zayed Road\n-10 minutes drive to Dubai Media City\n-20 minutes drive to Dubai International Airport"
        ],
        [
         "2",
         "Treo Homes is very pleased to be bringing to the market our latest listing in La Rosa 6, Villa Nova.<br /><br />Features<br /> - 4 Bedrooms<br /> - Maids Room<br /> - 3 Bathrooms<br /> - Modern Interior<br /> - Open Living and Kitchen Area<br /> - Spacious Plot<br /> - Close to Pool and Park<br /> - Green Belt Single Row<br /> - Newest Handover<br /> - Vacant Now<br /><br />Entering the property, you are immediately greeted with an abundance of light. This 4 bedroom townhouse boasts ample living space downstairs, with an open living room and dining area. Downstairs with the 4th bedroom, a maids room, storage and powder room. The property is flooded with natural light with large sliding doors welcoming you to the spacious garden, perfect for entertaining. Upstairs the remaining three bedrooms are located. The master bedroom is equipped with a walk-in wardrobe and private balcony overlooking the green belt. The property is located in the highly sought after community of La Rosa 6 and situated close to pool/park.<br /><br />To get more information or to book a viewing, get hold of us now."
        ],
        [
         "3",
         "2 Bedrooms + Study | Near Pool &amp; Park | Private  \n\n- BUA 1,647 Sq,Ft\n- PLOT 1,985 Sq,Ft\n- 2 Bedrooms\n- Facing Pool &amp; Park\n- Private Plot\n- Well Maintained \n- Notice Served December\n- Landscaped Garden\n\nArabian Estates are delighted to present this private type 4M 2 bedrooms plus Study in Springs 15. The property is opposite the pool and park, walking distance to the big lake and situated in a very quiet and peaceful location. \n\nThe home offers a peaceful garden retreat, ideal for relaxing or entertaining. Residents will appreciate covered parking for two cars, enhancing convenience and security. The location is highly advantageous, with close proximity to The Lakes and Greater Lake Park, providing scenic surroundings and recreational opportunities.\n\nFor more information on this property or to arrange a viewing please get in contact on the details provided.\n\nPlease note all measurements and information are given to the best of our knowledge. Arabian Estates accept no liability for any incorrect details."
        ],
        [
         "4",
         "-Type 1\n-3 Bed+Maid\n-Close To Amenities\n-BUA: 2120 sq.ft\n-Plot: 2063 sq.ft\n\nWelcome to Town Square, where convenience and a sense of community coexist. Located around a bustling park, this community provides the ideal balance of leisure and activity. Savour the park&#39;s peaceful ambiance by holding outdoor events, enjoying picnics, and taking leisurely walks.\n\nRunning errands is convenient because everything you need is close by, including grocery stores, restaurants, and shops. Additionally, you can maximise your free time. Town Square is a thriving neighbourhood where convenience and comfort coexist peacefully, offering more than just a place to live. You have access to everything.\n\nThe best of city living is available in this townhouse with three bedrooms right in the middle of Town Square. This home offers the ideal balance of comfort and convenience with its contemporary style, roomy layout, and easy access to neighbouring amenities. This townhouse might be your next urban oasis, so don&#39;t pass it up!"
        ],
        [
         "5",
         "Duplex | Penthouse | Best Downtown Views\n\n- Penthouse\n- Duplex\n- 7,059 Sq. Ft.\n- Five Bedroom \n- Burj Khalifa &amp; Fountain View\n- Best Downtown Views\n- Cinema Room \n- Large Terrace\n- Fully Furnished\n- Vacant on Transfer\n- Agent: Lee Weston on +971585778542, RERA BRN No. 46189\n\nRare Five Bedroom Duplex, Penthouse, now available for sale in, The Residences Tower 1. This fantastic 7,059 Sq. Ft. apartment comes equipped with an indoor gym, cinema room, jacuzzi and lots of outdoor space to enjoy the best views in Downtown of the Burj Khalifa and Fountain show. The master bedroom comes with a huge walk-in closet room. Call today to find out more and to arrange a private viewing tour.\n\nAlternatively visit our website www.allsoppandallsopp.com where you will find an extensive selection of properties available both for sale and for rent.\n\nPlease call Lee Weston on +971585778542 for more or to arrange a viewing.\n\nPlease note all measurements and information are given to the best of our knowledge. Allsopp &amp; Allsopp accept no liability for any incorrect details."
        ],
        [
         "6",
         "Property Features:\n* 2 Bedrooms\n* Unfurnished\n* High Floor\n* Built-In Wardrobes\n* Fully Fitted Kitchen\n* Laundry Room\n* 1 Covered Parking\n* Full Marina View\n\nDiscover contemporary luxury in this high-floor, unfurnished 2-bedroom apartment at Vida Residences Dubai Marina. The sleek and modern design is accentuated by clean lines and high-quality finishes, creating an aesthetic of timeless elegance. Enjoy breathtaking full marina views from the spacious living area, perfectly complemented by built-in wardrobes, a fully fitted kitchen, and a convenient laundry room. \n\nVida Residences Dubai Marina by Emaar Properties is a prestigious 50-story waterfront development offering 1 to 4-bedroom apartments. Managed by Vida Hotels and Resorts, this development exemplifies luxury and sophistication. Residents enjoy premium amenities, including a swimming pool, fitness gym, retail stores, kids&#39; play area, restaurants, and cafes. \n\nThe Metropolitan Group is the leading real estate agency in the UAE, proudly recognized as the third Best Workplace™ in 2024 in the Large Business category by Great Place to Work. We speak 44+ languages, offering our local and international clients exceptional service, expert advice, and comprehensive support in property sales, purchase and rentals."
        ],
        [
         "7",
         "AFS PROPERTIES Proudly presents this 3 Bedroom Villa in Anya 2, Arabian Ranches 3.\n\nAnya 2 is the latest development brought by Emaar Properties offering exclusively designed 3 &amp; 4-bedroom townhouses, lined with unparalleled facilities. It seamlessly blends contemporary design with timeless elegance, creating a distinctive landmark that stands out amidst the skyline.\n\nProperty Details:\n- Type 1M\n- Bedroom: 3 + Maid&#39;s Room\n- Bathroom: 4\n- Parking: 2\n- With Terrace\n- Laundry Room\n\nKey Amenities:\n\n- Gymnasium\n- Swimming Pool\n- Kids Play Area\n- Health Care Centres\n- Ample Parking Spaces\n- Retail Outlets\n- BBQ Area\n- Parks and Gardens\n- Jacuzzi\n- Bicycle &amp; Running Tracks\n\nNear Attractions:\nDubai Int Airport (21 min)\nThe Palm Jumeirah\nBurj Al Arab\nBeach\nAl Maktoum Airport\n\nArabian Ranches III by Emaar, May is a dream community for families seeking tranquillity and luxury living. With its lush green landscapes, spacious recreational areas, and elegant townhomes in two different architectural styles, May offers a unique blend of suburban harmony and urban modernity. Select from contemporary 3 and 4-bedroom family townhouses.\n\nKey Highlights\nContemporary 3 &amp; 4 bedroom premium townhouses\nFloor-to-ceiling windows offer natural lights and stunning views\nClose to many malls, shops retail outlets, and leisure facilities\nFlexible and accessible payment plan options are available\nNatural and verdant setting with various spaces for fun, recreation, and leisure\n\nANYA 2 - Arabian Ranches III is the ideal community for families looking for a friendly neighborhood. Anya 2 has a diverse range of enjoyable recreational activities facilitated by its expansive open spaces and picturesque scenery."
        ],
        [
         "8",
         "Brought to you F&amp;C Properties. This amazing, beautiful and spacious 4 Bedroom+Maid Townhouse is located in DAMAC Hills 2 - Odora - Madinat Hind.\n\nProperty Features:\n* Bedroom: 4\n* Bathroom: 3\n* Size: 1,881.53 sq. ft.\n* Maid&#39;s Room\n* Single Room\n* Laundry Room\n* Unfurnished\n* Walk-In Closet\n* Closed Kitchen Room\n* Available Soon\n\nAmenities and facilities:\n* 24/7 Security\n* Pool\n* Gymnasium\n* Supermarket\n* Golf Course\n* Brand-New Community\n* Luxury Spa\n* Entertainment\n* Schools\n* Cafe\n\nAbout the Project:\nDamac Hills 2, Mulberry offers a selection of semi-detached and independent villas, each exuding elegance and sophistication. Spanning 55 million square feet, this gated community is renowned for its environmentally conscious design, featuring stunning vistas, luxurious residences, and an 18-hole golf course designed to international standards.\n\nAt F&amp;C Properties, we are focused on providing only top-notch services whether it is sales, lease, or investment, our team has the right tools to keep our customers fully satisfied.\n\nComplete one-stop solutions to every customized need.\n\nHonoring our core values, integrity, and transparency, we strive to build a relationship based on trust with each customer.\n\nOur Brokers are well trained and have extensive experience in the Real Estate market and will guide our clients all the way through until they are completely satisfied with our services.\n\nF&amp;C Properties is partnered with:\nEMAAR Properties | DAMAC Properties | AZIZI | SOBHA Realty | SELECT Group\n\nContact us now for more information about this property!\n-\nFor More Properties\nVisit our Website\nfandcproperties.ae\n-"
        ],
        [
         "9",
         "<p>Coldwell banker is pleased to present to you this stunning 1 bedroom apartment that offers the perfect blend of comfort, space, and villa views in East 40, Al furjan for sale. This 1 bedroom plus store apartment is ideal for couple or single professional seeking a harmonious living experience or also an investor as the property provides an excellent ROI.</p><p><br></p><p><strong>Property Features:</strong></p><p>1 Bedroom</p><p>1 Store room</p><p>1 bathroom</p><p>Fitted kitchen with Zanuzzi appliances</p><p>Large Terrace</p><p>Chiller Free Building</p><p>1 Parking</p><p>Total Area - 669.95 sq ft</p><p>Suite Area - 646.48 sq ft</p><p>Terrace Area - 23.47 sq ft</p><p><br></p><p>A fantastic one-bedroom apartment with a modern and well-designed layout in the sought-after community of Al Furjan. The open plan living area, kitchen/diner, and a modern bathroom provide a comfortable and stylish living space.</p><p><br></p><p>Contact our Al Furjan specialist, Alan for your private viewing now.</p><p><br></p><p>Company name: Coldwell Banker</p><p>RERA ORN: 1201</p><p>Address: Office 1211, Onyx Tower 1, Greens, Dubai</p><p>Office phone no: +97143825000</p><p>Primary email: info@coldwellbanker.ae</p><p>Website: www.coldwellbanker.ae</p>"
        ],
        [
         "10",
         "&#34; 1 Day Prior Notice required &#34; \n&#34; Finance Buyer&#39;s with Pre-approved welcomed &#34;\n\n\nLively | Phenomenal | Extensive\n\nThis two-storey villa in Meadows 3 is for sale to the kind of buyers that know how to time their move.\n\nThe 3,970 sq.ft layout comprises a total of 5 bedrooms together with 4 baths and a powder room.\n\n*   Unblemished condition\n*   Furnished\n*.  Landscaped and Ready to Move In \n*.  Partially Upgraded with Automatic Garage &amp; Pool\n*   Housemaid&#39;s Room | Lounge | Family Room | Laundry Room\n*   Gorgeous galley-style kitchen with an Island and granite counters\n*   Delightfully cultivated private garden\n*   Ginormous decked-terrace\n*   2 car ports\n*   and it&#39;s very near to a supermarket, cafes, a hospital, restaurants and a school\n\nYou can move your stuff in anytime.\n\nWe suggest a viewing at the earliest opportunity. Pick up the phone and call me."
        ],
        [
         "11",
         "ANTER Real Estate is delighted to offer this 3 Bedrooms + Maid Townhouse for Sale located in Aster - Damac Hills 2.\n\nOPEN TO OFFERS\nAsk for more options\n\n\nProperty Details:\n\n- 3 Bedrooms\n- 5 Bathrooms\n- Maid Room\n- Brand New Furniture\n- BUA : 2400 sqft\n- Spacious Living Area\n- Bright Dining Area\n- Close Kitchen\n- Built-In Wardrobe\n- Covered Parking\n- Spacious Garden\n\n\n\nAmenities:\n\n- Championship Golf Course\n- Park With Picnic Areas, and Playgrounds\n- Tennis And Basketball Courts\n- Skating And Jogging Tracks\n- Lush Parkland Spanning Over 4 million Sq. ft.\n- Fishing Lake * Petting Farm\n- Stables And Dog Park\n- Fitness Center\n- Yoga Lawn\n- International Curriculum Schools\n\n\nWelcome to DAMAC Hills 2, the epitome of luxurious living in Dubai. Spread over 42 million square feet of pristine land, this premier community boasts a wide range of modern apartments, villas, townhouses, and luxury residences in association with world-class brands. The community is renowned for offering residents everything they need for a lifetime of discovery.\n\nFrom spectacular outdoor living to world-class retail and leisure spaces, DAMAC Hills 2 has it all.\n\n\nANTER real estate is a real estate company with a purpose.\nOur vision is to create value beyond real estate, through exceptional service to our clients and landlords."
        ],
        [
         "12",
         "Savills are delighted to present this stunning property for sale in the Emaar community of Al Sahab , Dubai Marina .\n\nKey Features:\n- Newly Renovated \n- Full Marina Views\n- 3 en-suite bedrooms\n- Large Maids room\n- Casa Mia interior\n- 2 Parking Bays\n- Chiller Free\n- Low Service charge\n- Perfect for investor or end user\n-Vacant on transfer\n\nThe property boasts 2,205 sq.ft of so enjoy space to enjoy. Recently renovated using the highest quality materials . A stand out space is master bedroom which features an elegantly designed master closet and en-suite wash room and has its own balcony overlooking Dubai Marina Canal .\n\nFor more information on this exquisite home , contact Savills Associate Director Christopher Timoney on +971-55-6647236 or Christopher.timoney@savills.me .\n\nRef Number: AP27771"
        ],
        [
         "13",
         "GTA Properties is proud to present this 2-bed, 3 bathroom apartment located in Princess Tower, which is located within walking distance of Marina Walk where residents can find various restaurants and coffee shops. \n\n Property Highlights:\n-Full Sea View\n-Fully Furnished\n-1,188sqft\n-Vacant &amp; Ready To Move In\n-2 Bedroom Apartment \n-3 Bathrooms\n-Service Charges 16.29 per sqft\n-1 Parking Space\n-Shared Pool \n-Shared Gym \n-Easy Access to the Beach &amp; Marina Walk\n-24 Hour Concierge Service\n-Pet Friendly Building\n\n\nPrincess Tower is a 101-storey residential tower in Dubai Marina. Located on Al Sharta Street, it has an observation deck on the 97th floor that offers beautiful views of the Dubai Skyline, Dubai Marina and the Arabian Gulf. The tower features 1, 2 and 3-bed apartments and 3, 4 and 5-bed penthouses. This project by Tameer Holdings was completed in 2012.\n\nContact us now to book a viewing \n\nAgent: Chelsea Frith\nMobile: +971585476995\nEmail: Chelsea.frith@gtaproperties.ae"
        ],
        [
         "14",
         "Sisu Real Estate is delighted to present this modern 3-bedroom Villa at Bliss1 - Arabian Ranches 3\n\n● Bliss1 - Arabian Ranches 3\n● 3 Bedrooms\n● 4 Bathrooms\n● Payment Plan\n● Close To Amenities\n● Duplex\n● Terrace\n● Open Kitchen\n● 2 Parking Spaces\n● Community Pool &amp; Gym\n● Community Park &amp; Kids Play Area\n● Skylight\n● Close To Wadi River\n● Opposite Park\n● Total Area 2,176 Sq Ft\n\nAbed is a dedicated and results-driven real estate broker with experience in the dynamic Dubai property market, whether looking for your ideal home or for the best investment opportunities at Arabian Ranches 3. Contact him at +971 58 592 2899 for more information or to schedule a viewing.\n\nBliss 1 - Arabian Ranches 3 is a newly developed residential community in Dubai featuring a collection of contemporary family homes with lush green surroundings. The neighborhood offers a variety of luxurious amenities and a tranquil suburban lifestyle, blending modern living with a sense of tradition inspired by the Mediterranean.\n\nAt SISU Real Estate, we excel in matching buyers with their dream properties and aiding sellers in achieving success. Our agents focus on specific communities, ensuring tailored advice and up-to date insights. At SISU, expertise, integrity, and client-centered service guide your Dubai real estate journey. \n\nChoose SISU, choose resilience, and turn your real estate dreams into reality!\n\nSISU Real Estate LLC.\n807 - Dusseldorf Business Point\nAl Barsha 1 - Dubai - UAE\nadmin@sisudubai.com\nORN: 37532"
        ],
        [
         "15",
         "Azco Real Estate is delighted to present this lavish 1-bedroom apartment located in Bloom Towers B, Jumeirah Village Circle. This property spans across 654 sq. ft. and features impeccable contemporary finishes\n\nPROPERTY FEATURES AND AMENITIES:\n- Furnished\n- 1 Bedroom\n- 1 Bathroom\n- Balcony\n- Built-in wardrobes\n- Central AC\n- Covered parking\n- Modern gymnasium\n- Swimming pool\n- 247 security\n- Children&#39;s play area\n- Restaurants\n- Parks\n- Public transportation\n- Shopping mall\n\nPRICE DETAILS\n- Price AED 975,000/-\n\nBloom Towers is a stunning urban development with three residential towers that merge contemporary timeless elegant design language with exceptional comfort and convenience. It promises a vibrant and versatile hub of creativity for you to call home, it is your home to new beginnings.  \n\nFor further details or to arrange a viewing appointment please contact Azco Real Estate.\n\nThank you for Choosing Azco Real Estate!"
        ],
        [
         "16",
         "Detroit Real Estate is excited to present this stunning 4-bedroom home in the sought-after Parkside 3 community within Emaar South.\n\nNestled in the heart of Parkside 3, this remarkable residence offers:\n\nProperty Highlights:\n\n4 Bedrooms\n5 Bathrooms\nPlot Size 2555 sqft\nModern Open Concept Kitchen\nPrime Location with Scenic Views\n\nCommunity Highlights:\n\nSwimming Pool\nState-of-the-Art Gym Facilities\nPlaygrounds and Children's Play Area\nInviting Seating Areas\nCycling Paths\nChampionship Golf Course\nGolf Course Clubhouse\nOn-site Mini Mall\nSaudi German Clinic within the Community\n\nParkside 3 in Emaar South is a prestigious and secure neighborhood located just east of Emirates Road (E611). Residents benefit from a range of shared amenities including a barbecue area, basketball court, café, fitness centers, health clubs, a mosque, parks, dining options, a retail center, schools, and an expansive swimming pool.\n\nDiscover the perfect blend of luxury, convenience, and community living in this exceptional 4-bedroom home at Parkside 3."
        ],
        [
         "17",
         "Espace Real Estate is delighted to bring to the market this amazing 1 bedroom apartment in the Emaar-developed, Park Island. The unit features floor-to-ceiling windows throughout, allowing plenty of natural light to enter the apartment. This gives it a bright and homely feel. The unit is also 909 Sqft, so there is extensive living space and a large open-plan feel. The bedroom also has an en suite attached. From the living room, you also get full marina views. Perfect for either an end user or investor. Other features to note include an infinity pool, a large gymnasium, squash courts, a library area, a large reception area, 24/7 security, and covered parking. For more information or to arrange a viewing, please contact our area specialist Liam.\n\n\n-1 Bedroom\n-Marina view\n-BUA: Approximately 909 sqft\n-Balcony\n-By EMAAR\n-Spacious\n-Close to local amenities\n-1 Parking space\n-Tenanted\n\n\nFinance is available on this property through Espace Real Estate\n\nOffice location: Unit 2702 and 2703 Marina Plaza, Dubai Marina, Dubai, UAE\nTel. No.: 04 306 9999\nRERA: 50860; ORN: 936\n\nThis property is managed by Espace Real Estate Broker."
        ],
        [
         "18",
         "D and B Properties is pleased to offer this luxury-designed 2-bedroom apartment for sale with unreal views and is located in one of Dubai&#39;s prestigious communities - Burj Khalifa, Downtown Dubai. The 2 bedroom apartment in Burj Khalifa is ideal for anyone who wants direct access to the Dubai Mall and the Burj Khalifa community.\n\n- 2 bedroom\n- 3 bathrooms\n- Closed Kitchen\n- 2,035.99 square feet\n\n\nThe building features:\n- Swimming pool\n- Children pool\n- Fully equipped gym room\n- Restaurants and entertainment\n- 24/7 security at the entrance of the building\n\nProperty Reference: DB-S-48059\n\n\nFor quick response call or WhatsApp our Specialist Ahmad for more information to +971509249092.\n\nD&amp;B Properties is a leading full-service real estate company in Dubai, UAE. We assist in every aspect of searching and securing residential sales, leasing, commercial and plots with up-to-date knowledge of UAE &#39;s Real Estate market and laws."
        ],
        [
         "19",
         "- 4 Bedrooms + Maid (Duplex Penthouse)<br/>- 6,820.55 sq.ft<br/>- Gym and Pool Facilities<br/>- Prime location on the Palm Jumeirah <br/>- Fully Renovated and Opened Living Space<br/>- Cinema and Gym<br/>- Huge Terrace offering panoramic Sea Views <br/>- Option for Turn Key Fully Furnished <br/>- Vacant on Transfer\n\nDacha Real Estate is excited to present this fully upgraded 4-bed plus maid’s Duplex Penthouse in Marina Residences 2, Palm Jumeirah.<br/><br/>This property has been fully renovated from top to toe and offers a huge living space spread over two levels.<br/><br/>As you enter you will see a fully renovated and opened living space with double floor length to ceiling windows creating a fabulous and bright living space. This penthouse offers the best sea views from all windows facing over the Arabian Sea, towards the Al Ain wheel and Dubai Marina.<br/><br/>All rooms have been exquisitely renovated with attention to the utmost detail, this property is considered a must-see and not to be missed.  There is an option to take as seen, fully furnished and the property will be vacant on transfer.<br/><br/>For further information don’t hesitate to contact our head office at +971 (4) 4232006, alternatively visit www.dacha.ae, where you will find an extensive selection of properties available for sale and rent.<br/><br/>"
        ],
        [
         "20",
         "Presented to you by Tuimaada Real Estate Buying and Selling Brokerage. This luxurious and spacious Studio Apartment for Sale is located in Westwood Grande II, Jumeirah Village Circle.\n\nProperty Trademarks:\n\n• Studio\n• 1 Bathroom\n• Fully Fitted Kitchen\n• Luxury Interior\n• Built-in Closet\n• Parking Space\n• BUA: 444.55 sq. ft.\n\nAmenities and Features:\n\n•  Refreshing Garden\n•  Kids Play Area\n•  BBQ Area\n•  Rooftop Infinity Pool\n•  Rooftop Gym\n•  Nearby Shopping mall\n•  30 Minutes to Dubai Airport\n•  Amazing quality &amp; Amenities\n•  Prime location\n\nAbout the Property/Project:\n\nWestwood Grande by Imtiaz, a beautiful residential development by Imtiaz provides a tranquil family lifestyle in a private gated community. Each home features a rich warm exterior palette that is complemented by muted neutral color on the inside.\n\n\nAbout Tuimaada:\n\n11 years in the real estate market | 25,000 clients and counting | AED 50 million sales per month | Top 5 among real estate agencies from around the world Humanity, Simplicity. Tuimaada Real Estate Buying and Selling Brokerage is partnered with more than 50 developers and counting\n\nFor enquiries, please get in touch with our property expert. Alternatively, visit our website: tuimaada-rs.com, where you will find an extensive selection of properties available for sale"
        ],
        [
         "21",
         "R E M Real Estate proudly unveils a pinnacle of urban sophistication: Sobha Hartland - Crest Grande. Nestled within this prestigious development lies an exceptional collection of 2-bedroom residences, meticulously designed to redefine luxury living. \n\nWelcome to a realm where opulence meets functionality, inviting you to immerse yourself in the epitome of refined living.\n\nKey Amenities: \n▪️ 2 Bedroom + Maid \n▪️ 4 Bathroom\n▪️ Expansive swimming pool\n▪️ State-of-the-art fitness center\n▪️ Lush landscaped gardens\n▪️ Dedicated children's play area\n▪️ Relaxing sauna and steam rooms\n▪️ Multi-purpose clubhouse\n▪️ 24/7 security and concierge services\n▪️ Ample parking facilities\n▪️ Jogging and cycling tracks\n▪️ Retail outlets within the community\n▪️ Close proximity to schools, healthcare facilities, and entertainment options\n\nSobha Hartland - Crest Grande epitomizes the pinnacle of luxury living, meticulously crafted by the renowned developer, Sobha Group. Nestled within the heart of Dubai, this prestigious residential development seamlessly integrates sophistication with contemporary comfort, setting new standards in urban living.\n\nCrafted with meticulous attention to detail, each residence within Crest Grande exudes opulence and elegance. From expansive living spaces to stunning views of the surrounding skyline, every aspect of these homes has been thoughtfully designed to offer residents the ultimate in luxury living. \n\nSobha Hartland - Crest Grande stands as a testament to Sobha Group's commitment to excellence in every aspect of real estate development.\n\nFor further inquiries, reach out to Valeriia at +971 54 584 3089\n\nReal Estate Masters stands as a premier firm, excelling in sales, leasing, property management, and real estate investment consultancy. Our team of experts delivers bespoke solutions to both individual and corporate clients worldwide.\n\nExplore more about us on our website: remdubai.com"
        ],
        [
         "22",
         "NET Real Estate is pleased to offer you this beautiful 4 Bedroom Villa + Maid Room with Private Pool and Garden\n\n\nUNIT DETAILS:\n\n- 4 bedroom\n- Plot Size: 6,135 sqft\n- BUA: 4,762 sqft\n- Private Garden &amp; Pool\n \n\nAMENITIES AND FACILITIES:\n\nThe Villa Dubailand is home to landscaped gardens and pathways, a children’s play area, a park, a nursery, a mosque, a community centre and tennis courts. There is a supermarket, a coffee shop, a pharmacy and a beauty salon.\n\n\nABOUT THE VILLA COMMUNITY\nThe Villa is a residential community in Dubailand. It has convenient access to Sheikh Mohammed Bin Zayed Road (E311), Emirates Road (E611) and Al Ain Road (E22). It was developed by Dubai Properties in alliance with Mazaya. The project was launched in 2005 and took five years to fully mature.\n\nThe Villa Dubai features elegant villas with 4, 5, and 6 bedrooms. These properties are intricately designed and furnished, reflecting genuine Spanish style in a serene and secluded setting. Evoking the essence of Mediterranean living, numerous villas boast sun-soaked courtyards, thoughtfully curated colour palettes, themed landscaping, and precisely crafted architectural elements."
        ],
        [
         "23",
         "R E M Real Estate is delighted to present an exquisite 1-bedroom luxury residence for sale, situated in the esteemed Orchid at Creek Beach, nestled within Dubai Creek Harbour.\nUnit Details and Features:\n\nFeatures &amp; Amenities:\n▪️ High floor\n▪️ ⁠Partial Creek Beach view \n▪️ 1 Bedroom\n▪️ 1 Bathroom\n▪️ 1 Parking\n▪️ 686 sq ft\n▪️ Barbecue Area\n▪️ Social and Commercial facilities\n▪️ 24/7 Security\n▪️ Landscaped Garden\n▪️ Landscaped Green Area\n▪️ Swimming Pool\n▪️ Gymnasium\n▪️ Panoramic View\n▪️ ⁠Access to the private beach \n\nThe Creek Beach Orchid residential complex has created the perfect balance between home comfort and resort charm. The project offers benefits, including a sandy beach with sun loungers, a blue lagoon and several public recreation areas.\n\nCreek Beach Orchid is designed for a wide audience of residents. It will be an ideal home for families with children, young professionals who want to live in the thick of things and people who want to get the most out of the city every day.\nPlease contact for more information.\n\nFor more details please contact Valeriia - +971 54 584 3089\n\nReal Estate Masters is a leading sale, leasing, property management and real estate investment consultancy firm run by a team of experts, providing tailor made solutions for individuals and corporate clients from all over the world in real estate investments. \n\nVisit our Website: https://www.remdubai. com/"
        ],
        [
         "24",
         "Edge Realty Real Estate is pleased to present to you this stunning 3 Bedroom Apartment at Address Residences Dubai Opera Tower 2 by Emaar Properties. \n\nEnjoy luxurious touches and breathtaking views from this prestigious address, offering 65 floors of lavish amenities. Experience an extraordinary lifestyle with exceptional services, proximity to dining, and attractions.\n\nProperty Features\n* 3 Bedrooms\n* 3 Bathrooms\n* 2 Parking\n* Size : 1,559.58 SqFt\n* Furnished \n* Price : 7,300,000 AED\n\nBuilding Amenities\n* 24/7 Security\n* Gymnasium\n* Kids Play Area\n* Retail Outlets\n* Swimming Pool\n* Supermarkets\n* Shopping Mall\n* Schools and Nurseries\n* Restaurants and Cafes\n\nDiscover this prime location nestled close to Sheikh Zayed Road, providing easy access to Dubai International Financial Centre, Burj Khalifa, and landmarks like Burj Lake. These twin towers, part of the Opera District, are conveniently located just a short walk from the iconic Khalifa building and Dubai Mall.\n\nCompany Description:\nEdge Realty Real Estate is a property management company offering property search, property marketing, sales, lettings and asset management services. We provide an extensive property search and acquisition service across the commercial and residential markets for both investors and occupiers. Our service includes access to exclusive properties, independent advice, negotiation expertise, legal advice, assistance throughout the conveyancing process and after-sales care including home and property management and lettings services.\n\nFor Viewing please call: Mr. Songarin\nCompany mobile: +971 50 861 2665\nOffice Tel: +97143881856\nEmail: info@edgerealty.ae\nShowroom #4 Aswar Building Sheik Zayed Road Dubai UAE"
        ],
        [
         "25",
         "Presented by McCone Properties, we are delighted to present an exquisite 909.12 sq ft fully furnished apartment in Water&#39;s Edge Tower, Business Bay, is a spectacular 20-storey waterfront tower offering the ultimate convenience for anyone seeking to work and enjoy their leisure time in one strategic location. Offering view of sparkling water\n\nOutstanding Features:\n\n•⁠ ⁠1 Bedroom\n•⁠ ⁠2 Bathrooms, including 1 en-suite\n•⁠ ⁠A captivating peninsula kitchen with induction hobs and integrated appliances\n•⁠ ⁠An elegant entrance hall\n•⁠ ⁠Utility room\n•⁠ ⁠A spacious living room\n•⁠ ⁠Parking on the podium\n\nFeatures and Amenities:\n\n•⁠ ⁠Kids Area\n•⁠ ⁠Yoga Room\n•⁠ ⁠Pool\n•⁠ Kid Pool⁠\n•⁠ ⁠Sauna\n•⁠ Gym\n•⁠ ⁠CCTV Cameras\n•⁠ ⁠24 Hour Security\n•⁠ ⁠High Speed Elevators\n\nBeyond the charm of your new home, the surrounding amenities will make convenience part of your life.\n\nModern infrastructure, amenities and a setting that communicates strategic business penetration, Water&#39;s Edge is in the heart of a vivacious business community. An ideal work environment that&#39;s second to none, this unique environment offers facilities that are designed to meet and exceed the demands of the most competitive work environment.\n\nFor more information and to book your viewing, please contact Ahmed Magdi."
        ],
        [
         "26",
         "Discover modern living with this stunning villa available in the popular Springs 5 community. \n\n- Type 2E\n- Corner End Unit\n- 3 Bedrooms and 4 Bathrooms\n- Upgraded \n- Fully Extended \n- Maids and Study Room\n- BUA: 2703 SqFt\n- Plot: 3748 SqFt\n- Vacant on Transfer\n\nThis home offers 3 bedrooms, 4 Bathrooms, Maids room, Study, Expansive Living Spaces made possible by a unique reconfiguration of the floor plan, this home provides ample room for families to grow and entertain, this beautifully upgraded villa is situated far from any main roads and is a true corner end unit creating complete privacy, owner occupied and extremely well maintained and will be sold vacant on transfer. property has a landscaped garden and is situated on a large plot great for entertaining. Close walking distance to the community pool and Lake.\n\nFor more information please contact Agent Travis  on +971586411489 or visit [link not available] for further details where you will find a selection of all of our available properties for sale and rent."
        ],
        [
         "27",
         "Starling Properties is delighted to offer this two-bedroom plus Maid&#39;s apartment in Al Seef Towers, Jumeirah Lake Towers, Dubai. \n\nFeatures: \n\n- 2 Bedroom + Maid&#39;s room \n- 3 bathrooms \n- BUA: 1664 sq. ft. \n- High Ceilings \n- Custom made floor to ceiling closets \n- Hardwood flooring \n- Balcony \n- Parking \n- Swimming Pool \n- Gym \n- Sauna \n- Day Care and nurseries \n- Kid&#39;s playground area \n- Nearby Restaurants \n- Grocery stores and laundry service outlet \n\nReference: AMR025\n\nThe towers typically feature contemporary architecture with sleek, glass façades, offering residents stunning views of the surrounding lakes and skyline.\n\nAl Seef Towers is a residential complex located in the Jumeirah Lake Towers (JLT) area of Dubai, which is a popular and rapidly developing neighborhood known for its modern high-rise buildings, man-made lakes, and a mix of residential, commercial, and retail spaces.\n\nStarling Properties is an innovative company that facilitates the buying, selling, and renting of properties in Dubai. The platform is performing top-notch brokerage in the real estate industry in the UAE. For your convenience, we also support the payment made via digital assets for all your real estate needs. \n\nFor further details or to arrange a viewing please contact STARLING REAL ESTATE BUYING &amp; SELLING BROKERAGE L.L.C at + 971 52 251 5187 or visit http://www.starlingproperties.ae/"
        ],
        [
         "28",
         "D and B Properties is delighted to offer this amazing 1 bedroom apartment in Dubai located in the iconic Burj Khalifa Tower.\n\n- 1 Bedrooms\n- 2 Bathrooms \n- Full Fountain Views\n- Large Walk-in Closet and Bathroom in the master bedroom\n- Wide and spacious foyer/ entrance corridor\n- Open Plan Kitchen\n- 1 Parking Spaces\n\nThe tower also features lounges, health and wellness facilities, four pools and two observation decks. Aside from a stunning view of the city of Dubai, the Observation Decks of Burj Khalifa also offers a unique aerial view of The Dubai Fountain. The performance soundtrack is played at the top for an immersive experience.\n\nProperty Reference: DB-S-47918\n\nFor quick response call or WhatsApp our Specialist Ahmad for more information to +971509249092\n\nD&amp;B Properties is a leading full-service real estate company in Dubai, UAE. We assist in every aspect of searching and securing residential sales, leasing, commercial and plots with up-to-date knowledge of UAE &#39;s Real Estate market and laws."
        ],
        [
         "29",
         "- 1Bed<br/>- Fully Furnished<br/>- 623 Sqft<br/>- 2 Bathroom<br/>- Golf Course View<br/>- Shared Pool And Gym<br/>- Great Community And Facilities<br/>- 24/7 Security <br/>- Balcony Area <br/>- Contact Agent on 971585044750\n\nDacha Real Estate is happy to present to the market this beautifully presented 1Bedroom apartment which is situated within the ever popular community of DAMAC Hills. DAMAC HILLS is a master community, surrounded by villas, apartments, and breathtaking golf course views! Home to the International Trump Golf Club, it’s also home to a 400.000sqf of stunning parkland along with a Carrefour, Jebel Ali School, salons, and a brand new recently opened mall.<br/><br/>Build quality on this property is of the exceptional standard we have come to expect from DAMAC Properties. The unit is bright with plenty of natural light, allowing you to take in the surrounding views. Located in Dubai, DAMAC Hills compound is a new, self-contained community with modern amenities and an attractive layout that offers an alternative to the hustle and bustle of city life. It features villas in Dubai, apartments, and even a hotel, but it also boasts nearly four million square feet of parkland offering various themed areas for relaxation and sports – including restful gardens and lakes, a skate park, stables, football field, tennis courts and more projects like DAMAC Lagoons.<br/>For further information please contact our head office on +971 (4) 4232006, alternatively visit www.dacha.ae where you will find an extensive selection of properties available for sale and for rent."
        ],
        [
         "30",
         "The first sustainable residential complex in Sharjah near Al Rahmaniya Al Oula on Mohammed Bin Zayed Street.\n\nA cooperation project between the Sharjah Investment and Development Authority &#34;Shurooq&#34; and &#34;Diamond Developers&#34; for real estate development specialized in building sustainable cities.\n\nThe project Location:\nA minute from Sheikh Mohammed bin Zayed Street.\n- 7 minutes from Sharjah Golf and Shooting Club.\n- 9 minutes from the university city.\n- 10 minutes from Sharjah International Airport.\n- 20 minutes from Dubai International Airport.\n\nProject features:\n-Production of 100% of energy through solar panels.\n-Self-driving electric vans and charging stations for electric vehicles.\n-Save up to 50% on electricity bills.\n-Save up to 50% on water bills.\n-Service fees are free for 5 years\n-All villas come with full kitchen appliances \n- Villa supported by smart home system.\n- Large areas with the best exploitation of spaces.\n100% privacy.\n\n\nProject services:\n-Agricultural areas.\n-A sustainable school.\n- Mosque.\n-Sports facilities (men and women).\n-Swimming pools (men and women).\n- A running track.\n- Incubation.\n-Health centers.\n-Huge commercial mall.\n-Dedicated areas for families and children&#39;s games.\n\nDo not hesitate to visit us for more details and to view the offers and locations available for villas now"
        ],
        [
         "31",
         "State of the art development Al Mamsha that presents luxurious designed studios, 1, 2 &amp; 3-bedroom apartments located at new Sharjah, UAE. The development offers a strategic location just off the Sheikh Mohammed Bin Zayed Road in the heart of New Sharjah and offers smooth connectivity with its connected road networks.\n\nLocation features:\n- Directly on university-city road beside University-City and City-Center Alzahia, infront of Muweilah zone\n2 Minutes University City of Sharjah\n5 Minutes to 06 Mall\n4 Minutes to Sheikh Mohammad Bin Zayed Road \n8 Minutes to Sharjah International Airport\n15 Minutes to Dubai International Airport\n \nFEATURES:\n•\tState of the art designed smart Studios, 1, 2 &amp; 3-bedroom Apartments\n•\tThe first car-free community and enjoyed walking in the middle of the boulevard,        \n          which contains all the international brands in full on an area of more than 130,000 sqft\n•\tBasement Parking &amp; Direct Access to your Apartment\n•\tAttractive and Flexible Payment Plan\n•\tHigh-quality finishing and fixtures\n•\tStrategic location in the heart of new Sharjah\n•\tSafe haven for kids in a clean healthy environment\n•\tMedical center\n•\tCycling Trails\n•\tFitness Center\n•\tGardens and Parks\n•\tJogging tracks\n•\tKids Park\n•\tMosque\n•\tOutdoor Dining Area\n•\tOutdoor Gymnasium\n•\tRestaurant and Cafe (Starbucks, Spinneys, and many restaurants and cafes inside the  Central Hub) \n•\tRunning Track\n•\tIntentional School\n•       nursery \n•\tHotel\n•\tSports Court\n\nDo not hesitate to choose the location and view of your smart system apartment \nAnd inquire about all the details -- we are honored to welcome you to the sales center from 10 am -7 pm"
        ],
        [
         "32",
         "State of the art development Al Mamsha that presents luxurious designed studios, 1, 2 &amp; 3-bedroom apartments located at new Sharjah, UAE. The development offers a strategic location just off the Sheikh Mohammed Bin Zayed Road in the heart of New Sharjah and offers smooth connectivity with its connected road networks.\n\nLocation features:\n- Directly on university-city road beside University-City and City-Center Alzahia, infront of Muweilah zone\n2 Minutes University City of Sharjah\n5 Minutes to 06 Mall\n4 Minutes to Sheikh Mohammad Bin Zayed Road \n8 Minutes to Sharjah International Airport\n15 Minutes to Dubai International Airport\n \nFEATURES:\n•\tState of the art designed smart Studios, 1, 2 &amp; 3-bedroom Apartments\n•\tThe first car-free community and enjoyed walking in the middle of the boulevard,        \n          which contains all the international brands in full on an area of more than 130,000 sqft\n•\tBasement Parking &amp; Direct Access to your Apartment\n•\tAttractive and Flexible Payment Plan\n•\tHigh-quality finishing and fixtures\n•\tStrategic location in the heart of new Sharjah\n•\tSafe haven for kids in a clean healthy environment\n•\tMedical center\n•\tCycling Trails\n•\tFitness Center\n•\tGardens and Parks\n•\tJogging tracks\n•\tKids Park\n•\tMosque\n•\tOutdoor Dining Area\n•\tOutdoor Gymnasium\n•\tRestaurant and Cafe (Starbucks, Spinneys, and many restaurants and cafes inside the  Central Hub) \n•\tRunning Track\n•\tIntentional School\n•       nursery \n•\tHotel\n•\tSports Court\n\nDo not hesitate to choose the location and view of your smart system apartment \nAnd inquire about all the details -- we are honored to welcome you to the sales center from 10 am -7 pm"
        ],
        [
         "33",
         "First Bridge Real Estate are pleased to present this 2 Bedroom Apartment plus Maid, in Freehold Project, Tria, by Deyaar Developers; situated in Dubai Silicon Oasis, expected to Handover in April 2025.\n\nThis Two Bedroom Apartment will include x3 Allocated Parking Spaces and will benefit the transferred Post Handover Payment Plan. \n\nProperty Features:\n\n* Post Handover Payment Plan\n* 2 Bedrooms\n* 4 Bathrooms\n* Maid&#39;s Room\n* Semi-Open Kitchen with Modern Appliances\n* Living / Dining Room\n* Balcony with DSO Landscape Views\n* Integrated Smart Home System\n* Fitted Wardrobes / Cabinets\n* x3 Allocated Parking Space\n* BUA: 1247.11 SQFT\n\nDubai Silicon Oasis offers a range of benefits including ample greenery and landscapes, easy access to the Sheikh Mohammed bin Zayed Road &amp; Al Ain Road and just 20 minutes away from Dubai International Airport &amp; Dubai Downtown.\n\nApartments in this project provide beautiful views, contemporary interiors, smart system technology and part-furnished, fully-fitted kitchens with modern appliances.\n\nResidents can enjoy high quality communal amenities which include, Rooftop Infinity Pool, BBQ Area, Aerobics &amp; Yoga Suite, Paddle/Tennis Court, Clubhouse and many more.\n\nInterested! Call Alex Dickson on +971 55 750 8520 for more information and details!\n\nCompany: First Bridge Real Estate \nRERA ORN: 37908\nAddress: Prime Tower, Office 1106, Business Bay, Dubai \nLandline: +971 4 283 4267\nEmail: inquiry@firstbridge.co\n\nCompany Profile: We aim to become Dubai’s leading Real Estate company, best known for providing professionalism and integrity, building life lasting relationships along the way. We will positively impact the communities we serve and redefine the Real Estate experience, ensuring all our clients feel respected and valued."
        ],
        [
         "34",
         "This Vacant and Fully furnished 3 bedroom apartment in 52|42 Towers in Dubai Marina ticks all the boxes.  Whether you are an end user or looking for an investment in short or long term leasing. \n This apartment has full Sea, Dubai Marina and Ain Dubai views.\n\n- Full Sea, Ain, Dubai Marina, and JBR View\n- 3 Bedrooms + Maids \n- 3 Bathrooms\n- 1,777 Sq. Ft. BUA\n- Fully Furnished\n- Vacant\n- High Floor\n- 2 Parking Space\n\nDeveloped by Emaar Properties, it is a two-tower residential complex featuring a 52-floor Western tower and a 42-floor Eastern tower connected by a 5-storey podium with outstanding amenities,  infinity pool, gardens, gym, play rooms, high-speed elevators, basement parking, 24-hour security, and concierge services.  Completed in 2021, it offers 466 units across 2 towers Located close to Blue Waters Island Street and King Salman Bin Abdul Aziz Al Saud Street. The area boasts numerous nearby amenities, including restaurants, supermarkets, schools, and easy access to public transportation, making it a sought-after residential destination in Dubai Marina."
        ],
        [
         "35",
         "Aventa Realty is proud to offer this incredible property for sale, located in the most sought-after residential building in the Dubai Marina. This Marina Gate villa is spacious, featuring stunning full Marina views and a high-quality finish throughout.\n\nProperty Details:\n\n- Keys with me, viewing possible anytime!!!\n- Open Plan Kitchen &amp; Living\n- 4,642 Sq ft\n- 4 Bedrooms + Maidsroom\n- 6 Bathrooms\n- 3 Parking Spaces\n- Fully furnished \n- 2 Large Terraces\n- Exceptional Facilities\n- Superb Location\n\nSituated in Dubai’s most spectacular community, Marina Gate features breath-taking waterfront views from the facilities, and includes 2 swimming pools and 2 gyms, as well as padel, squash &amp; basketball/football courts. Marina Gate is also known for its onsite Jumeirah Living Hotel and Amara Lounge.\n\nPlease contact our Director Nick Lee for more information.\nMobile No: +971 55 349 4595\nEmail: info@aventarealestate.com\nRERA BRN No: 46552"
        ],
        [
         "36",
         "agco-9975926\n\nAGCO Properties is proud to present this beautiful 3 bedroom Townhouse located in the amazing Casablanca Boutique Villas, Damac Hills 2, Dubai..\n\n- Features Property:\n\n\n- 3+Maid Bedroom.\n- 5 Bathroom\n- Large Garden\n- Different Clusters\n- Ask for Multiple Options\n\nFeatures:\n\n- Gym and swimming pool\n- Kids nursery play are\n- Mosque\n- Restaurants\n- Public transport\n- 24 Hour video security\n- Bicycle track\n- Tennis court\n- Shopping mall\n- Indoor health club\n- Sauna and steam room\n- Kids pool and play area\n- Barbecue area\n\nCompany Name : AGCO Properties\n\nAddress: Office# 1707 Damac Smart Heights, Barsha Heights (Tecom), Dubai\n\n\nCompany Profile: AGCO Properties has been founded on a genuine passion for Real Estate and high standards. Specializing in Residential and Commercial properties, as well as Development Land and Capital Markets, Our Knowledgeable In-house team is the trusted partner of choice for Real Estate services in Dubai.\n\n\n&#34;Our business is beyond property, Our business is people”.\n\n&#34;Our core values are simple, and our advice is straightforward, honest, and up to date&#34;."
        ],
        [
         "37",
         "Treo Homes is very pleased to be bringing to the market our latest listing in Maple, Dubai Hills Estate.<br /><br />Features<br /> - Type 3M<br /> - Unfurnished<br /> - Vacant upon transfer<br /> - Bright and spacious living area<br /> - Walking distance to resident pool &amp; park facilities<br /> - Immaculate condition<br /> - Plot size: 2,144sqft<br /> - BUA: 2,387sqft<br /> - Maids room<br /> - Covered parking<br /><br />Discover luxury living in Maple, Dubai Hills!  Private gated community boasts a sparkling community pool, multiple parks, and a sports court. Upon entering the home, you are greeted by a welcoming living area that seamlessly flows into a spacious dining with a family area that overlooks a beautiful landscaped garden. Offering exclusivity with its single-row layout ensuring plenty of privacy.\nDubai Hills is high in demand due to a family friendly atmosphere alongside a luxurious Dubai Hills Park, easy access to Dubai Hills Mall whilst also being located in the heart of Dubai.<br /><br />To get more information or to book a viewing, get hold of us now."
        ],
        [
         "38",
         "E&amp;T are delighted to offer this three bedroom apartment in Address JBR. Available now with the following features; \n\n-\tThree en suite bedrooms, each including Sea or Marina view\n-\tExpansive terrace with full sea and palm views\n-\tMaster suite complete with private terrace and sweeping Marina views\n-\tClosed kitchen with integrated appliances\n-\tMaids &amp; laundry room\n-\t1867.75 sqft\n\nSpanning over 1860 sqft and situated on a high floor, this sought after layout enjoys uninterrupted water views from every room. With both internal and development finishing embodying the hotels standard, residents enjoy market leading luxury at an affordable price. Brought to market by the greatly esteemed and ever expanding Address Group, owners inherit the assurance of investing into one of the Emirates front runners in luxury hospitality and branded residence. \n\nComplex facilities including;\n-\tPrivate beach for residents\n-\tLandscaped gardens and exterior children’s area with splash pad\n-\tMultiple swimming pools \n-\tWorld highest infinity pool, located on the 77th floor complete with poolside restaurant \n-\tBeauty salon and hotel spa on the 76th floor\n-\t9 on site restaurants, each offering their own theme\n-\tDream, one of the most successful dinner and show concept restaurants in the region\n-\tQix indoor children&#39;s club with childminders available \n-\tFully equipped, market leading gymnasiums\n\nLocated optimally at the southern birth of JBR, enjoying all of JBR and Bluewater’s amenities within direct and walking distance. \nThe developments southern location also allows limited congestion to reach SZR, with one set of traffic lights between you and the bridge toward the highway, north or south\n\nCall today your private viewing"
        ],
        [
         "39",
         "Elysian Real Estate are delighted to offer this amazing high floor Two  bedroom apartment for SALE located  in the Amazing Urban Oasis Dubai Marina, Dubai.\n\nThe best of Miami is now in Dubai. Immerse yourself in only the second distinct residential tower in the world with interiors by Missoni. This is the Urban Oasis, where Miami’s mood, vibes, and lifestyle is expertly captured in every detail. Enjoy exclusive waterfront living, with penthouses accessed by private elevators, luxury apartments, first-class amenities, and sweeping views of the city and the canal.This prime unit features a spacious lounge/dining area, a well-equipped kitchen, a guest W.C, 2 bedrooms with en-suites, and a private balcony offering stunning canal views. Don&#39;t miss this amazing opportunity!\n\n\n Property Features:\n- Two Bedrooms Apartment\n- Two Bathrooms\n- 1,109Sq. Ft.\n- Canal View\n- Spacious layout\n- Modern Finishing\n- Designed By Missoni\n- Vacant Now\n- Swimming Pool &amp; Gym\n- Close to Restaurants, Shops, Mall\n- Ref No.ELY-S-22918\n- Contact the Consultant Majdi Benalouche on +971 56 970 0858 BRN no. 61862.\n\n\nFinance is available on this property through Elysian Real Estate Mortgage partners.\n\nPlease contact the broker Majdi Benalouche on +971 56 970 0858 for more information or to arrange a viewing.\n\nTo find all available properties for sale and for lease with Elysian Real Estate please contact our head office on +971 048853050 ."
        ],
        [
         "40",
         "Net real estate is pleased to present to you an exquisite fully furnished and updated apartment in 1 Residences West Tower, Al Kifaf.\n\nUNIT DETAILS:\n\n•⁠ ⁠1 bedroom\n•⁠ ⁠2 bathrooms, including 1 en-suite\n•⁠ ⁠A captivating peninsula kitchen with induction hobs and integrated appliances\n•⁠ ⁠An elegant entrance hall\n•⁠ ⁠Utility room\n•⁠ ⁠A spacious living room\n•⁠ ⁠Parking on the podium\n\n\nAMENTIEIS AND FACILITIES:\n\n\n•⁠ ⁠Kids Area\n•⁠ ⁠Yoga Room\n•⁠ ⁠Pool\n•⁠ Kid Pool⁠\n•⁠ ⁠Sauna\n•⁠ Gym\n•⁠ ⁠CCTV Cameras\n•⁠ ⁠24 Hour Security\n•⁠ ⁠High Speed Elevators\n\nBeyond the charm of your new home, the surrounding amenities will make convenience part of your life.\n\n1 Residences, located in a prime location between old and new Dubai, offers residents convenient access to major leisure and business hubs. It is situated near Max Metro Station and Sheikh Zayed Road, providing easy connectivity. The project is also close to Za’abeel Park, making it well-connected to Downtown and the Business Bay area."
        ],
        [
         "41",
         "Step into a world of luxury and sophistication with our exquisite studio apartments at Azizi Riviera ! Designed to offer the perfect blend of elegance and comfort, these studio apartments provide a stylish and functional living space for discerning individuals.\n\n*Key Features:\n- Lounge area\n- Round the clock reception and concierge\n- 24 hrs. valet parking service\n- State of the art gymnasium\n- Outdoor swimming pool\n- Balcony\n- Retail outlets\n- Kid&#39;s plat area\n- Ample parking\n\nRiviera combines the best of French Mediterranean design perspective and modern architecture to create the ideal place for modern community living. Riviera comprises of 69 mid-rise residential buildings, a mega integrated retail district, breathtaking waterfront views and lush greenery.\n\nRiviera invites its residents to feel at home and be a part of a diverse and multicultural community. Family-friendly outdoor activities, leisure, dining and retail therapy are a slice of everyday life. In more ways than one, Riviera is creating a new paradigm for community living in Dubai."
        ],
        [
         "42",
         "<p>This exceptional 2-bedroom apartment is located in The Address Jumeirah Resort and Spa, Jumeirah Gate Tower 1, within the prestigious Jumeirah Beach Residence. Offering 1,475 square feet of meticulously designed living space, this furnished property embodies modern elegance and luxury. The open-plan layout seamlessly connects the living, dining, and kitchen areas, creating a spacious and inviting environment that is perfect for both relaxation and entertaining. With breathtaking views of the Arabian Gulf and Ain Dubai, this apartment provides a truly unparalleled living experience.</p><p> </p><h3>Key Features</h3><p> </p><ul><li>1,475 sq. ft.</li><li>2 Bedrooms</li><li>Fully Furnished</li><li>Sea and Ain Dubai View</li><li>Access to a state-of-the-art fitness center, infinity pools, private beach, and gourmet dining options</li><li>Prime location in Jumeirah Beach Residence, close to Dubai Marina and JBR attractions</li></ul><h3> </h3><p>Situated in the heart of Jumeirah Beach Residence, this apartment offers the perfect blend of luxury and convenience. Residents enjoy proximity to the vibrant lifestyle destinations of JBR and Dubai Marina, where world-class shopping, dining, and entertainment are just moments away. The Address Jumeirah Resort and Spa provides an exclusive living experience with access to top-tier amenities, making it one of the most sought-after locations in Dubai. Whether you&#39;re seeking a permanent residence or a luxurious holiday home, this property offers an unmatched lifestyle in one of Dubai&#39;s most coveted areas.</p>"
        ],
        [
         "43",
         "McCone Properties is delighted to present an exquisite brand new one-bedroom apartment at 1 Residences - 2, Al Kifaf.\nSituated on a mid/low floor, ready to be tailored to your personal style.\n\nWith its pristine, unfurnished interior, you have the canvas to create your ideal living space. Enjoy breathtaking panoramic views from the elevated vantage point, adding an extra touch of luxury to your everyday life. This is a unique opportunity to design a bespoke home in a prime location, offering both modern living and endless possibilities.\n\nThis apartment in Wasl 1 in Al Kifaf is for sale to the type of individuals who love to feel the city&#39;s heartbeat.\n\nIts 888.24 sq.ft layout comprises 1 bedroom with a bathroom and guest WC.\n\n* Just-handed-over condition\n* Entrance | Sitting Room\n* Attractive horseshoe kitchen\n* Secluded balcony\n* 1 car parking allocation\n* Swimming Pool | Children&#39;s Pool\n\nGet ready to move in straight away.\n\nWe invite you to schedule a viewing at anytime. Drop a message to Ahmed Magdi."
        ],
        [
         "44",
         "- Type 4M\n- Fully Upgraded\n- BUA 1,690 sq.ft\n- Plot 2,237 sq.ft\n- Short walk from pool, park and lake\n- Two bedrooms + study\n- Tenanted for AED 160,000\n- Call now to arrange your viewing\n\nhaus &amp; haus is delighted to present to the market this fully upgraded Type 4M located in the desirable Springs 14. This fully upgraded family home sits on an impressive 2,237 sq.ft plot and is just a short walk from the pool &amp; park.\n\nThe property comprises of a living area, kitchen with a range of built in storage, study, w/c and utility area.\n\nTo the first floor both bedrooms benefit from built in wardrobes, en-suite and direct balcony access.\n\nThis unit is approached via covered parking for two cars and the private rear garden is ideal for entertaining.\n\nPlease call for more information, to arrange a viewing or to make an offer.\n\nFinance is available on this property through haus &amp; haus partners. Please speak to us for more information.\n\nFor further details, please drop into our flagship For further details, please drop into our flagship office at the Gold &amp; Diamond Park - or browse the incredible selection of properties we maintain at the haus &amp; haus website."
        ],
        [
         "45",
         "Arabian Estates proudly presents this fantastic, large 1-bedroom apartment in Sadaf 6, JBR. The apartment has a spacious living room with large windows offering consistent light throughout the property. A spacious terrace that looks over JBR and the Arabian Gulf. \n\n\nProperty details:\n- 2 Parking spaces\n- Large rare Layout\n- 1 Bedroom with a spacious terrace \n- Size: 1,848.49 sq/ft. \n- Kitchen Equipped\n- High Floor Unit\n- Built-in wardrobes\n- Easy access to the building for residents\n- Direct to the beach Starbucks, PAUL, Pharmacy, Laundry, supermarket delivery\n- Direct Beach and JBR WALK Access\n- New Gymnasium for JBR Residence\n- Swimming pool in each tower\n\nDiscover the epitome of luxury living in this exquisite 1-bedroom apartment located in the prestigious Sadaf 6 tower. Perfectly situated in the heart of Jumeirah Beach Residence (JBR), this stunning residence offers a unique blend of comfort, style, and convenience, ideal for singles or couples seeking an upscale urban lifestyle. This elegant 1-bedroom apartment in Sadaf 6 offers the perfect combination of luxury, comfort, and convenience. \n\nContact us today to schedule a viewing and experience the unparalleled living experience at Sadaf 6!"
        ],
        [
         "46",
         "- Vacant on Transfer\n- Fully Upgraded\n- 5200 Sq ft BUA\n- 8,812.20 Sq ft Plot\n- European Cluster\n- Viewable Now\n- Close to Clubhouse \n- Agent: Callum Wallace\n\nArabian Estates are delighted to present to the market this fully upgraded Entertainment Foyer villa in the prestigious Jumeirah Islands. The villa has been fully upgraded throughout. \n\nThe ground floor comprises a large open-plan living area, closed kitchen, guest bedroom, powder room and dining room. To the first floor you will find two double bedrooms with en-suite bathrooms and a large master suite which benefits from its own living area and large bathroom. \n\nThe property benefits from many interior upgrades and sits on a good size plot with fantastic views on the lake to the rear of the villa. In addition to the main living area, all four bedrooms benefit from a view of the lake.\n\nThis property is owner occupied and will be vacant on transfer."
        ],
        [
         "47",
         "fäm properties is happy to present this dream family home in Arabella 2, Mudon.\n\nThis townhouse comes with spacious 3 bedrooms + maids with a big family living area on first floor as well as a spacious living room on the ground floor.\n\nThis end unit is offering a big plot, perfect for hosting guests and for the family to enjoy more garden space.\n\nThis home is nestled just perfect in the community, with a very short walking to access the community pool, park, playgrounds and multiple sport courts.\n\nDon&#39;t miss the opportunity to get your hands on of few end units available.\n\nExclusive\n\nProperty Description:\n\n- Type A\n- End unit \n- 3 Bedroom\n- 4 Bathrooms\n- 1 Maidsroom\n- Plot Size: 2,842 sq. ft.\n- Built-Up Area: 2,027 sq. ft. (Excluding parking)\n- Back-to-back (With a Walking Path Between)\n- Door From Garden To The Back\n- Very Close Proximity to the Community Pool, Parks, Playgrounds &amp; Different Sport Courts.\n- Villa is North Facing\n- Vastu Compliant Villa\n- Rented at 150k\n\nCommunity Features:\n\n- Gated Community\n- Mosque availability\n- 3 Community Pools\n- Basketball Courts\n- Football/Soccer Court\n- Tennis Courts\n- Multiple Parks &amp; Playgrounds\n- Outdoor Gyms\n- Indoor Gym\n- Family-friendly Neighbourhood\n- Beautifully Landscaped Surroundings\n- Developer: Dubai Properties\n\nIntroducing Didan Kader, one of our top real estate agents within FAM, whom brings a unique blend of Swedish and Kurdish heritage to his exceptional service. With many years of experience and a big sales record history within the industry, Didan combines cultural insights with professional expertise to provide unparalleled guidance in your real estate journey. Trust Didan to turn your property dreams into reality with his dedication, knowledge, and personalized approach.\nfäm Properties \n Contact Us - \n Toll free: 800fam800 (800 326 800) \n Email: cc@famproperties.com\n Visit our website: famproperties.com"
        ],
        [
         "48",
         "Viking Real Estate is thrilled to introduced this prestigious one-bedroom residence in Arjan.\n\nThe Curve is a new residential development by Sentro that features 1 &amp; 2 bedroom apartments located in Arjan, Dubai. This upscale project offers a real park lifestyle with upscale residences and natural green surroundings situated in the centre of Dubai that will change your perception of what an urban jungle is.\n\nLocated in Arjan a place that gives you access to the most well-known and recognisable neighbourhood in the city. Discover the innovative lifestyle spaces, where lush living spaces are surrounded by all the amenities and a natural setting that offers every comfort and convenience.\n\n• 06 minutes to Miracle Garden\n• 18 minutes to Mall of the Emirates\n• 18 minutes to Global Village\n• 18 minutes to Palm Jumeirah\n• 25 minutes to Al Maktoum International Airport\n\nThe Curve is Sentro Realty’s first residential project in Dubai and is ready for\npossession. It is backed by the Sentro Group, an international group with\ninterests across banking, aviation, real estate, and logistics.\nIt’s focused on bringing high-quality real estate to home buyers while ensuring\nsteady returns for the average investor looking for long-term growth.\nPresently\n\n-Rooftop Infinity Swimming Pool\n-24 Hours Concierge\n-Leisure Kids Play Area\n-Waste Chutes on Each Floor\n-Double-gazed Windows\n-Moderns Gymnasium\n-Natural Stone Façade\n-Sauna &amp; Steam\n-Ample Parking for Retail Units\n-Landscaping with Water Features\n-BBQ Area\n-Centrally Air-Conditioned\n-Yoga and Meditation Area\n-Gym\n\nContact us today to learn more about these stunning apartments.\n\nCompany Name: VIKING REAL ESTATE BROKERS LLC\nRERA ORN: 32467\nAddress: Office Number 1910, The Citadel Tower, Business Bay, Dubai\nOffice Phone No: +971565472490\nPrimary Email: Dubaisalesinfo@viking-realestate.com"
        ],
        [
         "49",
         "RNS is pleased to offer this 3 Bedroom unit for sale in Greenviews with at Emaar South Community\n\n- G + 1 Floor\n- Vacant\n- Post Handover Payment Plan\n- 4 Washrooms\n- Open kitchen\n- Private Garden\n- Balcony\n- 2 Car parking\n\nProject Features:\n\n- 24/7 Security\n- 18 Hole championship golf course\n- Swimming pool\n- Fully equipped gym\n- Multi-purpose court. (Basketball, Football &amp; Tennis)\n- Skate Park\n- 25 Parks\n- Grocery Store &amp; Coffee shops\n- Laundry &amp; Pharmacy\n- Ladies Beauty Salon\n- Gents Hairdresser\n- Designated electric vehicle parking.\n- Planted green walkways\n- RTA Bus Service\n- Children&#39;s play areas\n- Barbecue Area\n- Kids&#39; swimming pool\n- Kids&#39; park\n- Cycling Path\n\n\nGreenview is a very safe and tranquil pet-friendly gated residential sub-community of EMAAR South situated to the east of the development close to Emirates Road (E611) minutes away from Al Maktoum International Airport Dubai&#39;s future aviation hub.\nThis peaceful serene community is families&#39; hidden gem away from the hustle and the bustle of the city.\n\nAbout RNS Realty:\nRNS Realty is a premier brokerage in Dubai run by niche experts with several years of experience under their names. As a newly incepted firm in the city&#39;s dynamic and competitive real estate market, we are recognized by Emaar under the Top 20 Brokerages and hold exceptional ties with developers across the country. \n\nWe specialize in both off-plan and secondary markets, bridging the gap between numerous buyers, sellers, landlords, and tenants—as a dynamic and leading real estate firm in Dubai, dedicated to providing unparalleled property solutions."
        ]
       ],
       "shape": {
        "columns": 1,
        "rows": 5058
       }
      },
      "text/plain": [
       "0       MNA Properties is delighted to offer this apar...\n",
       "1       Apartment for sale in La Vie, Jumeirah Beach R...\n",
       "2       Treo Homes is very pleased to be bringing to t...\n",
       "3       2 Bedrooms + Study | Near Pool &amp; Park | Pr...\n",
       "4       -Type 1\\n-3 Bed+Maid\\n-Close To Amenities\\n-BU...\n",
       "                              ...                        \n",
       "5053    Nobel Victory Real Estate are proud to present...\n",
       "5054    Discover Address Residence by Emaar, nestled o...\n",
       "5055    Rocky Real Estate presents an Exclusive and up...\n",
       "5056    Dingstone Real Estate is pleased to present to...\n",
       "5057    Introducing Avena, the valley’s newest and mos...\n",
       "Name: description, Length: 5058, dtype: object"
      ]
     },
     "execution_count": 8,
     "metadata": {},
     "output_type": "execute_result"
    }
   ],
   "source": [
    "df[\"description\"]"
   ]
  }
 ],
 "metadata": {
  "kernelspec": {
   "display_name": ".chatbot_env",
   "language": "python",
   "name": "python3"
  },
  "language_info": {
   "codemirror_mode": {
    "name": "ipython",
    "version": 3
   },
   "file_extension": ".py",
   "mimetype": "text/x-python",
   "name": "python",
   "nbconvert_exporter": "python",
   "pygments_lexer": "ipython3",
   "version": "3.12.3"
  }
 },
 "nbformat": 4,
 "nbformat_minor": 5
}
