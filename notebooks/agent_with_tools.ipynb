{
 "cells": [
  {
   "cell_type": "code",
   "execution_count": 1,
   "id": "e2c15367",
   "metadata": {},
   "outputs": [
    {
     "data": {
      "text/plain": [
       "True"
      ]
     },
     "execution_count": 1,
     "metadata": {},
     "output_type": "execute_result"
    }
   ],
   "source": [
    "import pandas as pd\n",
    "from dotenv import load_dotenv\n",
    "import os\n",
    "import pandas as pd\n",
    "from src.tools import visualize_tool, safe_dataframe_tool\n",
    "import openai\n",
    "from IPython.display import HTML\n",
    "from src.classifiers import is_uae_real_estate_query, llm_classifier\n",
    "\n",
    "\n",
    "load_dotenv()"
   ]
  },
  {
   "cell_type": "code",
   "execution_count": 2,
   "id": "02aeba5d",
   "metadata": {},
   "outputs": [],
   "source": [
    "official_ai = openai.OpenAI(api_key=os.getenv(\"OPENAI_API_KEY\"))"
   ]
  },
  {
   "cell_type": "code",
   "execution_count": 3,
   "id": "7ba75bf2",
   "metadata": {},
   "outputs": [],
   "source": [
    "def main_agent(query: str):\n",
    "    if not is_uae_real_estate_query(query):\n",
    "        return {\"type\": \"output\", \"data\": \"This is an irrelevant question to UAE property.\"}\n",
    "\n",
    "    data = safe_dataframe_tool(query)\n",
    "    if isinstance(data, dict) and data.get(\"error\"):\n",
    "        return data\n",
    "\n",
    "    action = llm_classifier(query)\n",
    "\n",
    "    if action == \"output\":\n",
    "        return {\"type\": \"data\", \"data\": data}\n",
    "\n",
    "    elif action == \"plot_stats\":\n",
    "        result = visualize_tool.invoke({\"data\": data, \"query\": query})\n",
    "        return {\"type\": \"plot\", **result}\n",
    "\n",
    "    elif action == \"geospatial_plot\":\n",
    "        return {\"error\": \"Geospatial plotting tool not implemented yet.\"}\n",
    "\n",
    "    else:\n",
    "        return {\"error\": f\"Unknown action '{action}' from classifier.\"}\n",
    "\n"
   ]
  },
  {
   "cell_type": "code",
   "execution_count": 6,
   "id": "83b19ba0",
   "metadata": {},
   "outputs": [
    {
     "name": "stderr",
     "output_type": "stream",
     "text": [
      "/tmp/ipykernel_100788/3144146417.py:5: LangChainDeprecationWarning: The method `BaseTool.__call__` was deprecated in langchain-core 0.1.47 and will be removed in 1.0. Use :meth:`~invoke` instead.\n",
      "  data = safe_dataframe_tool(query)\n"
     ]
    },
    {
     "name": "stdout",
     "output_type": "stream",
     "text": [
      "                                                  title  \\\n",
      "3612          Ultra-Luxury | Duplex Penthouse | Branded   \n",
      "1594  Ultra-Luxury Shell and Core Mansion |On Lagoon...   \n",
      "1727           Golf Facing Mansion | Vacant on Transfer   \n",
      "2987        Freehold Independent  Brand-New Ready Villa   \n",
      "427     Luxurious &amp; Elegant | Ready 2025 | Sea View   \n",
      "\n",
      "                                         displayAddress  bathrooms  bedrooms  \\\n",
      "3612     Binghatti Mercedes Benz, Downtown Dubai, Dubai       <NA>         5   \n",
      "1594  District One Villas, District One, Mohammed Bi...       <NA>      <NA>   \n",
      "1727        Dubai Hills View, Dubai Hills Estate, Dubai       <NA>      <NA>   \n",
      "2987       Al Wasl Villas, Al Wasl Road, Al Wasl, Dubai       <NA>      <NA>   \n",
      "427   Bulgari Resort & Residences, Jumeirah Bay Isla...       <NA>      <NA>   \n",
      "\n",
      "                       addedOn                  type      price  verified  \\\n",
      "3612 2024-08-16 09:13:16+00:00  Residential for Sale  199000000     False   \n",
      "1594 2024-07-26 13:31:31+00:00  Residential for Sale  180000000      True   \n",
      "1727 2024-07-03 05:29:35+00:00  Residential for Sale  144950000      True   \n",
      "2987 2024-08-01 07:29:28+00:00  Residential for Sale  120000000     False   \n",
      "427  2024-07-30 07:30:28+00:00  Residential for Sale   99000000     False   \n",
      "\n",
      "     priceDuration  sizeMin furnishing  \\\n",
      "3612          sell      NaN        YES   \n",
      "1594          sell      NaN         NO   \n",
      "1727          sell      NaN        YES   \n",
      "2987          sell      NaN        YES   \n",
      "427           sell      NaN         NO   \n",
      "\n",
      "                                            description  \n",
      "3612  <p>The Mercedes-Benz Vision EQ Silver Arrow Pe...  \n",
      "1594  We proudly present an exceptional Ultra-Luxury...  \n",
      "1727  Strada Real Estate is excited to introduce you...  \n",
      "2987  Discover the luxury living with this exquisite...  \n",
      "427   Welcome to the epitome of luxury living, a mag...  \n",
      "output\n"
     ]
    }
   ],
   "source": [
    "result = main_agent(\"show 5 most expensive properties in Duabai\")"
   ]
  },
  {
   "cell_type": "code",
   "execution_count": 8,
   "id": "48cc80a2",
   "metadata": {},
   "outputs": [
    {
     "data": {
      "text/plain": [
       "[{'title': 'Ultra-Luxury | Duplex Penthouse | Branded',\n",
       "  'displayAddress': 'Binghatti Mercedes Benz, Downtown Dubai, Dubai',\n",
       "  'bathrooms': None,\n",
       "  'bedrooms': 5,\n",
       "  'addedOn': Timestamp('2024-08-16 09:13:16+0000', tz='UTC'),\n",
       "  'type': 'Residential for Sale',\n",
       "  'price': 199000000,\n",
       "  'verified': False,\n",
       "  'priceDuration': 'sell',\n",
       "  'sizeMin': nan,\n",
       "  'furnishing': 'YES',\n",
       "  'description': '<p>The Mercedes-Benz Vision EQ Silver Arrow Penthouse!</p><p><br></p><p>Named after the groundbreaking Mercedes-Benz Vision</p><p>EQ Silver Arrow, this Duplex Penthouse echoes the same</p><p>exalting moments of this legend.</p><p><br></p><p>Experience unparalleled luxury at Mercedes-Benz by Binghatti with this extraordinary 5-bedroom penthouse Duplex. This residence offers a seamless fusion of contemporary design and ultimate comfort comprising 2 floors. </p><p><br></p><p>Enjoy top-tier amenities, including a state-of-the-art gym, a refreshing pool, and a rejuvenating spa, all while benefiting from round-the-clock security and concierge services. Situated in Downtown Dubai, with iconic landmarks such as the Burj Khalifa and Dubai Mall just moments away, immerse yourself in a vibrant cosmopolitan lifestyle. Elevate your living experience—contact us today to arrange your private viewing and step into a realm of unmatched luxury.</p><p><br></p><p>Call Our Private Office Advisor for further details and personalized advice. </p><p><br></p><p>Hamptons UAE</p><p>Emaar Business Park, Building 3</p><p>www.hamptons.ae</p><p><br></p><p><br></p>'},\n",
       " {'title': 'Ultra-Luxury Shell and Core Mansion |On Lagoon|Full Vastu Compliant| District One',\n",
       "  'displayAddress': 'District One Villas, District One, Mohammed Bin Rashid City, Dubai',\n",
       "  'bathrooms': None,\n",
       "  'bedrooms': None,\n",
       "  'addedOn': Timestamp('2024-07-26 13:31:31+0000', tz='UTC'),\n",
       "  'type': 'Residential for Sale',\n",
       "  'price': 180000000,\n",
       "  'verified': True,\n",
       "  'priceDuration': 'sell',\n",
       "  'sizeMin': nan,\n",
       "  'furnishing': 'NO',\n",
       "  'description': 'We proudly present an exceptional Ultra-Luxury Mansion nestled within District One, MBR City. This unparalleled residence enjoys a prime position <b>facing lagoon and Burj Khalifa</b>.\\n\\nCurrently available for sale as a shell and core with MEP work, this spacious mansion boasts a spacious layout with basement, ground floor, first floor and roof access, having 8 Bedrooms and 10 bathrooms, 4 maid rooms, 1 driver room, saloon room, SPA room, jacuzzi, swimming pool with temperature control, home theatre and basement with 9 car parking. With completion anticipated within six months, this property offers your family the next level of comfort, privacy, and opulence.\\n\\nKey features include:\\n\\n<b>Spacious Size:</b> This expansive mansion comprises in Plot Size of 24,860 sqft. and Built-Up Area of 34,000 sqft.\\n\\n<b>Prime Location:</b> Being located directly on the lagoon in District One offering easy access to beach, along with full burj khalifa view, conveniently situated near the heart of Dubai with easy access to major attractions.\\n\\n<b>Ultra Luxury Lifestyle:</b> Indulge in a world of opulence with a private spa, state-of-the-art saloon, and dedicated entertainment spaces.\\n\\n<b>Modern Design and Interiors:</b> This architectural masterpiece showcases a harmonious blend of modern styles throughout its structure.\\n\\n<b>Fully Vastu Compliant:</b> Designed in perfect harmony with ancient principles, this mansion adheres strictly to being fully Vastu compliant, ensuring positive energy and well-being for its residents.\\n\\n<b>Amenities-rich Community:</b> Experience the epitome of luxury living in District One, a community renowned for its world-class amenities and prestigious lifestyle\\n\\n<b>Asking Price:</b> This mansion is available at price of AED 180 Million.\\n\\nLive the dream lifestyle that you deserve. If interested, call on +971 54 996 6772.'},\n",
       " {'title': 'Golf Facing Mansion | Vacant on Transfer',\n",
       "  'displayAddress': 'Dubai Hills View, Dubai Hills Estate, Dubai',\n",
       "  'bathrooms': None,\n",
       "  'bedrooms': None,\n",
       "  'addedOn': Timestamp('2024-07-03 05:29:35+0000', tz='UTC'),\n",
       "  'type': 'Residential for Sale',\n",
       "  'price': 144950000,\n",
       "  'verified': True,\n",
       "  'priceDuration': 'sell',\n",
       "  'sizeMin': nan,\n",
       "  'furnishing': 'YES',\n",
       "  'description': 'Strada Real Estate is excited to introduce you to this 8 bedroom mansion in Hills View.\\n\\nProperty Details:\\n\\n- Hills View\\n- 8 Bedrooms\\n- 17+ Bathrooms\\n- Fully Furnished\\n- Roof Terrace\\n- Maid &amp; Drivers room&#39;s\\n- Vacant on Transfer\\n- 39,139 Sq. Ft BUA\\n- 34,363.03 Sq. Ft Plot\\n- Please Call Tony McMahon on +971 52 613 3356 to arrange a viewing.\\n\\nIntroducing a luxurious masterpiece nestled in the prestigious community of Hills View, Dubai Hills. This stunning 8-bedroom villa spans an impressive 39,139 Sq.Ft.\\n\\nAs you step inside, you will be captivated by the exquisite furnishings and impeccable attention to detail throughout. The villa boasts a harmonious blend of Classic design and timeless elegance, creating an atmosphere of refined opulence.\\n\\nOne of the most remarkable features of this villa is the breathtaking view of the neighbouring golf course. Whether you&#39;re an avid golfer or simply appreciate the beauty of lush green landscapes.\\n\\nThe villa boasts exclusive features such as a home theatre, tea room, sports lounge, private gym, waterfall wall, a sauna and steam room.'},\n",
       " {'title': 'Freehold Independent  Brand-New Ready Villa',\n",
       "  'displayAddress': 'Al Wasl Villas, Al Wasl Road, Al Wasl, Dubai',\n",
       "  'bathrooms': None,\n",
       "  'bedrooms': None,\n",
       "  'addedOn': Timestamp('2024-08-01 07:29:28+0000', tz='UTC'),\n",
       "  'type': 'Residential for Sale',\n",
       "  'price': 120000000,\n",
       "  'verified': False,\n",
       "  'priceDuration': 'sell',\n",
       "  'sizeMin': nan,\n",
       "  'furnishing': 'YES',\n",
       "  'description': 'Discover the luxury living with this exquisite, custom-built Freehold Independent Brand-New Mansion Villa.\\nSeamlessly merging two plots into one breathtaking with a Plot size of 20,282 sq. ft., this villa is nestled in the prestigious heart of Jumeirah 1 – Al Wasl Area, renowned for its security and exclusivity. Ready for Occupancy.\\n\\nThis exceptional property is a rare gem in Dubai&#39;s luxury real estate market. \\n\\nBuilt on 4 expansive floors and  BUA of 28,000 sq. ft. of living space, this corner lot villa is surrounded by 3 corner streets. 8 luxurious master bedrooms, \\n\\nThe high ceilings, reaching 4 meters, create a bright and open atmosphere throughout the living areas, complemented by an HVAC system by Mitsubishi for optimal comfort and a Kone lift for added convenience.\\n\\nOwned Tennis court covered parking includes 4 indoor and 10 outdoor.\\n\\nBasement: Huge entertainment area, staff quarters, Gym, Spa, Sauna, Cinema, 2 en-suite guest bedrooms with a living area, terraces, and skylights.\\n\\nGround Floor: Main living and dining area, TV room, library, kitchen, BBQ area, jacuzzi, and spaces with unparalleled 360° views of Downtown Dubai skyline and Burj Khalifa. Includes an entertainment area, majlis, office area with a full bathroom, tennis court, large private pool, and pool house.\\n\\nFirst Floor: Large family area with views of the full tennis court and pool, additional Master bedroom.\\n\\nSecond Floor: Master bedroom with 2 walk-in closets for men and women, large shower room with a bathtub, full view of the pool, landscaped downtown skyline. Another room with a full view of Burj Khalifa, the main road, and neighbourhoods.\\n\\nRooftop Floor: Multi-function room and dining spaces with unparalleled 360° views of Downtown Dubai skyline, Burj Khalifa, and the seaside. The rooftop is connected to the elevator and features a lounge area for both summer and winter, a full bath, and a dining area with full views of the pool and tennis court.\\n\\nDLD permit no. 6546668815'},\n",
       " {'title': 'Luxurious &amp; Elegant | Ready 2025 | Sea View',\n",
       "  'displayAddress': 'Bulgari Resort & Residences, Jumeirah Bay Island, Jumeirah, Dubai',\n",
       "  'bathrooms': None,\n",
       "  'bedrooms': None,\n",
       "  'addedOn': Timestamp('2024-07-30 07:30:28+0000', tz='UTC'),\n",
       "  'type': 'Residential for Sale',\n",
       "  'price': 99000000,\n",
       "  'verified': False,\n",
       "  'priceDuration': 'sell',\n",
       "  'sizeMin': nan,\n",
       "  'furnishing': 'NO',\n",
       "  'description': 'Welcome to the epitome of luxury living, a magnificent residence within the exclusive Sea Mirror project developed by Lamar Development. This prestigious 5-bedroom villa offers an unparalleled blend of sophistication, comfort, and breathtaking design. Explore the epitome of coastal elegance with these remarkable highlights.\\n\\n-Expansive living spaces, thoughtfully designed to provide both functionality and a sense of grandeur.\\n-Private infinity pool, overlooking the azure waters of the sea – a serene retreat for moments of pure bliss.\\n-The villa boasts a gourmet kitchen equipped with top-of-the-line appliances, perfect for culinary enthusiasts and entertaining guests.\\n-Unwind in the lavish master suite, featuring panoramic views, a private terrace, and a spa-like ensuite bathroom for a truly indulgent experience.\\n-Stay ahead with cutting-edge technology, equipped with smart home features, ensuring convenience and security at your fingertips.\\n-Benefit from the privileged access to the elite amenities provided by Sea Mirror, including a private clubhouse, spa, and fitness center.\\n\\n\\nFor more assistance please do not hesitate to get in touch \\nmobile:+971 58 577 4996\\nemail:dan@tieroneproperties.ae'}]"
      ]
     },
     "execution_count": 8,
     "metadata": {},
     "output_type": "execute_result"
    }
   ],
   "source": [
    "result[\"data\"]"
   ]
  },
  {
   "cell_type": "code",
   "execution_count": 1,
   "id": "05d2ce61",
   "metadata": {},
   "outputs": [],
   "source": [
    "# from IPython.display import HTML\n",
    "\n",
    "\n",
    "# html_img = f'<img src=\"data:image/png;base64,{result[\"image\"]}\" />'\n",
    "# display(HTML(html_img))"
   ]
  }
 ],
 "metadata": {
  "kernelspec": {
   "display_name": ".chatbot_env",
   "language": "python",
   "name": "python3"
  },
  "language_info": {
   "codemirror_mode": {
    "name": "ipython",
    "version": 3
   },
   "file_extension": ".py",
   "mimetype": "text/x-python",
   "name": "python",
   "nbconvert_exporter": "python",
   "pygments_lexer": "ipython3",
   "version": "3.12.3"
  }
 },
 "nbformat": 4,
 "nbformat_minor": 5
}
