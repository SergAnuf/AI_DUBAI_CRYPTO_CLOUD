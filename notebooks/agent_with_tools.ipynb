{
 "cells": [
  {
   "cell_type": "code",
   "execution_count": 3,
   "id": "e2c15367",
   "metadata": {},
   "outputs": [
    {
     "data": {
      "text/plain": [
       "True"
      ]
     },
     "execution_count": 3,
     "metadata": {},
     "output_type": "execute_result"
    }
   ],
   "source": [
    "# Standard libraries\n",
    "import os\n",
    "import sys\n",
    "import json\n",
    "from dotenv import load_dotenv\n",
    "\n",
    "# Third-party libraries\n",
    "import pandas as pd\n",
    "from IPython.display import HTML\n",
    "\n",
    "# Add project root to sys.path\n",
    "project_root = os.path.dirname(os.getcwd())\n",
    "sys.path.append(project_root)\n",
    "\n",
    "# Local modules\n",
    "from src.classifiers import is_uae_real_estate_query, llm_classifier\n",
    "from src.tools import extract_data_intent, safe_dataframe_tool, create_plotly_code\n",
    "from src.geo_tools import generate_google_maps_html\n",
    "\n",
    "load_dotenv()"
   ]
  },
  {
   "cell_type": "code",
   "execution_count": 4,
   "id": "75bc27e4",
   "metadata": {},
   "outputs": [
    {
     "name": "stdout",
     "output_type": "stream",
     "text": [
      "Dataset loaded successfully.\n"
     ]
    }
   ],
   "source": [
    "query = \"create bar chart of average price per square meter for 2 bedroom flats in Dubai by area\"\n",
    "\n",
    "data_intent = extract_data_intent.invoke(query)\n",
    "\n",
    "    # Step 3: Use PandasAI to retrieve relevant data\n",
    "data_json_str = safe_dataframe_tool.invoke(data_intent)\n",
    "data_dict = json.loads(data_json_str)\n",
    "\n",
    "\n",
    "viz_input = json.dumps({\"data\": data_dict[\"result\"], \"query\": query})"
   ]
  },
  {
   "cell_type": "code",
   "execution_count": 6,
   "id": "2d7e7b43",
   "metadata": {},
   "outputs": [
    {
     "name": "stderr",
     "output_type": "stream",
     "text": [
      "/tmp/ipykernel_59582/3150211084.py:1: LangChainDeprecationWarning: The method `BaseTool.__call__` was deprecated in langchain-core 0.1.47 and will be removed in 1.0. Use :meth:`~invoke` instead.\n",
      "  create_plotly_code(viz_input)\n"
     ]
    },
    {
     "data": {
      "text/plain": [
       "'{\"success\": true, \"result\": \"import pandas as pd\\\\nimport plotly.graph_objs as go\\\\n\\\\n# Your data\\\\ndata = [\\\\n    [\\'Dubai Marina\\', 62749.367424],\\\\n    [\\'Dubai Sports City\\', 23636.363636],\\\\n    [\\'Al Barari\\', 131818.181818],\\\\n    [\\'Al Wasl\\', 60818.181818],\\\\n    [\\'Al Furjan\\', 52272.727273],\\\\n    [\\'Business Bay\\', 81587.121212],\\\\n    [\\'Palm Jumeirah\\', 183080.805556],\\\\n    [\\'City Walk\\', 104829.545455],\\\\n    [\\'International City\\', 15454.545455],\\\\n    [\\'Dubai Residence Complex\\', 27240.909091],\\\\n    [\\'Town Square\\', 29545.454545],\\\\n    [\\'Downtown Dubai\\', 85833.333333],\\\\n    [\\'Zabeel\\', 108712.121212],\\\\n    [\\'Arjan\\', 32681.818182],\\\\n    [\\'Jumeirah Beach Residence\\', 169409.090909],\\\\n    [\\'Dubai Harbour\\', 148863.636364],\\\\n    [\\'Hills\\', 75000.000000],\\\\n    [\\'Views\\', 60000.000000],\\\\n    [\\'Al Quoz\\', 32954.545455],\\\\n    [\\'Dubai Silicon Oasis\\', 37954.545455],\\\\n    [\\'Springs\\', 74983.762987],\\\\n    [\\'Culture Village\\', 85227.272727],\\\\n    [\\'Jumeirah Village\\', 64331.168831],\\\\n    [\\'Al Jaddaf\\', 55681.818182]\\\\n]\\\\n\\\\n# Convert data to DataFrame\\\\ndf = pd.DataFrame(data, columns=[\\'Area\\', \\'avg_price_per_sqm\\'])\\\\n\\\\n# Create a bar chart with Plotly\\\\nfig = go.Figure(data=[go.Bar(x=df[\\'Area\\'], y=df[\\'avg_price_per_sqm\\'])])\\\\nfig.update_layout(title_text=\\'Average Price Per Square Meter for 2 Bedroom Flats in Dubai by Area\\',\\\\n                  xaxis_title=\\'Area\\',\\\\n                  yaxis_title=\\'Average Price per Square Meter\\')\\\\n\\\\nst.plotly_chart(fig, use_container_width=True)\", \"error\": null, \"solution\": null}'"
      ]
     },
     "execution_count": 6,
     "metadata": {},
     "output_type": "execute_result"
    }
   ],
   "source": [
    "create_plotly_code(viz_input)"
   ]
  },
  {
   "cell_type": "code",
   "execution_count": null,
   "id": "88488b52",
   "metadata": {},
   "outputs": [],
   "source": [
    "def main_agent(query: str):\n",
    "    # Step 1: Check if query is relevant\n",
    "    if not is_uae_real_estate_query(query):\n",
    "        return {\"type\": \"output\", \"data\": \"This is an irrelevant question to UAE property.\"}\n",
    "\n",
    "    # Step 2: Extract data intent from user query\n",
    "    data_intent = extract_data_intent.invoke(query)\n",
    "\n",
    "    # Step 3: Use PandasAI to retrieve relevant data\n",
    "    data_json_str = safe_dataframe_tool.invoke(data_intent)\n",
    "    data_dict = json.loads(data_json_str)\n",
    "\n",
    "    if not data_dict.get(\"success\"):\n",
    "        return {\"type\": \"error\", \"error\": data_dict.get(\"error\"), \"solution\": data_dict.get(\"solution\")}\n",
    "\n",
    "    # Step 4: Classify the user's goal\n",
    "    action = llm_classifier(query)\n",
    "    \n",
    "\n",
    "    # Step 5: Take action based on user intent\n",
    "    if action == \"output\":\n",
    "        return {\"type\": \"data\", \"data\": data_dict[\"result\"]}\n",
    "    \n",
    "    \n",
    "    elif action == \"plot_stats\":\n",
    "       \n",
    "        viz_input = json.dumps({\"data\": data_dict[\"result\"], \"query\": query})\n",
    "        result_json_str = create_plotly_code.invoke(viz_input)\n",
    "        result = json.loads(result_json_str)\n",
    "        return {\"type\": \"plot\", **result}\n",
    "\n",
    "    elif action == \"geospatial_plot\":\n",
    "        \n",
    "        html = generate_google_maps_html(data_dict[\"result\"])\n",
    "        return {\"type\": \"html\", \"content\": html}\n",
    "\n",
    "    else:\n",
    "        return {\"type\": \"error\", \"error\": f\"Unknown action '{action}' from classifier.\"}\n"
   ]
  },
  {
   "cell_type": "code",
   "execution_count": 6,
   "id": "fc2d6337",
   "metadata": {},
   "outputs": [
    {
     "name": "stdout",
     "output_type": "stream",
     "text": [
      "Dataset loaded successfully.\n"
     ]
    }
   ],
   "source": [
    "data_intent = extract_data_intent.invoke(\"create time series plot of the number of properties added in dubai per month\")\n",
    "\n",
    "    # Step 3: Use PandasAI to retrieve relevant data\n",
    "data_json_str = safe_dataframe_tool.invoke(data_intent)\n",
    "data_dict = json.loads(data_json_str)"
   ]
  },
  {
   "cell_type": "code",
   "execution_count": 8,
   "id": "26b21782",
   "metadata": {},
   "outputs": [
    {
     "data": {
      "text/plain": [
       "{'success': False,\n",
       " 'result': None,\n",
       " 'error': 'Object of type Timestamp is not JSON serializable',\n",
       " 'solution': 'Check your query syntax or the dataset structure.'}"
      ]
     },
     "execution_count": 8,
     "metadata": {},
     "output_type": "execute_result"
    }
   ],
   "source": [
    "data_dict"
   ]
  },
  {
   "cell_type": "code",
   "execution_count": 30,
   "id": "b00f9bec",
   "metadata": {},
   "outputs": [],
   "source": [
    "import streamlit as st\n",
    "import pandas as pd\n",
    "import openai\n",
    "from typing import Optional\n",
    "\n",
    "def get_openai_llm():\n",
    "    \"\"\"Initialize OpenAI client\"\"\"\n",
    "    return openai.OpenAI(api_key=st.secrets[\"OPENAI_API_KEY\"])\n",
    "\n",
    "def extract_python_code(text: str) -> Optional[str]:\n",
    "    \"\"\"\n",
    "    Extract Python code from markdown code blocks.\n",
    "    Returns None if no code found.\n",
    "    \"\"\"\n",
    "    if '```python' in text:\n",
    "        return text.split('```python')[1].split('```')[0].strip()\n",
    "    elif '```' in text:\n",
    "        return text.split('```')[1].split('```')[0].strip()\n",
    "    return None\n",
    "\n",
    "def create_plotly_code(data_dict: dict, user_input: str, verbose: bool = True):\n",
    "    \"\"\"Generate and execute Plotly code using your exact prompt format\"\"\"\n",
    "    # Prepare data\n",
    "    data = pd.DataFrame(data_dict[\"result\"])\n",
    "    \n",
    "    # Create prompt (using your exact format)\n",
    "    code_prompt = f\"\"\"\n",
    "        Generate the code <code> for plotting the data, {data}, in plotly,\n",
    "        in the format requested by: {user_input}.\n",
    "        The solution should be given using plotly and only plotly.\n",
    "        Do not use matplotlib. Return the code <code> in the following\n",
    "        format python <code>\n",
    "    \"\"\"\n",
    "    # Get AI response\n",
    "    official_ai = get_openai_llm()\n",
    "    response = official_ai.chat.completions.create(\n",
    "        model=\"gpt-4\",\n",
    "        messages=[{\"role\": \"user\", \"content\": code_prompt}],\n",
    "        max_tokens=1000\n",
    "    )\n",
    "    \n",
    "    # Extract code\n",
    "    raw_response = response.choices[0].message.content\n",
    "    code = extract_python_code(raw_response)\n",
    "\n",
    "    # Modify code for Streamlit\n",
    "    code = code.replace(\"fig.show()\", \"\")\n",
    "    code += \"\\nst.plotly_chart(fig, use_container_width=True)\"\n",
    "    \n",
    "    return code"
   ]
  },
  {
   "cell_type": "code",
   "execution_count": 5,
   "id": "5d87018d",
   "metadata": {},
   "outputs": [
    {
     "name": "stdout",
     "output_type": "stream",
     "text": [
      "Dataset loaded successfully.\n"
     ]
    }
   ],
   "source": [
    "data_intent = extract_data_intent.invoke(\"make bar plot of the average property prices in Jumeirah by the number of rooms\")\n",
    "\n",
    "    # Step 3: Use PandasAI to retrieve relevant data\n",
    "data_json_str = safe_dataframe_tool.invoke(data_intent)\n",
    "data_dict = json.loads(data_json_str)"
   ]
  },
  {
   "cell_type": "code",
   "execution_count": null,
   "id": "7604360c",
   "metadata": {},
   "outputs": [],
   "source": [
    "from src.tools import get"
   ]
  },
  {
   "cell_type": "code",
   "execution_count": 6,
   "id": "65e038f9",
   "metadata": {},
   "outputs": [
    {
     "data": {
      "text/plain": [
       "'Extract average property prices in Jumeirah grouped by the number of rooms.'"
      ]
     },
     "execution_count": 6,
     "metadata": {},
     "output_type": "execute_result"
    }
   ],
   "source": [
    "data_intent"
   ]
  },
  {
   "cell_type": "code",
   "execution_count": 6,
   "id": "b548cdf8",
   "metadata": {},
   "outputs": [
    {
     "data": {
      "text/plain": [
       "{'type': 'plot',\n",
       " 'success': True,\n",
       " 'result': {'code': 'import pandas as pd\\nimport plotly.express as px\\n\\ndata = [\\n  {\\n    \"bedrooms\": 0,\\n    \"avg_price\": 6823900.0\\n  },\\n  {\\n    \"bedrooms\": 2,\\n    \"avg_price\": 6170666.619047619\\n  },\\n  {\\n    \"bedrooms\": 1,\\n    \"avg_price\": 2423169.0434782607\\n  },\\n  {\\n    \"bedrooms\": 3,\\n    \"avg_price\": 15367307.692307692\\n  },\\n  {\\n    \"bedrooms\": 4,\\n    \"avg_price\": 15542356.6\\n  }\\n]\\ndf = pd.DataFrame(data)\\nfig = px.bar(df, x=\\'bedrooms\\', y=\\'avg_price\\', title=\\'Average Property Prices in Jumeirah by Number of Rooms\\')\\nfig.update_layout(xaxis_title=\\'Number of Rooms\\', yaxis_title=\\'Average Price\\')',\n",
       "  'image_base64': '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'},\n",
       " 'error': None,\n",
       " 'solution': None}"
      ]
     },
     "execution_count": 6,
     "metadata": {},
     "output_type": "execute_result"
    }
   ],
   "source": [
    "result"
   ]
  },
  {
   "cell_type": "code",
   "execution_count": 3,
   "id": "aa413012",
   "metadata": {},
   "outputs": [],
   "source": [
    "DATA_DIR = r\"../data/uae_real_estate_2024_geo_ready2.parquet\"\n",
    "df =  pd.read_parquet(DATA_DIR)"
   ]
  },
  {
   "cell_type": "code",
   "execution_count": 6,
   "id": "768efeca",
   "metadata": {},
   "outputs": [],
   "source": [
    "df.drop(columns=\"addedOn\", inplace=True)"
   ]
  },
  {
   "cell_type": "code",
   "execution_count": 7,
   "id": "f51d86b3",
   "metadata": {},
   "outputs": [
    {
     "data": {
      "text/plain": [
       "Index(['title', 'displayAddress', 'bathrooms', 'bedrooms', 'type', 'price',\n",
       "       'verified', 'priceDuration', 'sizeMin', 'furnishing', 'description',\n",
       "       'latitude', 'longitude', 'City'],\n",
       "      dtype='object')"
      ]
     },
     "execution_count": 7,
     "metadata": {},
     "output_type": "execute_result"
    }
   ],
   "source": [
    "df.columns"
   ]
  },
  {
   "cell_type": "code",
   "execution_count": 11,
   "id": "cf47da3f",
   "metadata": {},
   "outputs": [
    {
     "data": {
      "text/plain": [
       "['bathrooms', 'bedrooms', 'sizeMin', 'furnishing']"
      ]
     },
     "execution_count": 11,
     "metadata": {},
     "output_type": "execute_result"
    }
   ],
   "source": [
    "df.columns[df.isna().any()].tolist()\n"
   ]
  },
  {
   "cell_type": "code",
   "execution_count": 15,
   "id": "86159052",
   "metadata": {},
   "outputs": [
    {
     "name": "stderr",
     "output_type": "stream",
     "text": [
      "/tmp/ipykernel_218246/1890490215.py:1: FutureWarning: A value is trying to be set on a copy of a DataFrame or Series through chained assignment using an inplace method.\n",
      "The behavior will change in pandas 3.0. This inplace method will never work because the intermediate object on which we are setting values always behaves as a copy.\n",
      "\n",
      "For example, when doing 'df[col].method(value, inplace=True)', try using 'df.method({col: value}, inplace=True)' or df[col] = df[col].method(value) instead, to perform the operation inplace on the original object.\n",
      "\n",
      "\n",
      "  df['bathrooms'].fillna(0, inplace=True)\n",
      "/tmp/ipykernel_218246/1890490215.py:2: FutureWarning: A value is trying to be set on a copy of a DataFrame or Series through chained assignment using an inplace method.\n",
      "The behavior will change in pandas 3.0. This inplace method will never work because the intermediate object on which we are setting values always behaves as a copy.\n",
      "\n",
      "For example, when doing 'df[col].method(value, inplace=True)', try using 'df.method({col: value}, inplace=True)' or df[col] = df[col].method(value) instead, to perform the operation inplace on the original object.\n",
      "\n",
      "\n",
      "  df['bedrooms'].fillna(0, inplace=True)\n"
     ]
    }
   ],
   "source": [
    "df['bathrooms'].fillna(0, inplace=True)\n",
    "df['bedrooms'].fillna(0, inplace=True)\n",
    "df['furnishing'] = df['furnishing'].cat.add_categories('Unknown')\n",
    "df['furnishing'] = df['furnishing'].fillna('Unknown')\n"
   ]
  },
  {
   "cell_type": "code",
   "execution_count": 16,
   "id": "26c08842",
   "metadata": {},
   "outputs": [],
   "source": [
    "df[\"sizeMin\"] = df[\"bedrooms\"].apply(lambda x: 20 + 12 * x)"
   ]
  },
  {
   "cell_type": "code",
   "execution_count": 18,
   "id": "2ac41cc3",
   "metadata": {},
   "outputs": [],
   "source": [
    "df['addedOn'] = df['addedOn'].dt.strftime('%Y-%m-%dT%H:%M:%S')"
   ]
  },
  {
   "cell_type": "code",
   "execution_count": 22,
   "id": "c7d7a654",
   "metadata": {},
   "outputs": [
    {
     "data": {
      "application/vnd.microsoft.datawrangler.viewer.v0+json": {
       "columns": [
        {
         "name": "index",
         "rawType": "int64",
         "type": "integer"
        },
        {
         "name": "displayAddress",
         "rawType": "string",
         "type": "string"
        }
       ],
       "ref": "22da8347-bea2-4a30-8730-dc92658394b3",
       "rows": [
        [
         "0",
         "Binghatti Canal, Business Bay, Dubai"
        ],
        [
         "1",
         "La Vie, Jumeirah Beach Residence, Dubai"
        ],
        [
         "2",
         "East 40, Al Furjan, Dubai"
        ],
        [
         "3",
         "Meadows 3, Meadows, Dubai"
        ],
        [
         "4",
         "Princess Tower, Dubai Marina, Dubai"
        ],
        [
         "5",
         "The Aldea, The Villa, Dubai"
        ],
        [
         "6",
         "Springs 5, The Springs, Dubai"
        ],
        [
         "7",
         "Tria By Deyaar, Dubai Silicon Oasis, Dubai"
        ],
        [
         "8",
         "Arabella Townhouses 2, Arabella Townhouses, Mudon, Dubai"
        ],
        [
         "9",
         "Springs 4, The Springs, Dubai"
        ],
        [
         "10",
         "Continental Tower, Dubai Marina, Dubai"
        ],
        [
         "11",
         "Oxford 212, Jumeirah Village Circle, Dubai"
        ],
        [
         "12",
         "Springs 3, The Springs, Dubai"
        ],
        [
         "13",
         "Hayyan, Sharjah"
        ],
        [
         "14",
         "Jebel Ali Hills, Jebel Ali, Dubai"
        ],
        [
         "15",
         "Mira 1, Mira, Reem, Dubai"
        ],
        [
         "16",
         "Rockwood, DAMAC Hills, Dubai"
        ],
        [
         "17",
         "Marina Crown, Dubai Marina, Dubai"
        ],
        [
         "18",
         "Saheel, Arabian Ranches, Dubai"
        ],
        [
         "19",
         "Meadows 2, Meadows, Dubai"
        ],
        [
         "20",
         "Alvorada 3, Alvorada, Arabian Ranches, Dubai"
        ],
        [
         "21",
         "La Vie, Jumeirah Beach Residence, Dubai"
        ],
        [
         "22",
         "Sadaf 8, Sadaf, Jumeirah Beach Residence, Dubai"
        ],
        [
         "23",
         "Topanga, DAMAC Hills, Dubai"
        ],
        [
         "24",
         "Rosa, Arabian Ranches 2, Dubai"
        ],
        [
         "25",
         "Hayyan, Sharjah"
        ],
        [
         "26",
         "Ashjar, Al Barari, Dubai"
        ],
        [
         "27",
         "Five Luxe JBR, Jumeirah Beach Residence, Dubai"
        ],
        [
         "28",
         "Khor Fakkan, Fujairah"
        ],
        [
         "29",
         "Khor Fakkan, Fujairah"
        ],
        [
         "30",
         "Ponderosa, The Villa, Dubai"
        ],
        [
         "31",
         "Hayyan, Sharjah"
        ],
        [
         "32",
         "Orla by Omniyat, Palm Jumeirah, Dubai"
        ],
        [
         "33",
         "Building 19, City Walk, Dubai"
        ],
        [
         "34",
         "1 JBR, Jumeirah Beach Residence, Dubai"
        ],
        [
         "35",
         "Burj Royale, Downtown Dubai, Dubai"
        ],
        [
         "36",
         "Mira 5, Mira, Reem, Dubai"
        ],
        [
         "37",
         "Naseem, Mudon, Dubai"
        ],
        [
         "38",
         "Building 19, City Walk, Dubai"
        ],
        [
         "39",
         "Al Reem 2, Al Reem, Arabian Ranches, Dubai"
        ],
        [
         "40",
         "Meadows 3, Meadows, Dubai"
        ],
        [
         "41",
         "Casa, Arabian Ranches 2, Dubai"
        ],
        [
         "42",
         "Six Senses Residences, Palm Jumeirah, Dubai"
        ],
        [
         "43",
         "District 10, Jumeirah Village Circle, Dubai"
        ],
        [
         "44",
         "La Vie, Jumeirah Beach Residence, Dubai"
        ],
        [
         "45",
         "La Vie, Jumeirah Beach Residence, Dubai"
        ],
        [
         "46",
         "Meadows 2, Meadows, Dubai"
        ],
        [
         "47",
         "Saheel, Arabian Ranches, Dubai"
        ],
        [
         "48",
         "Springs 4, The Springs, Dubai"
        ],
        [
         "49",
         "Saheel, Arabian Ranches, Dubai"
        ]
       ],
       "shape": {
        "columns": 1,
        "rows": 563
       }
      },
      "text/plain": [
       "0         Binghatti Canal, Business Bay, Dubai\n",
       "1      La Vie, Jumeirah Beach Residence, Dubai\n",
       "2                    East 40, Al Furjan, Dubai\n",
       "3                    Meadows 3, Meadows, Dubai\n",
       "4          Princess Tower, Dubai Marina, Dubai\n",
       "                        ...                   \n",
       "558           Zulal 1, Zulal, The Lakes, Dubai\n",
       "559           Cayan Tower, Dubai Marina, Dubai\n",
       "560            West Yas, Yas Island, Abu Dhabi\n",
       "561           Al Marjan Island, Ras Al Khaimah\n",
       "562           Oia Residence, Motor City, Dubai\n",
       "Name: displayAddress, Length: 563, dtype: string"
      ]
     },
     "execution_count": 22,
     "metadata": {},
     "output_type": "execute_result"
    }
   ],
   "source": [
    "df[\"displayAddress\"]"
   ]
  },
  {
   "cell_type": "code",
   "execution_count": 19,
   "id": "5639550f",
   "metadata": {},
   "outputs": [
    {
     "data": {
      "text/plain": [
       "[]"
      ]
     },
     "execution_count": 19,
     "metadata": {},
     "output_type": "execute_result"
    }
   ],
   "source": [
    "df.columns[df.isna().any()].tolist()\n"
   ]
  },
  {
   "cell_type": "code",
   "execution_count": 20,
   "id": "796e45fd",
   "metadata": {},
   "outputs": [],
   "source": [
    "df.to_csv(r\"../data/uae_real_estate_2024_geo_ready2.csv\", index=False)"
   ]
  },
  {
   "cell_type": "code",
   "execution_count": 21,
   "id": "c700c9c4",
   "metadata": {},
   "outputs": [
    {
     "name": "stdout",
     "output_type": "stream",
     "text": [
      "Dataset saved successfully to path: my-org/properties3\n"
     ]
    }
   ],
   "source": [
    "import pandasai as pai\n",
    "\n",
    "companies = pai.create(\n",
    "  path=\"my-org/properties3\",\n",
    "  df=pai.read_csv(\"../data/uae_real_estate_2024_geo_ready2.csv\"),\n",
    "  description=\"UAE properties dataset 2\"\n",
    ")"
   ]
  },
  {
   "cell_type": "code",
   "execution_count": 7,
   "id": "0631b653",
   "metadata": {},
   "outputs": [],
   "source": [
    "result = companies.chat(\"Retrieve properties located within a 2-mile radius of Dubai Eye.\")"
   ]
  }
 ],
 "metadata": {
  "kernelspec": {
   "display_name": "chatbot_env2",
   "language": "python",
   "name": "python3"
  },
  "language_info": {
   "codemirror_mode": {
    "name": "ipython",
    "version": 3
   },
   "file_extension": ".py",
   "mimetype": "text/x-python",
   "name": "python",
   "nbconvert_exporter": "python",
   "pygments_lexer": "ipython3",
   "version": "3.10.17"
  }
 },
 "nbformat": 4,
 "nbformat_minor": 5
}
