{
 "cells": [
  {
   "cell_type": "code",
   "id": "e2c15367",
   "metadata": {
    "ExecuteTime": {
     "end_time": "2025-06-11T12:33:06.770909Z",
     "start_time": "2025-06-11T12:33:06.765910Z"
    }
   },
   "source": [
    "# Standard libraries\n",
    "import os\n",
    "import sys\n",
    "import json\n",
    "from dotenv import load_dotenv\n",
    "\n",
    "# Third-party libraries\n",
    "import pandas as pd\n",
    "\n",
    "# Add project root to sys.path\n",
    "project_root = os.path.dirname(os.getcwd())\n",
    "sys.path.append(project_root)\n",
    "\n",
    "# Local modules\n",
    "from src.classifiers import is_uae_real_estate_query, llm_classifier\n",
    "from src.tools import extract_data_intent, safe_dataframe_tool, create_plotly_code,get_openai_llm\n",
    "from src.geo_tools import generate_google_maps_html\n",
    "\n",
    "load_dotenv()"
   ],
   "outputs": [
    {
     "data": {
      "text/plain": [
       "True"
      ]
     },
     "execution_count": 4,
     "metadata": {},
     "output_type": "execute_result"
    }
   ],
   "execution_count": 4
  },
  {
   "metadata": {
    "ExecuteTime": {
     "end_time": "2025-06-11T12:34:29.971821Z",
     "start_time": "2025-06-11T12:34:26.474514Z"
    }
   },
   "cell_type": "code",
   "source": "query = extract_data_intent.invoke(\"show histogram for the properties prices in this uae database and set the number of bins to 15\")",
   "id": "13c3488361a317df",
   "outputs": [],
   "execution_count": 12
  },
  {
   "metadata": {
    "ExecuteTime": {
     "end_time": "2025-06-11T12:49:20.807818Z",
     "start_time": "2025-06-11T12:49:20.804706Z"
    }
   },
   "cell_type": "code",
   "source": "df = pd.DataFrame(json.loads(result)[\"result\"])",
   "id": "ec3702d33c62c02f",
   "outputs": [],
   "execution_count": 23
  },
  {
   "metadata": {
    "ExecuteTime": {
     "end_time": "2025-06-10T10:23:52.242140Z",
     "start_time": "2025-06-10T10:23:52.232593Z"
    }
   },
   "cell_type": "code",
   "source": "data = pd.read_parquet(\"/home/zcemg08/projects/chatbot/datasets/my-org/clean2/data.parquet\")",
   "id": "1de481be9f589d84",
   "outputs": [],
   "execution_count": 20
  },
  {
   "metadata": {
    "ExecuteTime": {
     "end_time": "2025-06-10T10:25:25.783299Z",
     "start_time": "2025-06-10T10:25:25.769167Z"
    }
   },
   "cell_type": "code",
   "source": "data[(data[\"City\"] == \"Dubai\") &  (data[\"addedOn_year_month\"] == \"2024-03\") & (data[\"bedrooms\"] == 1)]",
   "id": "3a3b93b52199e8b5",
   "outputs": [
    {
     "data": {
      "text/plain": [
       "                                                 title  bathrooms  bedrooms  \\\n",
       "316         Fully Furnished | Large Terrace | High ROI          1         1   \n",
       "394     FIVE Specialist | 10% ROI | Residential Resell          1         1   \n",
       "520  Desirably Located | Dubai Marina | Modern buil...          2         1   \n",
       "\n",
       "                     type    price  verified priceDuration  sizeMin  \\\n",
       "316  Residential for Sale   830000      True          sell       32   \n",
       "394  Residential for Sale  5200000      True          sell       32   \n",
       "520  Residential for Sale  1899000      True          sell       32   \n",
       "\n",
       "    furnishing                                        description   latitude  \\\n",
       "316        YES  Lacon International is delighted to present th...  25.004149   \n",
       "394        YES  Residential Tower One Bedroom RESELL. Project ...  25.080890   \n",
       "520         NO  Le-Pax Real Estate delighted to present to you...  25.068635   \n",
       "\n",
       "     longitude   City addedOn_year_month addedOn_month_name  \\\n",
       "316  55.286234  Dubai            2024-03              March   \n",
       "394  55.136774  Dubai            2024-03              March   \n",
       "520  55.131475  Dubai            2024-03              March   \n",
       "\n",
       "     addedOn_month_num  addedOn_day_num                      Area  \n",
       "316                  3               16               Town Square  \n",
       "394                  3               27  Jumeirah Beach Residence  \n",
       "520                  3               21              Dubai Marina  "
      ],
      "text/html": [
       "<div>\n",
       "<style scoped>\n",
       "    .dataframe tbody tr th:only-of-type {\n",
       "        vertical-align: middle;\n",
       "    }\n",
       "\n",
       "    .dataframe tbody tr th {\n",
       "        vertical-align: top;\n",
       "    }\n",
       "\n",
       "    .dataframe thead th {\n",
       "        text-align: right;\n",
       "    }\n",
       "</style>\n",
       "<table border=\"1\" class=\"dataframe\">\n",
       "  <thead>\n",
       "    <tr style=\"text-align: right;\">\n",
       "      <th></th>\n",
       "      <th>title</th>\n",
       "      <th>bathrooms</th>\n",
       "      <th>bedrooms</th>\n",
       "      <th>type</th>\n",
       "      <th>price</th>\n",
       "      <th>verified</th>\n",
       "      <th>priceDuration</th>\n",
       "      <th>sizeMin</th>\n",
       "      <th>furnishing</th>\n",
       "      <th>description</th>\n",
       "      <th>latitude</th>\n",
       "      <th>longitude</th>\n",
       "      <th>City</th>\n",
       "      <th>addedOn_year_month</th>\n",
       "      <th>addedOn_month_name</th>\n",
       "      <th>addedOn_month_num</th>\n",
       "      <th>addedOn_day_num</th>\n",
       "      <th>Area</th>\n",
       "    </tr>\n",
       "  </thead>\n",
       "  <tbody>\n",
       "    <tr>\n",
       "      <th>316</th>\n",
       "      <td>Fully Furnished | Large Terrace | High ROI</td>\n",
       "      <td>1</td>\n",
       "      <td>1</td>\n",
       "      <td>Residential for Sale</td>\n",
       "      <td>830000</td>\n",
       "      <td>True</td>\n",
       "      <td>sell</td>\n",
       "      <td>32</td>\n",
       "      <td>YES</td>\n",
       "      <td>Lacon International is delighted to present th...</td>\n",
       "      <td>25.004149</td>\n",
       "      <td>55.286234</td>\n",
       "      <td>Dubai</td>\n",
       "      <td>2024-03</td>\n",
       "      <td>March</td>\n",
       "      <td>3</td>\n",
       "      <td>16</td>\n",
       "      <td>Town Square</td>\n",
       "    </tr>\n",
       "    <tr>\n",
       "      <th>394</th>\n",
       "      <td>FIVE Specialist | 10% ROI | Residential Resell</td>\n",
       "      <td>1</td>\n",
       "      <td>1</td>\n",
       "      <td>Residential for Sale</td>\n",
       "      <td>5200000</td>\n",
       "      <td>True</td>\n",
       "      <td>sell</td>\n",
       "      <td>32</td>\n",
       "      <td>YES</td>\n",
       "      <td>Residential Tower One Bedroom RESELL. Project ...</td>\n",
       "      <td>25.080890</td>\n",
       "      <td>55.136774</td>\n",
       "      <td>Dubai</td>\n",
       "      <td>2024-03</td>\n",
       "      <td>March</td>\n",
       "      <td>3</td>\n",
       "      <td>27</td>\n",
       "      <td>Jumeirah Beach Residence</td>\n",
       "    </tr>\n",
       "    <tr>\n",
       "      <th>520</th>\n",
       "      <td>Desirably Located | Dubai Marina | Modern buil...</td>\n",
       "      <td>2</td>\n",
       "      <td>1</td>\n",
       "      <td>Residential for Sale</td>\n",
       "      <td>1899000</td>\n",
       "      <td>True</td>\n",
       "      <td>sell</td>\n",
       "      <td>32</td>\n",
       "      <td>NO</td>\n",
       "      <td>Le-Pax Real Estate delighted to present to you...</td>\n",
       "      <td>25.068635</td>\n",
       "      <td>55.131475</td>\n",
       "      <td>Dubai</td>\n",
       "      <td>2024-03</td>\n",
       "      <td>March</td>\n",
       "      <td>3</td>\n",
       "      <td>21</td>\n",
       "      <td>Dubai Marina</td>\n",
       "    </tr>\n",
       "  </tbody>\n",
       "</table>\n",
       "</div>"
      ]
     },
     "execution_count": 22,
     "metadata": {},
     "output_type": "execute_result"
    }
   ],
   "execution_count": 22
  },
  {
   "metadata": {
    "ExecuteTime": {
     "end_time": "2025-06-10T09:42:15.915298Z",
     "start_time": "2025-06-10T09:42:15.908981Z"
    }
   },
   "cell_type": "code",
   "source": "data[\"Area\"].unique()",
   "id": "c269dcc4be7802fc",
   "outputs": [
    {
     "data": {
      "text/plain": [
       "array(['Business Bay', 'Jumeirah Beach Residence', 'Al Furjan', 'Meadows',\n",
       "       'Dubai Marina', 'Villa', 'Springs', 'Dubai Silicon Oasis',\n",
       "       'Dubai Land', 'Jumeirah Village', 'Hayyan', 'Jebel Ali',\n",
       "       'Al Reem Island', 'Damac Hills', 'Arabian Ranches', 'Al Barari',\n",
       "       'Khor Fakkan', 'Palm Jumeirah', 'City Walk', 'Downtown Dubai',\n",
       "       'Culture Village', 'Dubai Sports City', 'Muwaileh',\n",
       "       'Dubai Hills Estate', 'Jumeirah', 'Lakes',\n",
       "       'Dubai Residence Complex', 'Al Jubail Island', 'Manama',\n",
       "       'Al Riqqa', 'Al Ghadeer', 'Discovery Gardens', 'Al Shamkha',\n",
       "       'Zabeel', 'Views', 'Difc', 'Al Nahda', 'Town Square', 'Meydan',\n",
       "       'Motor City', 'Dubai Festival City', 'Majan', 'Nad Al Sheba',\n",
       "       'Al Jaddaf', 'International City', 'Al Marjan Island', 'Al Warsan',\n",
       "       'Wadi Al Safa', 'Barsha Heights', 'Al Wasl', 'Al Mamzar',\n",
       "       'Wasl Gate', 'Dubai Industrial City', 'Al Dhait', 'Al Qurm',\n",
       "       'Yas Island', 'Dubai Harbour', 'Al Tallah', 'Saadiyat Island',\n",
       "       'Al Helio', 'Mina Al Arab', 'Al Quoz', 'Hills', 'Al Barsha',\n",
       "       'Al Mairid', 'Al Hamra Village', 'Deira', 'Arjan',\n",
       "       'Al Ameera Village', 'Al Qusaidat', 'Seih Al Uraibi',\n",
       "       'Khalifa City', 'Al Zubair', 'Madinat Zayed', 'Al Reef',\n",
       "       'Al Qasimia'], dtype=object)"
      ]
     },
     "execution_count": 35,
     "metadata": {},
     "output_type": "execute_result"
    }
   ],
   "execution_count": 35
  },
  {
   "metadata": {
    "ExecuteTime": {
     "end_time": "2025-06-11T13:28:16.794777Z",
     "start_time": "2025-06-11T13:28:16.747294Z"
    }
   },
   "cell_type": "code",
   "source": "data_cities = pd.DataFrame([{'City': 'Dubai', 'price': 2500000}, {'City': 'Dubai', 'price': 7200000}, {'City': 'Dubai', 'price': 950000}, {'City': 'Dubai', 'price': 9999990}, {'City': 'Dubai', 'price': 2100000}, {'City': 'Dubai', 'price': 6000000}, {'City': 'Dubai', 'price': 5699000}, {'City': 'Dubai', 'price': 1790000}, {'City': 'Dubai', 'price': 3150000}, {'City': 'Dubai', 'price': 3150000}, {'City': 'Dubai', 'price': 2200000}, {'City': 'Dubai', 'price': 1350000}, {'City': 'Dubai', 'price': 3400000}, {'City': 'Sharjah', 'price': 2089000}, {'City': 'Dubai', 'price': 2593860}, {'City': 'Dubai', 'price': 4100000}, {'City': 'Dubai', 'price': 4000000}, {'City': 'Dubai', 'price': 6100000}, {'City': 'Dubai', 'price': 15500000}, {'City': 'Dubai', 'price': 19750000}, {'City': 'Dubai', 'price': 13500000}, {'City': 'Dubai', 'price': 3000000}, {'City': 'Dubai', 'price': 2550000}, {'City': 'Dubai', 'price': 3350000}, {'City': 'Dubai', 'price': 9000000}, {'City': 'Sharjah', 'price': 2399000}, {'City': 'Dubai', 'price': 5800000}, {'City': 'Dubai', 'price': 18500000}, {'City': 'Fujairah', 'price': 3099000}, {'City': 'Fujairah', 'price': 2099000}, {'City': 'Dubai', 'price': 8500000}, {'City': 'Sharjah', 'price': 1990000}, {'City': 'Dubai', 'price': 34675000}, {'City': 'Dubai', 'price': 6000000}, {'City': 'Dubai', 'price': 8600000}, {'City': 'Dubai', 'price': 4500000}, {'City': 'Dubai', 'price': 2900000}, {'City': 'Dubai', 'price': 4800000}, {'City': 'Dubai', 'price': 3550000}, {'City': 'Dubai', 'price': 6000000}, {'City': 'Dubai', 'price': 12250000}, {'City': 'Dubai', 'price': 4900000}, {'City': 'Dubai', 'price': 16000000}, {'City': 'Dubai', 'price': 3700000}, {'City': 'Dubai', 'price': 14200000}, {'City': 'Dubai', 'price': 3200000}, {'City': 'Dubai', 'price': 11500000}, {'City': 'Dubai', 'price': 7700000}, {'City': 'Dubai', 'price': 4895000}, {'City': 'Dubai', 'price': 15500000}, {'City': 'Dubai', 'price': 4500000}, {'City': 'Dubai', 'price': 3800000}, {'City': 'Dubai', 'price': 5150000}, {'City': 'Dubai', 'price': 7900000}, {'City': 'Dubai', 'price': 5700000}, {'City': 'Dubai', 'price': 50000000}, {'City': 'Dubai', 'price': 8750000}, {'City': 'Dubai', 'price': 8500000}, {'City': 'Dubai', 'price': 1380000}, {'City': 'Dubai', 'price': 4200000}, {'City': 'Dubai', 'price': 3600000}, {'City': 'Dubai', 'price': 700000}, {'City': 'Sharjah', 'price': 480000}, {'City': 'Dubai', 'price': 7800000}, {'City': 'Dubai', 'price': 52000000}, {'City': 'Dubai', 'price': 5700000}, {'City': 'Dubai', 'price': 2550000}, {'City': 'Dubai', 'price': 3200000}, {'City': 'Dubai', 'price': 11500000}, {'City': 'Dubai', 'price': 15900000}, {'City': 'Dubai', 'price': 2494320}, {'City': 'Dubai', 'price': 5190000}, {'City': 'Dubai', 'price': 35000000}, {'City': 'Dubai', 'price': 3700000}, {'City': 'Dubai', 'price': 3600000}, {'City': 'Dubai', 'price': 3350000}, {'City': 'Dubai', 'price': 9999999}, {'City': 'Dubai', 'price': 670000}, {'City': 'Dubai', 'price': 2450000}, {'City': 'Dubai', 'price': 5100000}, {'City': 'Abu Dhabi', 'price': 12500000}, {'City': 'Ajman', 'price': 125000}, {'City': 'Dubai', 'price': 2700000}, {'City': 'Sharjah', 'price': 950000}, {'City': 'Abu Dhabi', 'price': 2100000}, {'City': 'Abu Dhabi', 'price': 815000}, {'City': 'Dubai', 'price': 680000}, {'City': 'Dubai', 'price': 900000}, {'City': 'Abu Dhabi', 'price': 1650000}, {'City': 'Sharjah', 'price': 390000}, {'City': 'Dubai', 'price': 2200000}, {'City': 'Dubai', 'price': 5500000}, {'City': 'Dubai', 'price': 1900000}, {'City': 'Dubai', 'price': 2640000}, {'City': 'Sharjah', 'price': 5000000}, {'City': 'Dubai', 'price': 1900000}, {'City': 'Dubai', 'price': 8049999}, {'City': 'Dubai', 'price': 8000000}, {'City': 'Sharjah', 'price': 450000}, {'City': 'Dubai', 'price': 2700000}, {'City': 'Dubai', 'price': 4750000}, {'City': 'Dubai', 'price': 3600000}, {'City': 'Abu Dhabi', 'price': 7000000}, {'City': 'Dubai', 'price': 750000}, {'City': 'Dubai', 'price': 2170000}, {'City': 'Dubai', 'price': 1780000}, {'City': 'Dubai', 'price': 1500000}, {'City': 'Dubai', 'price': 2650000}, {'City': 'Dubai', 'price': 3300000}, {'City': 'Dubai', 'price': 1750000}, {'City': 'Dubai', 'price': 1950000}, {'City': 'Dubai', 'price': 3900000}, {'City': 'Dubai', 'price': 3800000}, {'City': 'Dubai', 'price': 7850000}, {'City': 'Sharjah', 'price': 4849000}, {'City': 'Dubai', 'price': 5000000}, {'City': 'Dubai', 'price': 4200000}, {'City': 'Dubai', 'price': 2690000}, {'City': 'Dubai', 'price': 5250000}, {'City': 'Dubai', 'price': 1080000}, {'City': 'Dubai', 'price': 2500000}, {'City': 'Dubai', 'price': 2600000}, {'City': 'Dubai', 'price': 1475000}, {'City': 'Dubai', 'price': 7000000}, {'City': 'Dubai', 'price': 1725000}, {'City': 'Dubai', 'price': 6500000}, {'City': 'Dubai', 'price': 4200000}, {'City': 'Dubai', 'price': 2600000}, {'City': 'Dubai', 'price': 1400000}, {'City': 'Dubai', 'price': 9000000}, {'City': 'Dubai', 'price': 8650000}, {'City': 'Dubai', 'price': 3050000}, {'City': 'Dubai', 'price': 2000000}, {'City': 'Dubai', 'price': 3600000}, {'City': 'Dubai', 'price': 31000000}, {'City': 'Dubai', 'price': 1025000}, {'City': 'Dubai', 'price': 22000000}, {'City': 'Dubai', 'price': 850000}, {'City': 'Dubai', 'price': 8450000}, {'City': 'Dubai', 'price': 2500000}, {'City': 'Dubai', 'price': 925000}, {'City': 'Dubai', 'price': 2650000}, {'City': 'Dubai', 'price': 2400000}, {'City': 'Dubai', 'price': 1675000}, {'City': 'Dubai', 'price': 2400000}, {'City': 'Dubai', 'price': 6300000}, {'City': 'Abu Dhabi', 'price': 2100000}, {'City': 'Dubai', 'price': 2700000}, {'City': 'Dubai', 'price': 1150000}, {'City': 'Dubai', 'price': 4200000}, {'City': 'Dubai', 'price': 3950000}, {'City': 'Dubai', 'price': 14980000}, {'City': 'Dubai', 'price': 4500000}, {'City': 'Dubai', 'price': 975000}, {'City': 'Dubai', 'price': 933000}, {'City': 'Dubai', 'price': 6300000}, {'City': 'Dubai', 'price': 1550000}, {'City': 'Dubai', 'price': 4200000}, {'City': 'Dubai', 'price': 5000000}, {'City': 'Dubai', 'price': 2250000}, {'City': 'Dubai', 'price': 2290000}, {'City': 'Dubai', 'price': 2780000}, {'City': 'Dubai', 'price': 2073058}, {'City': 'Dubai', 'price': 2800000}, {'City': 'Dubai', 'price': 6200000}, {'City': 'Dubai', 'price': 7850000}, {'City': 'Abu Dhabi', 'price': 6500000}, {'City': 'Dubai', 'price': 650000}, {'City': 'Dubai', 'price': 1650000}, {'City': 'Dubai', 'price': 3800000}, {'City': 'Dubai', 'price': 7600000}, {'City': 'Sharjah', 'price': 2049000}, {'City': 'Abu Dhabi', 'price': 14000000}, {'City': 'Abu Dhabi', 'price': 13600000}, {'City': 'Dubai', 'price': 3450000}, {'City': 'Dubai', 'price': 7599000}, {'City': 'Dubai', 'price': 1750000}, {'City': 'Dubai', 'price': 5100000}, {'City': 'Dubai', 'price': 5400000}, {'City': 'Dubai', 'price': 2100000}, {'City': 'Dubai', 'price': 6200000}, {'City': 'Dubai', 'price': 7000000}, {'City': 'Dubai', 'price': 8690000}, {'City': 'Dubai', 'price': 2250000}, {'City': 'Dubai', 'price': 2099999}, {'City': 'Dubai', 'price': 9500000}, {'City': 'Dubai', 'price': 1400000}, {'City': 'Dubai', 'price': 1300000}, {'City': 'Dubai', 'price': 1199000}, {'City': 'Dubai', 'price': 13000000}, {'City': 'Dubai', 'price': 4100000}, {'City': 'Dubai', 'price': 900000}, {'City': 'Dubai', 'price': 1800000}, {'City': 'Dubai', 'price': 11500000}, {'City': 'Dubai', 'price': 510000}, {'City': 'Dubai', 'price': 8650000}, {'City': 'Dubai', 'price': 4321000}, {'City': 'Dubai', 'price': 2450000}, {'City': 'Dubai', 'price': 3500000}, {'City': 'Dubai', 'price': 1580000}, {'City': 'Dubai', 'price': 1675000}, {'City': 'Dubai', 'price': 4399999}, {'City': 'Dubai', 'price': 2650000}, {'City': 'Dubai', 'price': 680000}, {'City': 'Dubai', 'price': 2550000}, {'City': 'Dubai', 'price': 56500000}, {'City': 'Dubai', 'price': 2400000}, {'City': 'Dubai', 'price': 3300000}, {'City': 'Dubai', 'price': 2400000}, {'City': 'Sharjah', 'price': 749000}, {'City': 'Dubai', 'price': 1849999}, {'City': 'Dubai', 'price': 2000000}, {'City': 'Dubai', 'price': 5650000}, {'City': 'Dubai', 'price': 8000000}, {'City': 'Dubai', 'price': 5250000}, {'City': 'Dubai', 'price': 1600000}, {'City': 'Dubai', 'price': 3950000}, {'City': 'Dubai', 'price': 3695000}, {'City': 'Dubai', 'price': 3100000}, {'City': 'Dubai', 'price': 11250000}, {'City': 'Dubai', 'price': 12500000}, {'City': 'Dubai', 'price': 3050000}, {'City': 'Dubai', 'price': 3750000}, {'City': 'Dubai', 'price': 14700000}, {'City': 'Dubai', 'price': 4400000}, {'City': 'Abu Dhabi', 'price': 2100000}, {'City': 'Dubai', 'price': 4000000}, {'City': 'Dubai', 'price': 2700000}, {'City': 'Dubai', 'price': 2650000}, {'City': 'Dubai', 'price': 910000}, {'City': 'Ajman', 'price': 200000}, {'City': 'Dubai', 'price': 560000}, {'City': 'Dubai', 'price': 760000}, {'City': 'Dubai', 'price': 3890000}, {'City': 'Dubai', 'price': 4000000}, {'City': 'Sharjah', 'price': 2387000}, {'City': 'Dubai', 'price': 780000}, {'City': 'Dubai', 'price': 2699999}, {'City': 'Dubai', 'price': 1899000}, {'City': 'Dubai', 'price': 850000}, {'City': 'Dubai', 'price': 4300000}, {'City': 'Abu Dhabi', 'price': 7150000}, {'City': 'Dubai', 'price': 2500000}, {'City': 'Dubai', 'price': 6900000}, {'City': 'Dubai', 'price': 8749888}, {'City': 'Dubai', 'price': 1100000}, {'City': 'Ras Al Khaimah', 'price': 720000}, {'City': 'Dubai', 'price': 1200000}, {'City': 'Dubai', 'price': 3300000}, {'City': 'Dubai', 'price': 35000000}, {'City': 'Dubai', 'price': 6800000}, {'City': 'Dubai', 'price': 2000000}, {'City': 'Dubai', 'price': 910000}, {'City': 'Dubai', 'price': 1800000}, {'City': 'Dubai', 'price': 56035350}, {'City': 'Dubai', 'price': 1150000}, {'City': 'Dubai', 'price': 2750000}, {'City': 'Dubai', 'price': 3750000}, {'City': 'Dubai', 'price': 5000000}, {'City': 'Dubai', 'price': 2500000}, {'City': 'Ras Al Khaimah', 'price': 1300000}, {'City': 'Dubai', 'price': 520000}, {'City': 'Dubai', 'price': 3500000}, {'City': 'Dubai', 'price': 950000}, {'City': 'Dubai', 'price': 4250000}, {'City': 'Dubai', 'price': 750000}, {'City': 'Dubai', 'price': 10000000}, {'City': 'Dubai', 'price': 1700000}, {'City': 'Sharjah', 'price': 2089000}, {'City': 'Dubai', 'price': 2700000}, {'City': 'Dubai', 'price': 2200000}, {'City': 'Dubai', 'price': 3300000}, {'City': 'Dubai', 'price': 6850000}, {'City': 'Dubai', 'price': 9200000}, {'City': 'Dubai', 'price': 8870000}, {'City': 'Dubai', 'price': 8186200}, {'City': 'Dubai', 'price': 9000000}, {'City': 'Dubai', 'price': 20000000}, {'City': 'Dubai', 'price': 1599999}, {'City': 'Dubai', 'price': 1599999}, {'City': 'Dubai', 'price': 950000}, {'City': 'Dubai', 'price': 14000000}, {'City': 'Sharjah', 'price': 1999000}, {'City': 'Sharjah', 'price': 2399000}, {'City': 'Sharjah', 'price': 4899000}, {'City': 'Sharjah', 'price': 5199000}, {'City': 'Dubai', 'price': 3200000}, {'City': 'Dubai', 'price': 1100000}, {'City': 'Dubai', 'price': 22000000}, {'City': 'Dubai', 'price': 2995000}, {'City': 'Dubai', 'price': 2400000}, {'City': 'Dubai', 'price': 1200000}, {'City': 'Dubai', 'price': 11900000}, {'City': 'Dubai', 'price': 3000000}, {'City': 'Dubai', 'price': 2676000}, {'City': 'Dubai', 'price': 6700000}, {'City': 'Sharjah', 'price': 1100000}, {'City': 'Dubai', 'price': 6500000}, {'City': 'Dubai', 'price': 1300000}, {'City': 'Dubai', 'price': 5200000}, {'City': 'Abu Dhabi', 'price': 10500000}, {'City': 'Abu Dhabi', 'price': 949000}, {'City': 'Abu Dhabi', 'price': 9300000}, {'City': 'Dubai', 'price': 3900000}, {'City': 'Dubai', 'price': 1499000}, {'City': 'Dubai', 'price': 9000000}, {'City': 'Dubai', 'price': 1500000}, {'City': 'Dubai', 'price': 2700000}, {'City': 'Dubai', 'price': 24995000}, {'City': 'Dubai', 'price': 3300000}, {'City': 'Dubai', 'price': 11500000}, {'City': 'Ras Al Khaimah', 'price': 30000000}, {'City': 'Dubai', 'price': 3700000}, {'City': 'Dubai', 'price': 1475000}, {'City': 'Dubai', 'price': 2150000}, {'City': 'Dubai', 'price': 975000}, {'City': 'Dubai', 'price': 830000}, {'City': 'Dubai', 'price': 1590000}, {'City': 'Abu Dhabi', 'price': 8700000}, {'City': 'Dubai', 'price': 2250000}, {'City': 'Dubai', 'price': 3700000}, {'City': 'Dubai', 'price': 5600000}, {'City': 'Dubai', 'price': 5000000}, {'City': 'Abu Dhabi', 'price': 1180000}, {'City': 'Dubai', 'price': 1190000}, {'City': 'Dubai', 'price': 17000000}, {'City': 'Dubai', 'price': 950000}, {'City': 'Dubai', 'price': 2300000}, {'City': 'Abu Dhabi', 'price': 7300000}, {'City': 'Dubai', 'price': 11000000}, {'City': 'Dubai', 'price': 850000}, {'City': 'Dubai', 'price': 3100000}, {'City': 'Dubai', 'price': 1000000}, {'City': 'Dubai', 'price': 8186200}, {'City': 'Dubai', 'price': 20000000}, {'City': 'Dubai', 'price': 3200000}, {'City': 'Dubai', 'price': 3899999}, {'City': 'Dubai', 'price': 2850000}, {'City': 'Dubai', 'price': 2190000}, {'City': 'Abu Dhabi', 'price': 5999990}, {'City': 'Dubai', 'price': 4800000}, {'City': 'Dubai', 'price': 3800000}, {'City': 'Dubai', 'price': 18300000}, {'City': 'Dubai', 'price': 16000000}, {'City': 'Dubai', 'price': 7199999}, {'City': 'Sharjah', 'price': 4899000}, {'City': 'Sharjah', 'price': 1899000}, {'City': 'Sharjah', 'price': 2169000}, {'City': 'Sharjah', 'price': 6999000}, {'City': 'Dubai', 'price': 13000000}, {'City': 'Sharjah', 'price': 2399000}, {'City': 'Sharjah', 'price': 5999000}, {'City': 'Dubai', 'price': 12500000}, {'City': 'Dubai', 'price': 2200000}, {'City': 'Dubai', 'price': 19500000}, {'City': 'Dubai', 'price': 5400000}, {'City': 'Dubai', 'price': 2100000}, {'City': 'Dubai', 'price': 2000000}, {'City': 'Dubai', 'price': 540000}, {'City': 'Dubai', 'price': 3750000}, {'City': 'Dubai', 'price': 1350000}, {'City': 'Dubai', 'price': 11500000}, {'City': 'Abu Dhabi', 'price': 6300000}, {'City': 'Dubai', 'price': 6850000}, {'City': 'Dubai', 'price': 11200000}, {'City': 'Dubai', 'price': 4700000}, {'City': 'Dubai', 'price': 65000000}, {'City': 'Dubai', 'price': 800000}, {'City': 'Dubai', 'price': 2070800}, {'City': 'Dubai', 'price': 2900000}, {'City': 'Dubai', 'price': 2399000}, {'City': 'Dubai', 'price': 20000000}, {'City': 'Dubai', 'price': 75363600}, {'City': 'Sharjah', 'price': 769000}, {'City': 'Dubai', 'price': 4200000}, {'City': 'Ajman', 'price': 550000}, {'City': 'Abu Dhabi', 'price': 2950000}, {'City': 'Dubai', 'price': 2300000}, {'City': 'Dubai', 'price': 26800000}, {'City': 'Dubai', 'price': 9300000}, {'City': 'Dubai', 'price': 3850000}, {'City': 'Dubai', 'price': 11500000}, {'City': 'Abu Dhabi', 'price': 35000000}, {'City': 'Ajman', 'price': 535000}, {'City': 'Dubai', 'price': 8750000}, {'City': 'Dubai', 'price': 12300000}, {'City': 'Dubai', 'price': 2350000}, {'City': 'Dubai', 'price': 2200000}, {'City': 'Dubai', 'price': 7000000}, {'City': 'Sharjah', 'price': 1999000}, {'City': 'Sharjah', 'price': 4899000}, {'City': 'Sharjah', 'price': 5999000}, {'City': 'Dubai', 'price': 7000000}, {'City': 'Dubai', 'price': 5700000}, {'City': 'Dubai', 'price': 5200000}, {'City': 'Dubai', 'price': 2800000}, {'City': 'Dubai', 'price': 1250000}, {'City': 'Dubai', 'price': 1200000}, {'City': 'Ras Al Khaimah', 'price': 350000}, {'City': 'Dubai', 'price': 7500000}, {'City': 'Dubai', 'price': 1800000}, {'City': 'Dubai', 'price': 1050000}, {'City': 'Dubai', 'price': 2400000}, {'City': 'Dubai', 'price': 3700000}, {'City': 'Abu Dhabi', 'price': 990000}, {'City': 'Dubai', 'price': 710000}, {'City': 'Dubai', 'price': 1450000}, {'City': 'Ajman', 'price': 299999}, {'City': 'Dubai', 'price': 1650000}, {'City': 'Sharjah', 'price': 829000}, {'City': 'Dubai', 'price': 870000}, {'City': 'Dubai', 'price': 3900000}, {'City': 'Dubai', 'price': 4700000}, {'City': 'Dubai', 'price': 2850000}, {'City': 'Dubai', 'price': 725000}, {'City': 'Dubai', 'price': 1700000}, {'City': 'Dubai', 'price': 3200000}, {'City': 'Dubai', 'price': 40000000}, {'City': 'Dubai', 'price': 2250000}, {'City': 'Dubai', 'price': 199000000}, {'City': 'Dubai', 'price': 3499000}, {'City': 'Dubai', 'price': 3190000}, {'City': 'Dubai', 'price': 5800000}, {'City': 'Dubai', 'price': 3750000}, {'City': 'Dubai', 'price': 2350000}, {'City': 'Dubai', 'price': 754993}, {'City': 'Dubai', 'price': 1530000}, {'City': 'Dubai', 'price': 25000000}, {'City': 'Dubai', 'price': 3900000}, {'City': 'Dubai', 'price': 7700000}, {'City': 'Sharjah', 'price': 2049000}, {'City': 'Dubai', 'price': 10200000}, {'City': 'Dubai', 'price': 3850000}, {'City': 'Dubai', 'price': 2300000}, {'City': 'Dubai', 'price': 634999}, {'City': 'Ras Al Khaimah', 'price': 1375000}, {'City': 'Ras Al Khaimah', 'price': 2499000}, {'City': 'Ras Al Khaimah', 'price': 380000}, {'City': 'Dubai', 'price': 1350000}, {'City': 'Dubai', 'price': 2850000}, {'City': 'Abu Dhabi', 'price': 1499999}, {'City': 'Dubai', 'price': 3300000}, {'City': 'Dubai', 'price': 14500000}, {'City': 'Dubai', 'price': 1250000}, {'City': 'Dubai', 'price': 3450000}, {'City': 'Dubai', 'price': 6000000}, {'City': 'Dubai', 'price': 2100000}, {'City': 'Sharjah', 'price': 768000}, {'City': 'Sharjah', 'price': 1298990}, {'City': 'Dubai', 'price': 6850000}, {'City': 'Dubai', 'price': 1690000}, {'City': 'Dubai', 'price': 20000000}, {'City': 'Abu Dhabi', 'price': 4600000}, {'City': 'Dubai', 'price': 3650000}, {'City': 'Dubai', 'price': 4500000}, {'City': 'Sharjah', 'price': 2169900}, {'City': 'Dubai', 'price': 900000}, {'City': 'Dubai', 'price': 7150000}, {'City': 'Dubai', 'price': 4200000}, {'City': 'Dubai', 'price': 1800000}, {'City': 'Dubai', 'price': 1438000}, {'City': 'Dubai', 'price': 3785000}, {'City': 'Dubai', 'price': 15000000}, {'City': 'Ajman', 'price': 311000}, {'City': 'Dubai', 'price': 2111111}, {'City': 'Abu Dhabi', 'price': 7200000}, {'City': 'Dubai', 'price': 2847837}, {'City': 'Dubai', 'price': 5800000}, {'City': 'Ajman', 'price': 300000}, {'City': 'Ras Al Khaimah', 'price': 1500000}, {'City': 'Ras Al Khaimah', 'price': 6500000}, {'City': 'Dubai', 'price': 559000}, {'City': 'Sharjah', 'price': 2049000}, {'City': 'Dubai', 'price': 5999000}, {'City': 'Sharjah', 'price': 2089000}, {'City': 'Ras Al Khaimah', 'price': 700000}, {'City': 'Sharjah', 'price': 2399000}, {'City': 'Sharjah', 'price': 5999000}, {'City': 'Ajman', 'price': 519999}, {'City': 'Dubai', 'price': 3499999}, {'City': 'Abu Dhabi', 'price': 2600000}, {'City': 'Dubai', 'price': 755000}, {'City': 'Dubai', 'price': 1190000}, {'City': 'Dubai', 'price': 1323000}, {'City': 'Dubai', 'price': 6900000}, {'City': 'Dubai', 'price': 3100000}, {'City': 'Sharjah', 'price': 5190000}, {'City': 'Dubai', 'price': 1300000}, {'City': 'Dubai', 'price': 2700000}, {'City': 'Dubai', 'price': 5099888}, {'City': 'Sharjah', 'price': 1280000}, {'City': 'Dubai', 'price': 10000000}, {'City': 'Sharjah', 'price': 1745000}, {'City': 'Dubai', 'price': 32000000}, {'City': 'Dubai', 'price': 3300000}, {'City': 'Dubai', 'price': 2341775}, {'City': 'Abu Dhabi', 'price': 6000000}, {'City': 'Dubai', 'price': 1300000}, {'City': 'Dubai', 'price': 800000}, {'City': 'Sharjah', 'price': 2089000}, {'City': 'Abu Dhabi', 'price': 8500000}, {'City': 'Sharjah', 'price': 2049000}, {'City': 'Dubai', 'price': 3350000}, {'City': 'Dubai', 'price': 5800000}, {'City': 'Dubai', 'price': 479000}, {'City': 'Dubai', 'price': 4400000}, {'City': 'Sharjah', 'price': 5199000}, {'City': 'Dubai', 'price': 1600000}, {'City': 'Dubai', 'price': 3243160}, {'City': 'Ajman', 'price': 340000}, {'City': 'Dubai', 'price': 675000}, {'City': 'Dubai', 'price': 2450000}, {'City': 'Dubai', 'price': 1450000}, {'City': 'Dubai', 'price': 750000}, {'City': 'Dubai', 'price': 2400000}, {'City': 'Dubai', 'price': 4200000}, {'City': 'Dubai', 'price': 1100000}, {'City': 'Dubai', 'price': 13000000}, {'City': 'Sharjah', 'price': 4895000}, {'City': 'Sharjah', 'price': 5990000}, {'City': 'Dubai', 'price': 1899000}, {'City': 'Dubai', 'price': 999999}, {'City': 'Abu Dhabi', 'price': 20000000}, {'City': 'Dubai', 'price': 5130187}, {'City': 'Dubai', 'price': 2548080}, {'City': 'Sharjah', 'price': 5199000}, {'City': 'Dubai', 'price': 1700000}, {'City': 'Dubai', 'price': 60000000}, {'City': 'Dubai', 'price': 2550000}, {'City': 'Dubai', 'price': 750000}, {'City': 'Dubai', 'price': 1040000}, {'City': 'Sharjah', 'price': 1935000}, {'City': 'Sharjah', 'price': 2549000}, {'City': 'Sharjah', 'price': 2049000}, {'City': 'Sharjah', 'price': 5999000}, {'City': 'Sharjah', 'price': 1999000}, {'City': 'Sharjah', 'price': 2399000}, {'City': 'Dubai', 'price': 1190000}, {'City': 'Abu Dhabi', 'price': 19500000}, {'City': 'Abu Dhabi', 'price': 9500000}, {'City': 'Dubai', 'price': 8500000}, {'City': 'Ras Al Khaimah', 'price': 2675000}, {'City': 'Dubai', 'price': 4200000}, {'City': 'Dubai', 'price': 4800000}, {'City': 'Dubai', 'price': 6300000}, {'City': 'Abu Dhabi', 'price': 4500000}, {'City': 'Abu Dhabi', 'price': 23000000}, {'City': 'Dubai', 'price': 1300000}, {'City': 'Dubai', 'price': 1400000}, {'City': 'Dubai', 'price': 5000000}, {'City': 'Abu Dhabi', 'price': 730000}, {'City': 'Sharjah', 'price': 2100000}, {'City': 'Abu Dhabi', 'price': 730000}, {'City': 'Dubai', 'price': 1600000}, {'City': 'Dubai', 'price': 11000000}, {'City': 'Dubai', 'price': 2502662}, {'City': 'Dubai', 'price': 4200000}, {'City': 'Sharjah', 'price': 749000}, {'City': 'Dubai', 'price': 5750000}, {'City': 'Dubai', 'price': 2650000}, {'City': 'Abu Dhabi', 'price': 5200000}, {'City': 'Ras Al Khaimah', 'price': 3007888}, {'City': 'Dubai', 'price': 4000000}])",
   "id": "26851bdf58e619e1",
   "outputs": [],
   "execution_count": 37
  },
  {
   "metadata": {
    "ExecuteTime": {
     "end_time": "2025-06-11T13:28:24.592102Z",
     "start_time": "2025-06-11T13:28:24.585623Z"
    }
   },
   "cell_type": "code",
   "source": "data_cities",
   "id": "2f2c40527c557057",
   "outputs": [
    {
     "data": {
      "text/plain": [
       "               City    price\n",
       "0             Dubai  2500000\n",
       "1             Dubai  7200000\n",
       "2             Dubai   950000\n",
       "3             Dubai  9999990\n",
       "4             Dubai  2100000\n",
       "..              ...      ...\n",
       "558           Dubai  5750000\n",
       "559           Dubai  2650000\n",
       "560       Abu Dhabi  5200000\n",
       "561  Ras Al Khaimah  3007888\n",
       "562           Dubai  4000000\n",
       "\n",
       "[563 rows x 2 columns]"
      ],
      "text/html": [
       "<div>\n",
       "<style scoped>\n",
       "    .dataframe tbody tr th:only-of-type {\n",
       "        vertical-align: middle;\n",
       "    }\n",
       "\n",
       "    .dataframe tbody tr th {\n",
       "        vertical-align: top;\n",
       "    }\n",
       "\n",
       "    .dataframe thead th {\n",
       "        text-align: right;\n",
       "    }\n",
       "</style>\n",
       "<table border=\"1\" class=\"dataframe\">\n",
       "  <thead>\n",
       "    <tr style=\"text-align: right;\">\n",
       "      <th></th>\n",
       "      <th>City</th>\n",
       "      <th>price</th>\n",
       "    </tr>\n",
       "  </thead>\n",
       "  <tbody>\n",
       "    <tr>\n",
       "      <th>0</th>\n",
       "      <td>Dubai</td>\n",
       "      <td>2500000</td>\n",
       "    </tr>\n",
       "    <tr>\n",
       "      <th>1</th>\n",
       "      <td>Dubai</td>\n",
       "      <td>7200000</td>\n",
       "    </tr>\n",
       "    <tr>\n",
       "      <th>2</th>\n",
       "      <td>Dubai</td>\n",
       "      <td>950000</td>\n",
       "    </tr>\n",
       "    <tr>\n",
       "      <th>3</th>\n",
       "      <td>Dubai</td>\n",
       "      <td>9999990</td>\n",
       "    </tr>\n",
       "    <tr>\n",
       "      <th>4</th>\n",
       "      <td>Dubai</td>\n",
       "      <td>2100000</td>\n",
       "    </tr>\n",
       "    <tr>\n",
       "      <th>...</th>\n",
       "      <td>...</td>\n",
       "      <td>...</td>\n",
       "    </tr>\n",
       "    <tr>\n",
       "      <th>558</th>\n",
       "      <td>Dubai</td>\n",
       "      <td>5750000</td>\n",
       "    </tr>\n",
       "    <tr>\n",
       "      <th>559</th>\n",
       "      <td>Dubai</td>\n",
       "      <td>2650000</td>\n",
       "    </tr>\n",
       "    <tr>\n",
       "      <th>560</th>\n",
       "      <td>Abu Dhabi</td>\n",
       "      <td>5200000</td>\n",
       "    </tr>\n",
       "    <tr>\n",
       "      <th>561</th>\n",
       "      <td>Ras Al Khaimah</td>\n",
       "      <td>3007888</td>\n",
       "    </tr>\n",
       "    <tr>\n",
       "      <th>562</th>\n",
       "      <td>Dubai</td>\n",
       "      <td>4000000</td>\n",
       "    </tr>\n",
       "  </tbody>\n",
       "</table>\n",
       "<p>563 rows × 2 columns</p>\n",
       "</div>"
      ]
     },
     "execution_count": 38,
     "metadata": {},
     "output_type": "execute_result"
    }
   ],
   "execution_count": 38
  },
  {
   "metadata": {
    "ExecuteTime": {
     "end_time": "2025-06-10T09:39:52.463172Z",
     "start_time": "2025-06-10T09:39:52.458704Z"
    }
   },
   "cell_type": "code",
   "source": "df1 = pd.DataFrame(data_dict[\"result\"])",
   "id": "a1fa101eb63d97cd",
   "outputs": [],
   "execution_count": 26
  },
  {
   "metadata": {
    "ExecuteTime": {
     "end_time": "2025-06-10T09:39:55.525368Z",
     "start_time": "2025-06-10T09:39:55.518543Z"
    }
   },
   "cell_type": "code",
   "source": "df1",
   "id": "942c21d749e81691",
   "outputs": [
    {
     "data": {
      "text/plain": [
       "  addedOn_year_month  property_count\n",
       "0            2023-09               1\n",
       "1            2024-02               2\n",
       "2            2024-03               2\n",
       "3            2024-04               1\n",
       "4            2024-05              10\n",
       "5            2024-06              13\n",
       "6            2024-07              46\n",
       "7            2024-08              28"
      ],
      "text/html": [
       "<div>\n",
       "<style scoped>\n",
       "    .dataframe tbody tr th:only-of-type {\n",
       "        vertical-align: middle;\n",
       "    }\n",
       "\n",
       "    .dataframe tbody tr th {\n",
       "        vertical-align: top;\n",
       "    }\n",
       "\n",
       "    .dataframe thead th {\n",
       "        text-align: right;\n",
       "    }\n",
       "</style>\n",
       "<table border=\"1\" class=\"dataframe\">\n",
       "  <thead>\n",
       "    <tr style=\"text-align: right;\">\n",
       "      <th></th>\n",
       "      <th>addedOn_year_month</th>\n",
       "      <th>property_count</th>\n",
       "    </tr>\n",
       "  </thead>\n",
       "  <tbody>\n",
       "    <tr>\n",
       "      <th>0</th>\n",
       "      <td>2023-09</td>\n",
       "      <td>1</td>\n",
       "    </tr>\n",
       "    <tr>\n",
       "      <th>1</th>\n",
       "      <td>2024-02</td>\n",
       "      <td>2</td>\n",
       "    </tr>\n",
       "    <tr>\n",
       "      <th>2</th>\n",
       "      <td>2024-03</td>\n",
       "      <td>2</td>\n",
       "    </tr>\n",
       "    <tr>\n",
       "      <th>3</th>\n",
       "      <td>2024-04</td>\n",
       "      <td>1</td>\n",
       "    </tr>\n",
       "    <tr>\n",
       "      <th>4</th>\n",
       "      <td>2024-05</td>\n",
       "      <td>10</td>\n",
       "    </tr>\n",
       "    <tr>\n",
       "      <th>5</th>\n",
       "      <td>2024-06</td>\n",
       "      <td>13</td>\n",
       "    </tr>\n",
       "    <tr>\n",
       "      <th>6</th>\n",
       "      <td>2024-07</td>\n",
       "      <td>46</td>\n",
       "    </tr>\n",
       "    <tr>\n",
       "      <th>7</th>\n",
       "      <td>2024-08</td>\n",
       "      <td>28</td>\n",
       "    </tr>\n",
       "  </tbody>\n",
       "</table>\n",
       "</div>"
      ]
     },
     "execution_count": 27,
     "metadata": {},
     "output_type": "execute_result"
    }
   ],
   "execution_count": 27
  },
  {
   "metadata": {
    "ExecuteTime": {
     "end_time": "2025-06-10T08:20:14.774824Z",
     "start_time": "2025-06-10T08:20:14.769805Z"
    }
   },
   "cell_type": "code",
   "source": "df1[\"latitude\"].min()",
   "id": "4f26710b8dc12f50",
   "outputs": [
    {
     "data": {
      "text/plain": [
       "25.3071588"
      ]
     },
     "execution_count": 12,
     "metadata": {},
     "output_type": "execute_result"
    }
   ],
   "execution_count": 12
  },
  {
   "metadata": {
    "ExecuteTime": {
     "end_time": "2025-06-10T07:24:22.031870Z",
     "start_time": "2025-06-10T07:24:22.028862Z"
    }
   },
   "cell_type": "code",
   "source": "query = 'Data Intent:\\nThe final table should include properties that are located north to Dubai Mall and are in the 30th percentile in that group. The table should include the following columns: title, bathrooms, bedrooms, type, price, verified, priceDuration, sizeMin, furnishing, description, latitude, longitude, City, addedOn_year_month, addedOn_month_name, addedOn_month_num, addedOn_day_num, and Area. The rows should be grouped by the location (north to Dubai'",
   "id": "5f69a18c76d0ff5f",
   "outputs": [],
   "execution_count": 8
  },
  {
   "metadata": {},
   "cell_type": "code",
   "outputs": [],
   "execution_count": null,
   "source": "",
   "id": "fe49eb7ad42efc83"
  },
  {
   "metadata": {},
   "cell_type": "code",
   "outputs": [],
   "execution_count": null,
   "source": "",
   "id": "aa9fddb521e2a7b5"
  },
  {
   "metadata": {
    "ExecuteTime": {
     "end_time": "2025-06-10T06:16:58.457942Z",
     "start_time": "2025-06-10T06:16:58.437199Z"
    }
   },
   "cell_type": "code",
   "source": "sample = pd.read_parquet(\"../data/sample_data.parquet\")",
   "id": "2b83640d0ea81b4a",
   "outputs": [],
   "execution_count": 5
  },
  {
   "metadata": {
    "ExecuteTime": {
     "end_time": "2025-06-10T07:00:09.280868Z",
     "start_time": "2025-06-10T07:00:09.275784Z"
    }
   },
   "cell_type": "code",
   "source": "sample.dtypes",
   "id": "8684daa21fde54a1",
   "outputs": [
    {
     "data": {
      "text/plain": [
       "title                  object\n",
       "bathrooms               int64\n",
       "bedrooms                int64\n",
       "type                   object\n",
       "price                   int64\n",
       "verified                 bool\n",
       "priceDuration          object\n",
       "sizeMin                 int64\n",
       "furnishing             object\n",
       "description            object\n",
       "latitude              float64\n",
       "longitude             float64\n",
       "City                   object\n",
       "addedOn_year_month     object\n",
       "addedOn_month_name     object\n",
       "addedOn_month_num       int64\n",
       "addedOn_day_num         int64\n",
       "Area                   object\n",
       "dtype: object"
      ]
     },
     "execution_count": 10,
     "metadata": {},
     "output_type": "execute_result"
    }
   ],
   "execution_count": 10
  },
  {
   "metadata": {
    "ExecuteTime": {
     "end_time": "2025-06-10T06:30:23.793803Z",
     "start_time": "2025-06-10T06:30:23.786651Z"
    }
   },
   "cell_type": "code",
   "source": "sample.to_dict(orient=\"records\")",
   "id": "cb044d8f7d46b2b6",
   "outputs": [
    {
     "data": {
      "text/plain": [
       "[{'title': 'Great ROI I High Floor I Creek View',\n",
       "  'bathrooms': 3,\n",
       "  'bedrooms': 2,\n",
       "  'type': 'Residential for Sale',\n",
       "  'price': 2500000,\n",
       "  'verified': True,\n",
       "  'priceDuration': 'sell',\n",
       "  'sizeMin': 44,\n",
       "  'furnishing': 'NO',\n",
       "  'description': 'MNA Properties is delighted to offer this apartment located in the well-esteemed Binghatti Canal, situated in the heart of Business Bay, Dubai, UAE. The 2BR apartment with the most attractive layout based on the high floor and offers the breathtaking panoramic view of Business Bay Canal; near Burj Khalifa.\\n\\nTo arrange a viewing or to find out more, please contact Amir via phone or Whatsapp on +971581684981 or email at amir.m@mnaproperties.ae\\n\\nProperty Features:\\n2 Bedrooms\\n2 Bathrooms + Guest room\\nSize 1,323 sq. ft.\\n2 Balconies\\nPrivate Jacuzzi / Small Pool\\nCanal View\\n\\nCan be sold Unfurnished as well\\n\\nBinghatti Canal Residences is a newly built project in Business Bay, Dubai that features symbolic design elements to generate a sense of community. Binghatti Canal reflects Binghatti Developers traditional Middle Eastern architecture and art, in addition to its modern design. Bingatti Canal finishing demonstrate the highest degree of quality and workmanship available only from the most reputable worldwide vendors. The interior design and fittings and fixtures in the 2BR Apartment are in perfect harmony, providing for an excellent balance between interior and outside spaces. Binghatti Canal residential complex - your gateway to luxury living in Business Bay.',\n",
       "  'latitude': 25.1861089,\n",
       "  'longitude': 55.2861562,\n",
       "  'City': 'Dubai',\n",
       "  'addedOn_year_month': '2024-08',\n",
       "  'addedOn_month_name': 'August',\n",
       "  'addedOn_month_num': 8,\n",
       "  'addedOn_day_num': 14,\n",
       "  'Area': 'Business Bay'},\n",
       " {'title': 'Full Sea View | Beach Life | Brand New Residence',\n",
       "  'bathrooms': 3,\n",
       "  'bedrooms': 2,\n",
       "  'type': 'Residential for Sale',\n",
       "  'price': 7200000,\n",
       "  'verified': True,\n",
       "  'priceDuration': 'sell',\n",
       "  'sizeMin': 44,\n",
       "  'furnishing': 'YES',\n",
       "  'description': 'Apartment for sale in La Vie, Jumeirah Beach Residence\\n\\nMultiple Options\\n\\nLuxury 2-Bedroom apartment in La Vie, Jumeirah Beach Residences\\n\\nThis 2-bedroom apartment in La Vie offers a luxurious waterfront living experience with world-class amenities and unparalleled views.\\n`Its Large Balcony overlooking Breathtaking views of Sea, the Palm Jumeirah.\\n\\nLocation: Prime spot in Jumeirah Beach Residences, Easy in and out.\\nFeatures:\\n\\n-2 Bedroom\\n-3 Baths\\n-Sea Views and Beautiful Sunsets\\n-High floor corner unit with a Large balcony\\n-Master bedroom with dressing room\\n-1 parking space\\n- Price Beach Access\\n\\nFacilities and Amenities\\nPrivate Beach\\nVIP drop Off\\n2 Swimming Pools (Kids &amp; Adults) Pool size - 31 Meter\\nVolley-Ball Court\\nBeach Club Drop Off\\nClub House Pool\\nModern huge GYM\\nHigh ceiling lobby\\nMultipurpose hall\\nBespoke Outdoor Gym\\nShaded Kids Area\\nSteam &amp; Sauna Area (2)\\nBBQ Area\\nGreen Grass Sitting Area\\nHigh speed Elevators\\n\\nConnectivity:\\n-Direct Access from Marina\\n-2 minutes to nearest shopping mall\\n-5 minutes drive to Sheikh Zayed Road\\n-10 minutes drive to Dubai Media City\\n-20 minutes drive to Dubai International Airport',\n",
       "  'latitude': 25.0797349,\n",
       "  'longitude': 55.1343655,\n",
       "  'City': 'Dubai',\n",
       "  'addedOn_year_month': '2024-08',\n",
       "  'addedOn_month_name': 'August',\n",
       "  'addedOn_month_num': 8,\n",
       "  'addedOn_day_num': 13,\n",
       "  'Area': 'Jumeirah Beach Residence'},\n",
       " {'title': 'Fully Furnished | Smart Home | High Floor',\n",
       "  'bathrooms': 1,\n",
       "  'bedrooms': 1,\n",
       "  'type': 'Residential for Sale',\n",
       "  'price': 950000,\n",
       "  'verified': True,\n",
       "  'priceDuration': 'sell',\n",
       "  'sizeMin': 32,\n",
       "  'furnishing': 'YES',\n",
       "  'description': '<p>Coldwell banker is pleased to present to you this stunning 1 bedroom apartment that offers the perfect blend of comfort, space, and villa views in East 40, Al furjan for sale. This 1 bedroom plus store apartment is ideal for couple or single professional seeking a harmonious living experience or also an investor as the property provides an excellent ROI.</p><p><br></p><p><strong>Property Features:</strong></p><p>1 Bedroom</p><p>1 Store room</p><p>1 bathroom</p><p>Fitted kitchen with Zanuzzi appliances</p><p>Large Terrace</p><p>Chiller Free Building</p><p>1 Parking</p><p>Total Area - 669.95 sq ft</p><p>Suite Area - 646.48 sq ft</p><p>Terrace Area - 23.47 sq ft</p><p><br></p><p>A fantastic one-bedroom apartment with a modern and well-designed layout in the sought-after community of Al Furjan. The open plan living area, kitchen/diner, and a modern bathroom provide a comfortable and stylish living space.</p><p><br></p><p>Contact our Al Furjan specialist, Alan for your private viewing now.</p><p><br></p><p>Company name: Coldwell Banker</p><p>RERA ORN: 1201</p><p>Address: Office 1211, Onyx Tower 1, Greens, Dubai</p><p>Office phone no: +97143825000</p><p>Primary email: info@coldwellbanker.ae</p><p>Website: www.coldwellbanker.ae</p>',\n",
       "  'latitude': 25.02109,\n",
       "  'longitude': 55.1403949,\n",
       "  'City': 'Dubai',\n",
       "  'addedOn_year_month': '2024-08',\n",
       "  'addedOn_month_name': 'August',\n",
       "  'addedOn_month_num': 8,\n",
       "  'addedOn_day_num': 15,\n",
       "  'Area': 'Al Furjan'}]"
      ]
     },
     "execution_count": 9,
     "metadata": {},
     "output_type": "execute_result"
    }
   ],
   "execution_count": 9
  },
  {
   "metadata": {},
   "cell_type": "code",
   "source": "from src.agent import main_agent",
   "id": "cf945488d37ec461",
   "outputs": [],
   "execution_count": null
  },
  {
   "metadata": {},
   "cell_type": "code",
   "source": "main_agent(\"show on map 2 bedroom flats that are cheaper than 2 million and in Dubai\")",
   "id": "ae54caf2ad969921",
   "outputs": [],
   "execution_count": null
  },
  {
   "metadata": {},
   "cell_type": "code",
   "source": [
    "USER_QUERY = \"show on map 2 bedroom flats that are cheaper than 2 million and in Dubai\"\n",
    "\n",
    "command = extract_data_intent.invoke(USER_QUERY)"
   ],
   "id": "1a8606353735cc6f",
   "outputs": [],
   "execution_count": null
  },
  {
   "metadata": {},
   "cell_type": "code",
   "source": "command",
   "id": "71c48ca4c8279f58",
   "outputs": [],
   "execution_count": null
  },
  {
   "cell_type": "code",
   "id": "7a6a769c",
   "metadata": {},
   "source": [
    "data_json_str = safe_dataframe_tool.invoke(command)\n",
    "data_dict = json.loads(data_json_str)"
   ],
   "outputs": [],
   "execution_count": null
  },
  {
   "cell_type": "code",
   "id": "3de1c5b9",
   "metadata": {},
   "source": "pd.DataFrame(data_dict[\"result\"])['latitude']",
   "outputs": [],
   "execution_count": null
  },
  {
   "cell_type": "code",
   "id": "30719e04",
   "metadata": {},
   "source": [
    "pd.DataFrame(data_dict[\"result\"])"
   ],
   "outputs": [],
   "execution_count": null
  },
  {
   "cell_type": "code",
   "id": "4ba791ef",
   "metadata": {},
   "source": [
    "data_json_str"
   ],
   "outputs": [],
   "execution_count": null
  },
  {
   "cell_type": "code",
   "id": "cdf17b5a",
   "metadata": {},
   "source": [
    "data_dict\n"
   ],
   "outputs": [],
   "execution_count": null
  },
  {
   "cell_type": "code",
   "id": "f5d75d01",
   "metadata": {},
   "source": [
    "pd.DataFrame(data_dict[\"result\"])"
   ],
   "outputs": [],
   "execution_count": null
  },
  {
   "cell_type": "code",
   "id": "88488b52",
   "metadata": {},
   "source": [
    "def main_agent(query: str):\n",
    "    # Step 1: Check if query is relevant\n",
    "    if not is_uae_real_estate_query(query):\n",
    "        return {\"type\": \"output\", \"data\": \"This is an irrelevant question to UAE property.\"}\n",
    "\n",
    "    # Step 2: Extract data intent from user query\n",
    "    data_intent = extract_data_intent.invoke(query)\n",
    "\n",
    "    # Step 3: Use PandasAI to retrieve relevant data\n",
    "    data_json_str = safe_dataframe_tool.invoke(data_intent)\n",
    "    data_dict = json.loads(data_json_str)\n",
    "\n",
    "    if not data_dict.get(\"success\"):\n",
    "        return {\"type\": \"error\", \"error\": data_dict.get(\"error\"), \"solution\": data_dict.get(\"solution\")}\n",
    "\n",
    "    # Step 4: Classify the user's goal\n",
    "    action = llm_classifier(query)\n",
    "    \n",
    "\n",
    "    # Step 5: Take action based on user intent\n",
    "    if action == \"output\":\n",
    "        return {\"type\": \"data\", \"data\": data_dict[\"result\"]}\n",
    "    \n",
    "    \n",
    "    elif action == \"plot_stats\":\n",
    "\n",
    "        viz_input = json.dumps({\"data\": data_dict[\"result\"], \"query\": query})\n",
    "        result_json_str = create_plotly_code.invoke(viz_input)\n",
    "        result = json.loads(result_json_str)\n",
    "        return {\"type\": \"plot\", **result}\n",
    "\n",
    "    elif action == \"geospatial_plot\":\n",
    "        \n",
    "        html = generate_google_maps_html(data_dict[\"result\"])\n",
    "        return {\"type\": \"html\", \"content\": html}\n",
    "\n",
    "    else:\n",
    "        return {\"type\": \"error\", \"error\": f\"Unknown action '{action}' from classifier.\"}\n"
   ],
   "outputs": [],
   "execution_count": null
  },
  {
   "metadata": {},
   "cell_type": "code",
   "source": "result = main_agent(\"show on map 2 bedroom flats that are cheaper than 2 million and in Dubai\")",
   "id": "36c4b24cd68519a8",
   "outputs": [],
   "execution_count": null
  },
  {
   "metadata": {},
   "cell_type": "code",
   "source": "result",
   "id": "6b9d844573215b2b",
   "outputs": [],
   "execution_count": null
  },
  {
   "cell_type": "code",
   "id": "26b21782",
   "metadata": {},
   "source": [
    "data_dict"
   ],
   "outputs": [],
   "execution_count": null
  },
  {
   "cell_type": "code",
   "id": "7604360c",
   "metadata": {},
   "source": [
    "from src.tools import get"
   ],
   "outputs": [],
   "execution_count": null
  },
  {
   "cell_type": "code",
   "id": "aa413012",
   "metadata": {},
   "source": [
    "DATA_DIR = r\"../data/uae_real_estate_2024_geo_ready2.parquet\"\n",
    "df =  pd.read_parquet(DATA_DIR)"
   ],
   "outputs": [],
   "execution_count": null
  },
  {
   "cell_type": "code",
   "id": "768efeca",
   "metadata": {},
   "source": [
    "df.drop(columns=\"addedOn\", inplace=True)"
   ],
   "outputs": [],
   "execution_count": null
  },
  {
   "cell_type": "code",
   "id": "f51d86b3",
   "metadata": {},
   "source": [
    "df.columns"
   ],
   "outputs": [],
   "execution_count": null
  },
  {
   "cell_type": "code",
   "id": "cf47da3f",
   "metadata": {},
   "source": [
    "df.columns[df.isna().any()].tolist()\n"
   ],
   "outputs": [],
   "execution_count": null
  },
  {
   "cell_type": "code",
   "id": "86159052",
   "metadata": {},
   "source": [
    "df['bathrooms'].fillna(0, inplace=True)\n",
    "df['bedrooms'].fillna(0, inplace=True)\n",
    "df['furnishing'] = df['furnishing'].cat.add_categories('Unknown')\n",
    "df['furnishing'] = df['furnishing'].fillna('Unknown')\n"
   ],
   "outputs": [],
   "execution_count": null
  },
  {
   "cell_type": "code",
   "id": "26c08842",
   "metadata": {},
   "source": [
    "df[\"sizeMin\"] = df[\"bedrooms\"].apply(lambda x: 20 + 12 * x)"
   ],
   "outputs": [],
   "execution_count": null
  },
  {
   "cell_type": "code",
   "id": "2ac41cc3",
   "metadata": {},
   "source": [
    "df['addedOn'] = df['addedOn'].dt.strftime('%Y-%m-%dT%H:%M:%S')"
   ],
   "outputs": [],
   "execution_count": null
  },
  {
   "cell_type": "code",
   "id": "c7d7a654",
   "metadata": {},
   "source": [
    "df[\"displayAddress\"]"
   ],
   "outputs": [],
   "execution_count": null
  },
  {
   "cell_type": "code",
   "id": "5639550f",
   "metadata": {},
   "source": [
    "df.columns[df.isna().any()].tolist()\n"
   ],
   "outputs": [],
   "execution_count": null
  },
  {
   "cell_type": "code",
   "id": "796e45fd",
   "metadata": {},
   "source": [
    "df.to_csv(r\"../data/uae_real_estate_2024_geo_ready2.csv\", index=False)"
   ],
   "outputs": [],
   "execution_count": null
  },
  {
   "cell_type": "code",
   "id": "c700c9c4",
   "metadata": {},
   "source": [
    "import pandasai as pai\n",
    "\n",
    "companies = pai.create(\n",
    "  path=\"my-org/properties3\",\n",
    "  df=pai.read_csv(\"../data/uae_real_estate_2024_geo_ready2.csv\"),\n",
    "  description=\"UAE properties dataset 2\"\n",
    ")"
   ],
   "outputs": [],
   "execution_count": null
  },
  {
   "cell_type": "code",
   "id": "0631b653",
   "metadata": {},
   "source": [
    "result = companies.chat(\"Retrieve properties located within a 2-mile radius of Dubai Eye.\")"
   ],
   "outputs": [],
   "execution_count": null
  }
 ],
 "metadata": {
  "kernelspec": {
   "display_name": "chatbot_env2",
   "language": "python",
   "name": "python3"
  },
  "language_info": {
   "codemirror_mode": {
    "name": "ipython",
    "version": 3
   },
   "file_extension": ".py",
   "mimetype": "text/x-python",
   "name": "python",
   "nbconvert_exporter": "python",
   "pygments_lexer": "ipython3",
   "version": "3.10.17"
  }
 },
 "nbformat": 4,
 "nbformat_minor": 5
}
