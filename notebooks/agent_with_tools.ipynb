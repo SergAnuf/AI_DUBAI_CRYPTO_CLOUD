{
 "cells": [
  {
   "cell_type": "code",
   "execution_count": 1,
   "id": "e2c15367",
   "metadata": {},
   "outputs": [
    {
     "data": {
      "text/plain": [
       "True"
      ]
     },
     "execution_count": 1,
     "metadata": {},
     "output_type": "execute_result"
    }
   ],
   "source": [
    "import pandas as pd\n",
    "from dotenv import load_dotenv\n",
    "import os\n",
    "import pandas as pd\n",
    "from IPython.display import HTML\n",
    "import sys\n",
    "\n",
    "project_root = os.path.dirname(os.getcwd())\n",
    "sys.path.append(project_root)\n",
    "\n",
    "from src.classifiers import is_uae_real_estate_query, llm_classifier\n",
    "from src.tools import visualize_tool, safe_dataframe_tool\n",
    "from src.geo_tools import generate_google_maps_html\n",
    "\n",
    "load_dotenv()"
   ]
  },
  {
   "cell_type": "code",
   "execution_count": 2,
   "id": "cd6b9f1c",
   "metadata": {},
   "outputs": [],
   "source": [
    "# html_code = generate_google_maps_html(df_test)\n",
    "# with open(\"property_map_test.html\", \"w\", encoding=\"utf-8\") as f:\n",
    "#     f.write(html_code)"
   ]
  },
  {
   "cell_type": "code",
   "execution_count": 6,
   "id": "7ba75bf2",
   "metadata": {},
   "outputs": [],
   "source": [
    "def main_agent(query: str):\n",
    "    if not is_uae_real_estate_query(query):\n",
    "        return {\"type\": \"output\", \"data\": \"This is an irrelevant question to UAE property.\"}\n",
    "\n",
    "    data = safe_dataframe_tool(query)\n",
    "    if isinstance(data, dict) and data.get(\"error\"):\n",
    "        return data\n",
    "\n",
    "    action = llm_classifier(query)\n",
    "\n",
    "    if action == \"output\":\n",
    "        return {\"type\": \"data\", \"data\": data}\n",
    "\n",
    "    elif action == \"plot_stats\":\n",
    "        result = visualize_tool.invoke({\"data\": data, \"query\": query})\n",
    "        return {\"type\": \"plot\", **result}\n",
    "\n",
    "    elif action == \"geospatial_plot\":\n",
    "        result = generate_google_maps_html(data)\n",
    "        return {\"type\": \"html\",\"content\": result}\n",
    "\n",
    "    else:\n",
    "        return {\"error\": f\"Unknown action '{action}' from classifier.\"}\n"
   ]
  },
  {
   "cell_type": "code",
   "execution_count": 14,
   "id": "83b19ba0",
   "metadata": {},
   "outputs": [
    {
     "name": "stdout",
     "output_type": "stream",
     "text": [
      "{'type': 'dataframe', 'value':                                                  title  \\\n",
      "2            Fully Furnished | Smart Home | High Floor   \n",
      "7    DSO Landscape View | x3 Parking | Post Handove...   \n",
      "11                  Fully Upgraded | Luxury | High-ROI   \n",
      "58   VACANT | BEST Deal on the market | Biggest layout   \n",
      "61          Great ROI | 1BR Furnished | Prime Location   \n",
      "..                                                 ...   \n",
      "530           Canal View | Mid Floor | Spacious Layout   \n",
      "537           LUXURIOUS 2 BR | READY UNIT | BEST VALUE   \n",
      "547                 VACANT / ALL BRANDNEW / GUARANTEED   \n",
      "548     Vacant | Great ROI | Brand New | Marina Access   \n",
      "553   Vacant |Sea View |Kitchen Equipped |Mid Floor  |   \n",
      "\n",
      "                                 displayAddress  bathrooms  bedrooms  \\\n",
      "2                     East 40, Al Furjan, Dubai          1         1   \n",
      "7    Tria By Deyaar, Dubai Silicon Oasis, Dubai          4         2   \n",
      "11   Oxford 212, Jumeirah Village Circle, Dubai          1         1   \n",
      "58           Ocean Heights, Dubai Marina, Dubai          2         1   \n",
      "61         Hera Tower, Dubai Sports City, Dubai          1         1   \n",
      "..                                          ...        ...       ...   \n",
      "530        Hera Tower, Dubai Sports City, Dubai          2         2   \n",
      "537     Durar 1, Dubai Residence Complex, Dubai          2         2   \n",
      "547      Mayfair Residency, Business Bay, Dubai          1         1   \n",
      "548            Marina Star, Dubai Marina, Dubai          1      <NA>   \n",
      "553         Botanica Tower, Dubai Marina, Dubai          2         1   \n",
      "\n",
      "                      addedOn                  type    price  verified  \\\n",
      "2   2024-08-15 10:05:41+00:00  Residential for Sale   950000      True   \n",
      "7   2024-08-06 19:15:20+00:00  Residential for Sale  1790000      True   \n",
      "11  2024-08-08 08:56:26+00:00  Residential for Sale  1350000      True   \n",
      "58  2024-06-07 05:24:47+00:00  Residential for Sale  1380000      True   \n",
      "61  2024-08-13 08:02:02+00:00  Residential for Sale   700000      True   \n",
      "..                        ...                   ...      ...       ...   \n",
      "530 2024-06-27 10:29:31+00:00  Residential for Sale  1040000      True   \n",
      "537 2024-06-12 08:05:28+00:00  Residential for Sale  1190000     False   \n",
      "547 2024-07-02 07:48:25+00:00  Residential for Sale  1300000      True   \n",
      "548 2024-07-02 09:29:08+00:00  Residential for Sale  1400000      True   \n",
      "553 2024-07-30 08:38:11+00:00  Residential for Sale  1600000      True   \n",
      "\n",
      "    priceDuration  sizeMin furnishing  \\\n",
      "2            sell      NaN        YES   \n",
      "7            sell      NaN     PARTLY   \n",
      "11           sell      NaN         NO   \n",
      "58           sell      NaN        YES   \n",
      "61           sell      NaN        YES   \n",
      "..            ...      ...        ...   \n",
      "530          sell      NaN         NO   \n",
      "537          sell      NaN         NO   \n",
      "547          sell      NaN        YES   \n",
      "548          sell      NaN         NO   \n",
      "553          sell      NaN         NO   \n",
      "\n",
      "                                           description   latitude  longitude  \n",
      "2    <p>Coldwell banker is pleased to present to yo...  25.021090  55.140395  \n",
      "7    First Bridge Real Estate are pleased to presen...  25.124155  55.373460  \n",
      "11   Azco Real Estate is pleased to offer this styl...  25.056619  55.201522  \n",
      "58   Betterhomes is offering this stunning 1-bedroo...  25.090666  55.148777  \n",
      "61   Hera Tower&#39;s luxurious and spacious apartm...  25.040498  55.222422  \n",
      "..                                                 ...        ...        ...  \n",
      "530  Rakhat Properties has a great deal for you—a b...  25.040498  55.222422  \n",
      "537  Presented by Gaia Living Real Estate, this exc...  25.091235  55.383955  \n",
      "547  TPT Realty presents you a 1 BHK fully upgraded...  25.181769  55.277677  \n",
      "548  RB Homes is proud to bring to the residential ...  25.068635  55.131475  \n",
      "553  Call Hassan for more information and viewing +...  25.085303  55.142384  \n",
      "\n",
      "[116 rows x 14 columns]}\n",
      "geospatial_plot\n"
     ]
    }
   ],
   "source": [
    "result = main_agent(\"Locate on map properties from Dubai under 2 million AED\")"
   ]
  },
  {
   "cell_type": "code",
   "execution_count": 11,
   "id": "f48e209e",
   "metadata": {},
   "outputs": [],
   "source": [
    "df = pd.read_parquet(\"../data/uae_real_estate_2024_geo_ready.parquet\")"
   ]
  },
  {
   "cell_type": "code",
   "execution_count": 13,
   "id": "8b35d20f",
   "metadata": {},
   "outputs": [
    {
     "data": {
      "application/vnd.microsoft.datawrangler.viewer.v0+json": {
       "columns": [
        {
         "name": "index",
         "rawType": "int64",
         "type": "integer"
        },
        {
         "name": "title",
         "rawType": "string",
         "type": "string"
        },
        {
         "name": "displayAddress",
         "rawType": "string",
         "type": "string"
        },
        {
         "name": "bathrooms",
         "rawType": "Int64",
         "type": "integer"
        },
        {
         "name": "bedrooms",
         "rawType": "Int64",
         "type": "integer"
        },
        {
         "name": "addedOn",
         "rawType": "datetime64[ns, UTC]",
         "type": "unknown"
        },
        {
         "name": "type",
         "rawType": "category",
         "type": "unknown"
        },
        {
         "name": "price",
         "rawType": "int64",
         "type": "integer"
        },
        {
         "name": "verified",
         "rawType": "boolean",
         "type": "boolean"
        },
        {
         "name": "priceDuration",
         "rawType": "category",
         "type": "unknown"
        },
        {
         "name": "sizeMin",
         "rawType": "float64",
         "type": "float"
        },
        {
         "name": "furnishing",
         "rawType": "category",
         "type": "unknown"
        },
        {
         "name": "description",
         "rawType": "string",
         "type": "string"
        },
        {
         "name": "latitude",
         "rawType": "float64",
         "type": "float"
        },
        {
         "name": "longitude",
         "rawType": "float64",
         "type": "float"
        }
       ],
       "ref": "ae0cb2fb-5f4c-4b77-8533-ee2d31a7d1d1",
       "rows": [
        [
         "452",
         "Luxury Living | 3BR TH | Corner | Resale",
         "Al Jubail Island, Abu Dhabi",
         "5",
         "3",
         "2024-08-05 11:19:43+00:00",
         "Residential for Sale",
         "4600000",
         "False",
         "sell",
         null,
         "NO",
         "<p>Jubail Island is a serene oasis that provides our residents with all the essential elements for a joyful and harmonious life. This exceptional community boasts top-notch amenities, including schools, a pristine beach, scenic boardwalks, well-equipped marinas, charming village centers offering fantastic shopping opportunities, entertainment venues, and delectable dining options. Not to forget the eco-resort that offers an abundance of outdoor activities.</p><br><p>Situated just beyond Abu Dhabi, nestled between Yas Island and Saadiyat Island, Jubail Island offers a one-of-a-kind experience that&#39;s unrivaled anywhere else in the UAE.</p><br><p>Becoming a resident of Jubail Island in Abu Dhabi means embarking on an adventure every single day. This visionary project, crafted by globally renowned creative minds, seamlessly connects you with the beauty of nature. Jubail Island is not only equipped with all the necessities but also surprises you with some delightful extras you never knew you desired!</p><br><p>Key Details:</p><br><ul><li>Plot Size: 19,166.26 SQF</li><li>Selling Price: AED 8,800,000</li><li>Captivating Waterfront Views</li><li>Inviting Boardwalks</li><li>Lush Mangrove Habitats</li><li>Enchanting Bird Sanctuary</li><li>Thrilling Outdoor Activities</li><li>Exciting Kayaking Opportunities</li><li>Spacious and Thoughtfully Designed Residences</li><li>Emphasis on Privacy</li><li>Access to Quality Schools</li><li>Convenient Shopping Centers</li><li>Abundant Entertainment Choices</li><li>A Variety of Exquisite Restaurants to Satisfy Your Palate.</li></ul><br/><br/>Company name: Savoy Real Estate Management LLC<br/>RERA ORN: CN-2599493 <br/>Address: UAE - Abu Dhabi , Al Nahyan Camp , Sultan Al Shamsi Building , Mezzanine Floor (M03) <br/>Office phone no: 0505250907<br/>Office fax no: 026651005<br/>Primary email: info@savoy.ae<br/>Website: www.savoy.ae<br/><br/>",
         "24.5317098",
         "54.4861565"
        ]
       ],
       "shape": {
        "columns": 14,
        "rows": 1
       }
      },
      "text/html": [
       "<div>\n",
       "<style scoped>\n",
       "    .dataframe tbody tr th:only-of-type {\n",
       "        vertical-align: middle;\n",
       "    }\n",
       "\n",
       "    .dataframe tbody tr th {\n",
       "        vertical-align: top;\n",
       "    }\n",
       "\n",
       "    .dataframe thead th {\n",
       "        text-align: right;\n",
       "    }\n",
       "</style>\n",
       "<table border=\"1\" class=\"dataframe\">\n",
       "  <thead>\n",
       "    <tr style=\"text-align: right;\">\n",
       "      <th></th>\n",
       "      <th>title</th>\n",
       "      <th>displayAddress</th>\n",
       "      <th>bathrooms</th>\n",
       "      <th>bedrooms</th>\n",
       "      <th>addedOn</th>\n",
       "      <th>type</th>\n",
       "      <th>price</th>\n",
       "      <th>verified</th>\n",
       "      <th>priceDuration</th>\n",
       "      <th>sizeMin</th>\n",
       "      <th>furnishing</th>\n",
       "      <th>description</th>\n",
       "      <th>latitude</th>\n",
       "      <th>longitude</th>\n",
       "    </tr>\n",
       "  </thead>\n",
       "  <tbody>\n",
       "    <tr>\n",
       "      <th>452</th>\n",
       "      <td>Luxury Living | 3BR TH | Corner | Resale</td>\n",
       "      <td>Al Jubail Island, Abu Dhabi</td>\n",
       "      <td>5</td>\n",
       "      <td>3</td>\n",
       "      <td>2024-08-05 11:19:43+00:00</td>\n",
       "      <td>Residential for Sale</td>\n",
       "      <td>4600000</td>\n",
       "      <td>False</td>\n",
       "      <td>sell</td>\n",
       "      <td>NaN</td>\n",
       "      <td>NO</td>\n",
       "      <td>&lt;p&gt;Jubail Island is a serene oasis that provid...</td>\n",
       "      <td>24.53171</td>\n",
       "      <td>54.486156</td>\n",
       "    </tr>\n",
       "  </tbody>\n",
       "</table>\n",
       "</div>"
      ],
      "text/plain": [
       "                                        title               displayAddress  \\\n",
       "452  Luxury Living | 3BR TH | Corner | Resale  Al Jubail Island, Abu Dhabi   \n",
       "\n",
       "     bathrooms  bedrooms                   addedOn                  type  \\\n",
       "452          5         3 2024-08-05 11:19:43+00:00  Residential for Sale   \n",
       "\n",
       "       price  verified priceDuration  sizeMin furnishing  \\\n",
       "452  4600000     False          sell      NaN         NO   \n",
       "\n",
       "                                           description  latitude  longitude  \n",
       "452  <p>Jubail Island is a serene oasis that provid...  24.53171  54.486156  "
      ]
     },
     "execution_count": 13,
     "metadata": {},
     "output_type": "execute_result"
    }
   ],
   "source": [
    "df[df[\"title\"]==\"Luxury Living | 3BR TH | Corner | Resale\"]"
   ]
  },
  {
   "cell_type": "code",
   "execution_count": null,
   "id": "fb17fdbb",
   "metadata": {},
   "outputs": [
    {
     "ename": "",
     "evalue": "",
     "output_type": "error",
     "traceback": [
      "\u001b[1;31mThe Kernel crashed while executing code in the current cell or a previous cell. \n",
      "\u001b[1;31mPlease review the code in the cell(s) to identify a possible cause of the failure. \n",
      "\u001b[1;31mClick <a href='https://aka.ms/vscodeJupyterKernelCrash'>here</a> for more info. \n",
      "\u001b[1;31mView Jupyter <a href='command:jupyter.viewOutput'>log</a> for further details."
     ]
    }
   ],
   "source": [
    "with open(\"property_map_test3.html\", \"w\", encoding=\"utf-8\") as f:\n",
    "    f.write(result[\"content\"])"
   ]
  }
 ],
 "metadata": {
  "kernelspec": {
   "display_name": ".chatbot_env",
   "language": "python",
   "name": "python3"
  },
  "language_info": {
   "codemirror_mode": {
    "name": "ipython",
    "version": 3
   },
   "file_extension": ".py",
   "mimetype": "text/x-python",
   "name": "python",
   "nbconvert_exporter": "python",
   "pygments_lexer": "ipython3",
   "version": "3.12.3"
  }
 },
 "nbformat": 4,
 "nbformat_minor": 5
}
