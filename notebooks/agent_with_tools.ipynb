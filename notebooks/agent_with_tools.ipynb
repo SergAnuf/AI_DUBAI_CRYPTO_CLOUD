{
 "cells": [
  {
   "cell_type": "code",
   "id": "e2c15367",
   "metadata": {
    "ExecuteTime": {
     "end_time": "2025-06-11T12:33:06.770909Z",
     "start_time": "2025-06-11T12:33:06.765910Z"
    }
   },
   "source": [
    "# Standard libraries\n",
    "import os\n",
    "import sys\n",
    "import json\n",
    "from dotenv import load_dotenv\n",
    "\n",
    "# Third-party libraries\n",
    "import pandas as pd\n",
    "\n",
    "# Add project root to sys.path\n",
    "project_root = os.path.dirname(os.getcwd())\n",
    "sys.path.append(project_root)\n",
    "\n",
    "# Local modules\n",
    "from src.classifiers import is_uae_real_estate_query, llm_classifier\n",
    "from src.tools import extract_data_intent, safe_dataframe_tool, create_plotly_code,get_openai_llm\n",
    "from src.geo_tools import generate_google_maps_html\n",
    "\n",
    "load_dotenv()"
   ],
   "outputs": [
    {
     "data": {
      "text/plain": [
       "True"
      ]
     },
     "execution_count": 4,
     "metadata": {},
     "output_type": "execute_result"
    }
   ],
   "execution_count": 4
  },
  {
   "metadata": {
    "ExecuteTime": {
     "end_time": "2025-06-11T12:34:29.971821Z",
     "start_time": "2025-06-11T12:34:26.474514Z"
    }
   },
   "cell_type": "code",
   "source": "query = extract_data_intent.invoke(\"show histogram for the properties prices in this uae database and set the number of bins to 15\")",
   "id": "13c3488361a317df",
   "outputs": [],
   "execution_count": 12
  },
  {
   "metadata": {
    "ExecuteTime": {
     "end_time": "2025-06-11T12:39:16.759398Z",
     "start_time": "2025-06-11T12:39:16.756984Z"
    }
   },
   "cell_type": "code",
   "source": [
    "from openai.types.chat import ChatCompletionSystemMessageParam, ChatCompletionUserMessageParam\n",
    "from prompts.tool_prompts import get_plotly_code_prompt\n"
   ],
   "id": "2170a7d963d9577f",
   "outputs": [],
   "execution_count": 16
  },
  {
   "metadata": {
    "ExecuteTime": {
     "end_time": "2025-06-11T12:40:18.913105Z",
     "start_time": "2025-06-11T12:40:06.319634Z"
    }
   },
   "cell_type": "code",
   "source": "result = safe_dataframe_tool.invoke(query)",
   "id": "c2544de1ca11ef90",
   "outputs": [
    {
     "name": "stdout",
     "output_type": "stream",
     "text": [
      "Dataset loaded successfully.\n"
     ]
    }
   ],
   "execution_count": 17
  },
  {
   "metadata": {
    "ExecuteTime": {
     "end_time": "2025-06-11T12:49:20.807818Z",
     "start_time": "2025-06-11T12:49:20.804706Z"
    }
   },
   "cell_type": "code",
   "source": "df = pd.DataFrame(json.loads(result)[\"result\"])",
   "id": "ec3702d33c62c02f",
   "outputs": [],
   "execution_count": 23
  },
  {
   "metadata": {
    "ExecuteTime": {
     "end_time": "2025-06-11T12:51:58.402781Z",
     "start_time": "2025-06-11T12:51:53.209889Z"
    }
   },
   "cell_type": "code",
   "source": [
    "user_input = query\n",
    "code_prompt = get_plotly_code_prompt(user_input, df)\n",
    "# Get AI response\n",
    "official_ai = get_openai_llm()\n",
    "response = official_ai.chat.completions.create(\n",
    "model=\"gpt-4.1-mini\",\n",
    "        messages=\n",
    "        [\n",
    "            ChatCompletionSystemMessageParam(role=\"system\", content=\"You create Plotly code based on user_input and data\"),\n",
    "            ChatCompletionUserMessageParam(role=\"user\", content=code_prompt)\n",
    "        ],\n",
    "        max_tokens=400\n",
    "    )\n",
    "\n",
    "# Extract code\n",
    "raw_response = response.choices[0].message.content.strip()"
   ],
   "id": "c5db2a69742fdf04",
   "outputs": [],
   "execution_count": 28
  },
  {
   "metadata": {
    "ExecuteTime": {
     "end_time": "2025-06-11T12:53:42.858746Z",
     "start_time": "2025-06-11T12:53:42.853966Z"
    }
   },
   "cell_type": "code",
   "source": [
    "from typing import Optional\n",
    "\n",
    "def extract_python_code(text: str) -> Optional[str]:\n",
    "    \"\"\"\n",
    "    Extract Python code from Markdown code blocks or HTML code tags.\n",
    "    Returns None if no code found.\n",
    "\n",
    "    Handles these cases:\n",
    "    1. ```python\\ncode\\n```\n",
    "    2. ```\\ncode\\n```\n",
    "    3. <code>\\ncode\\n</code>\n",
    "    \"\"\"\n",
    "    # Case 1: Python markdown\n",
    "    if '```python' in text:\n",
    "        return text.split('```python')[1].split('```')[0].strip()\n",
    "    # Case 2: Regular markdown\n",
    "    elif '```' in text:\n",
    "        return text.split('```')[1].split('```')[0].strip()\n",
    "    # Case 3: HTML code tags\n",
    "    elif '<code>' in text.lower():\n",
    "        return text.split('<code>')[1].split('</code>')[0].strip()\n",
    "    return None"
   ],
   "id": "9fb48846ae204a09",
   "outputs": [],
   "execution_count": 31
  },
  {
   "metadata": {
    "ExecuteTime": {
     "end_time": "2025-06-11T12:52:00.398370Z",
     "start_time": "2025-06-11T12:52:00.394381Z"
    }
   },
   "cell_type": "code",
   "source": "raw_response",
   "id": "3316c3253355fd3c",
   "outputs": [
    {
     "data": {
      "text/plain": [
       "'<code>\\nimport plotly.graph_objects as go\\n\\nprice_ranges = [\\n    \"125000-13383333\", \"13383333-26641666\", \"26641666-39900000\", \"39900000-53158333\",\\n    \"53158333-66416666\", \"66416666-79675000\", \"79675000-92933333\", \"92933333-106191666\",\\n    \"106191666-119450000\", \"119450000-132708333\", \"132708333-145966666\", \"145966666-159225000\",\\n    \"159225000-172483333\", \"172483333-185741666\", \"185741666-199000000\"\\n]\\n\\ncounts = [516, 30, 8, 3, 4, 1, 0, 0, 0, 0, 0, 0, 0, 0, 1]\\n\\nfig = go.Figure(data=[\\n    go.Bar(x=price_ranges, y=counts)\\n])\\n\\nfig.update_layout(\\n    title=\"Distribution of Property Prices in UAE Database\",\\n    xaxis_title=\"Price Range (AED)\",\\n    yaxis_title=\"Count of Properties\",\\n    xaxis_tickangle=-45\\n)\\n\\nfig.show()\\n</code>'"
      ]
     },
     "execution_count": 29,
     "metadata": {},
     "output_type": "execute_result"
    }
   ],
   "execution_count": 29
  },
  {
   "metadata": {
    "ExecuteTime": {
     "end_time": "2025-06-11T12:54:33.975388Z",
     "start_time": "2025-06-11T12:54:33.973056Z"
    }
   },
   "cell_type": "code",
   "source": "code = extract_python_code(response.choices[0].message.content.strip())",
   "id": "5f3c2ea1345a4bb3",
   "outputs": [],
   "execution_count": 33
  },
  {
   "metadata": {
    "ExecuteTime": {
     "end_time": "2025-06-11T12:54:39.810466Z",
     "start_time": "2025-06-11T12:54:39.806310Z"
    }
   },
   "cell_type": "code",
   "source": "code",
   "id": "d30c8ef8dde06ac2",
   "outputs": [
    {
     "data": {
      "text/plain": [
       "'import plotly.graph_objects as go\\n\\nprice_ranges = [\\n    \"125000-13383333\", \"13383333-26641666\", \"26641666-39900000\", \"39900000-53158333\",\\n    \"53158333-66416666\", \"66416666-79675000\", \"79675000-92933333\", \"92933333-106191666\",\\n    \"106191666-119450000\", \"119450000-132708333\", \"132708333-145966666\", \"145966666-159225000\",\\n    \"159225000-172483333\", \"172483333-185741666\", \"185741666-199000000\"\\n]\\n\\ncounts = [516, 30, 8, 3, 4, 1, 0, 0, 0, 0, 0, 0, 0, 0, 1]\\n\\nfig = go.Figure(data=[\\n    go.Bar(x=price_ranges, y=counts)\\n])\\n\\nfig.update_layout(\\n    title=\"Distribution of Property Prices in UAE Database\",\\n    xaxis_title=\"Price Range (AED)\",\\n    yaxis_title=\"Count of Properties\",\\n    xaxis_tickangle=-45\\n)\\n\\nfig.show()'"
      ]
     },
     "execution_count": 34,
     "metadata": {},
     "output_type": "execute_result"
    }
   ],
   "execution_count": 34
  },
  {
   "metadata": {
    "ExecuteTime": {
     "end_time": "2025-06-11T12:54:58.191176Z",
     "start_time": "2025-06-11T12:54:58.188020Z"
    }
   },
   "cell_type": "code",
   "source": "code = code.replace(\"fig.show()\", \"\")",
   "id": "27b7b361778125c9",
   "outputs": [],
   "execution_count": 35
  },
  {
   "metadata": {
    "ExecuteTime": {
     "end_time": "2025-06-11T12:55:03.733278Z",
     "start_time": "2025-06-11T12:55:03.729847Z"
    }
   },
   "cell_type": "code",
   "source": "code",
   "id": "227ab75f2d825985",
   "outputs": [
    {
     "data": {
      "text/plain": [
       "'import plotly.graph_objects as go\\n\\nprice_ranges = [\\n    \"125000-13383333\", \"13383333-26641666\", \"26641666-39900000\", \"39900000-53158333\",\\n    \"53158333-66416666\", \"66416666-79675000\", \"79675000-92933333\", \"92933333-106191666\",\\n    \"106191666-119450000\", \"119450000-132708333\", \"132708333-145966666\", \"145966666-159225000\",\\n    \"159225000-172483333\", \"172483333-185741666\", \"185741666-199000000\"\\n]\\n\\ncounts = [516, 30, 8, 3, 4, 1, 0, 0, 0, 0, 0, 0, 0, 0, 1]\\n\\nfig = go.Figure(data=[\\n    go.Bar(x=price_ranges, y=counts)\\n])\\n\\nfig.update_layout(\\n    title=\"Distribution of Property Prices in UAE Database\",\\n    xaxis_title=\"Price Range (AED)\",\\n    yaxis_title=\"Count of Properties\",\\n    xaxis_tickangle=-45\\n)\\n\\n'"
      ]
     },
     "execution_count": 36,
     "metadata": {},
     "output_type": "execute_result"
    }
   ],
   "execution_count": 36
  },
  {
   "metadata": {
    "ExecuteTime": {
     "end_time": "2025-06-11T12:10:26.290539Z",
     "start_time": "2025-06-11T12:10:26.161634Z"
    }
   },
   "cell_type": "code",
   "source": [
    "import plotly.express as px\n",
    "import pandas as pd\n",
    "\n",
    "# Sample data based on the given input (Price Range as strings for x-axis labels)\n",
    "data = {\n",
    "    \"Price Range\": [\n",
    "        \"Range 0\", \"Range 1\", \"Range 2\", \"Range 3\", \"Range 4\", \"Range 5\",\n",
    "        \"Range 6\", \"Range 7\", \"Range 8\", \"Range 9\", \"Range 10\", \"Range 11\",\n",
    "        \"Range 12\", \"Range 13\", \"Range 14\"\n",
    "    ],\n",
    "    \"Count\": [515, 30, 8, 3, 4, 1, 0, 0, 0, 0, 0, 0, 0, 0, 1]\n",
    "}\n",
    "\n",
    "df = pd.DataFrame(data)\n",
    "\n",
    "# Create the histogram bar chart\n",
    "fig = px.bar(df, x=\"Price Range\", y=\"Count\",\n",
    "             labels={\"Count\": \"Number of Properties\", \"Price Range\": \"Price Range\"},\n",
    "             title=\"Histogram of Property Prices in UAE\")\n",
    "\n",
    "fig.update_layout(xaxis_title=\"Price Range Bin\",\n",
    "                  yaxis_title=\"Count\",\n",
    "                  bargap=0.2)\n",
    "\n",
    "fig.show()"
   ],
   "id": "66aa41dc75a327da",
   "outputs": [
    {
     "data": {
      "application/vnd.plotly.v1+json": {
       "data": [
        {
         "hovertemplate": "Price Range=%{x}<br>Number of Properties=%{y}<extra></extra>",
         "legendgroup": "",
         "marker": {
          "color": "#000001",
          "pattern": {
           "shape": ""
          }
         },
         "name": "",
         "orientation": "v",
         "showlegend": false,
         "textposition": "auto",
         "x": [
          "Range 0",
          "Range 1",
          "Range 2",
          "Range 3",
          "Range 4",
          "Range 5",
          "Range 6",
          "Range 7",
          "Range 8",
          "Range 9",
          "Range 10",
          "Range 11",
          "Range 12",
          "Range 13",
          "Range 14"
         ],
         "xaxis": "x",
         "y": {
          "dtype": "i2",
          "bdata": "AwIeAAgAAwAEAAEAAAAAAAAAAAAAAAAAAAAAAAEA"
         },
         "yaxis": "y",
         "type": "bar"
        }
       ],
       "layout": {
        "template": {
         "data": {
          "candlestick": [
           {
            "decreasing": {
             "line": {
              "color": "#000033"
             }
            },
            "increasing": {
             "line": {
              "color": "#000032"
             }
            },
            "type": "candlestick"
           }
          ],
          "contourcarpet": [
           {
            "colorscale": [
             [
              0.0,
              "#000011"
             ],
             [
              0.1111111111111111,
              "#000012"
             ],
             [
              0.2222222222222222,
              "#000013"
             ],
             [
              0.3333333333333333,
              "#000014"
             ],
             [
              0.4444444444444444,
              "#000015"
             ],
             [
              0.5555555555555556,
              "#000016"
             ],
             [
              0.6666666666666666,
              "#000017"
             ],
             [
              0.7777777777777778,
              "#000018"
             ],
             [
              0.8888888888888888,
              "#000019"
             ],
             [
              1.0,
              "#000020"
             ]
            ],
            "type": "contourcarpet"
           }
          ],
          "contour": [
           {
            "colorscale": [
             [
              0.0,
              "#000011"
             ],
             [
              0.1111111111111111,
              "#000012"
             ],
             [
              0.2222222222222222,
              "#000013"
             ],
             [
              0.3333333333333333,
              "#000014"
             ],
             [
              0.4444444444444444,
              "#000015"
             ],
             [
              0.5555555555555556,
              "#000016"
             ],
             [
              0.6666666666666666,
              "#000017"
             ],
             [
              0.7777777777777778,
              "#000018"
             ],
             [
              0.8888888888888888,
              "#000019"
             ],
             [
              1.0,
              "#000020"
             ]
            ],
            "type": "contour"
           }
          ],
          "heatmap": [
           {
            "colorscale": [
             [
              0.0,
              "#000011"
             ],
             [
              0.1111111111111111,
              "#000012"
             ],
             [
              0.2222222222222222,
              "#000013"
             ],
             [
              0.3333333333333333,
              "#000014"
             ],
             [
              0.4444444444444444,
              "#000015"
             ],
             [
              0.5555555555555556,
              "#000016"
             ],
             [
              0.6666666666666666,
              "#000017"
             ],
             [
              0.7777777777777778,
              "#000018"
             ],
             [
              0.8888888888888888,
              "#000019"
             ],
             [
              1.0,
              "#000020"
             ]
            ],
            "type": "heatmap"
           }
          ],
          "histogram2d": [
           {
            "colorscale": [
             [
              0.0,
              "#000011"
             ],
             [
              0.1111111111111111,
              "#000012"
             ],
             [
              0.2222222222222222,
              "#000013"
             ],
             [
              0.3333333333333333,
              "#000014"
             ],
             [
              0.4444444444444444,
              "#000015"
             ],
             [
              0.5555555555555556,
              "#000016"
             ],
             [
              0.6666666666666666,
              "#000017"
             ],
             [
              0.7777777777777778,
              "#000018"
             ],
             [
              0.8888888888888888,
              "#000019"
             ],
             [
              1.0,
              "#000020"
             ]
            ],
            "type": "histogram2d"
           }
          ],
          "icicle": [
           {
            "textfont": {
             "color": "white"
            },
            "type": "icicle"
           }
          ],
          "sankey": [
           {
            "textfont": {
             "color": "#000036"
            },
            "type": "sankey"
           }
          ],
          "scatter": [
           {
            "marker": {
             "line": {
              "width": 0
             }
            },
            "type": "scatter"
           }
          ],
          "table": [
           {
            "cells": {
             "fill": {
              "color": "#000038"
             },
             "font": {
              "color": "#000037"
             },
             "line": {
              "color": "#000039"
             }
            },
            "header": {
             "fill": {
              "color": "#000040"
             },
             "font": {
              "color": "#000036"
             },
             "line": {
              "color": "#000039"
             }
            },
            "type": "table"
           }
          ],
          "waterfall": [
           {
            "connector": {
             "line": {
              "color": "#000036",
              "width": 2
             }
            },
            "decreasing": {
             "marker": {
              "color": "#000033"
             }
            },
            "increasing": {
             "marker": {
              "color": "#000032"
             }
            },
            "totals": {
             "marker": {
              "color": "#000034"
             }
            },
            "type": "waterfall"
           }
          ]
         },
         "layout": {
          "coloraxis": {
           "colorscale": [
            [
             0.0,
             "#000011"
            ],
            [
             0.1111111111111111,
             "#000012"
            ],
            [
             0.2222222222222222,
             "#000013"
            ],
            [
             0.3333333333333333,
             "#000014"
            ],
            [
             0.4444444444444444,
             "#000015"
            ],
            [
             0.5555555555555556,
             "#000016"
            ],
            [
             0.6666666666666666,
             "#000017"
            ],
            [
             0.7777777777777778,
             "#000018"
            ],
            [
             0.8888888888888888,
             "#000019"
            ],
            [
             1.0,
             "#000020"
            ]
           ]
          },
          "colorscale": {
           "diverging": [
            [
             0.0,
             "#000021"
            ],
            [
             0.1,
             "#000022"
            ],
            [
             0.2,
             "#000023"
            ],
            [
             0.3,
             "#000024"
            ],
            [
             0.4,
             "#000025"
            ],
            [
             0.5,
             "#000026"
            ],
            [
             0.6,
             "#000027"
            ],
            [
             0.7,
             "#000028"
            ],
            [
             0.8,
             "#000029"
            ],
            [
             0.9,
             "#000030"
            ],
            [
             1.0,
             "#000031"
            ]
           ],
           "sequential": [
            [
             0.0,
             "#000011"
            ],
            [
             0.1111111111111111,
             "#000012"
            ],
            [
             0.2222222222222222,
             "#000013"
            ],
            [
             0.3333333333333333,
             "#000014"
            ],
            [
             0.4444444444444444,
             "#000015"
            ],
            [
             0.5555555555555556,
             "#000016"
            ],
            [
             0.6666666666666666,
             "#000017"
            ],
            [
             0.7777777777777778,
             "#000018"
            ],
            [
             0.8888888888888888,
             "#000019"
            ],
            [
             1.0,
             "#000020"
            ]
           ],
           "sequentialminus": [
            [
             0.0,
             "#000011"
            ],
            [
             0.1111111111111111,
             "#000012"
            ],
            [
             0.2222222222222222,
             "#000013"
            ],
            [
             0.3333333333333333,
             "#000014"
            ],
            [
             0.4444444444444444,
             "#000015"
            ],
            [
             0.5555555555555556,
             "#000016"
            ],
            [
             0.6666666666666666,
             "#000017"
            ],
            [
             0.7777777777777778,
             "#000018"
            ],
            [
             0.8888888888888888,
             "#000019"
            ],
            [
             1.0,
             "#000020"
            ]
           ]
          },
          "colorway": [
           "#000001",
           "#000002",
           "#000003",
           "#000004",
           "#000005",
           "#000006",
           "#000007",
           "#000008",
           "#000009",
           "#000010"
          ]
         }
        },
        "xaxis": {
         "anchor": "y",
         "domain": [
          0.0,
          1.0
         ],
         "title": {
          "text": "Price Range Bin"
         }
        },
        "yaxis": {
         "anchor": "x",
         "domain": [
          0.0,
          1.0
         ],
         "title": {
          "text": "Count"
         }
        },
        "legend": {
         "tracegroupgap": 0
        },
        "title": {
         "text": "Histogram of Property Prices in UAE"
        },
        "barmode": "relative",
        "bargap": 0.2
       },
       "config": {
        "plotlyServerURL": "https://plot.ly"
       }
      }
     },
     "metadata": {},
     "output_type": "display_data"
    }
   ],
   "execution_count": 12
  },
  {
   "metadata": {
    "ExecuteTime": {
     "end_time": "2025-06-10T10:23:52.242140Z",
     "start_time": "2025-06-10T10:23:52.232593Z"
    }
   },
   "cell_type": "code",
   "source": "data = pd.read_parquet(\"/home/zcemg08/projects/chatbot/datasets/my-org/clean2/data.parquet\")",
   "id": "1de481be9f589d84",
   "outputs": [],
   "execution_count": 20
  },
  {
   "metadata": {
    "ExecuteTime": {
     "end_time": "2025-06-10T10:25:25.783299Z",
     "start_time": "2025-06-10T10:25:25.769167Z"
    }
   },
   "cell_type": "code",
   "source": "data[(data[\"City\"] == \"Dubai\") &  (data[\"addedOn_year_month\"] == \"2024-03\") & (data[\"bedrooms\"] == 1)]",
   "id": "3a3b93b52199e8b5",
   "outputs": [
    {
     "data": {
      "text/plain": [
       "                                                 title  bathrooms  bedrooms  \\\n",
       "316         Fully Furnished | Large Terrace | High ROI          1         1   \n",
       "394     FIVE Specialist | 10% ROI | Residential Resell          1         1   \n",
       "520  Desirably Located | Dubai Marina | Modern buil...          2         1   \n",
       "\n",
       "                     type    price  verified priceDuration  sizeMin  \\\n",
       "316  Residential for Sale   830000      True          sell       32   \n",
       "394  Residential for Sale  5200000      True          sell       32   \n",
       "520  Residential for Sale  1899000      True          sell       32   \n",
       "\n",
       "    furnishing                                        description   latitude  \\\n",
       "316        YES  Lacon International is delighted to present th...  25.004149   \n",
       "394        YES  Residential Tower One Bedroom RESELL. Project ...  25.080890   \n",
       "520         NO  Le-Pax Real Estate delighted to present to you...  25.068635   \n",
       "\n",
       "     longitude   City addedOn_year_month addedOn_month_name  \\\n",
       "316  55.286234  Dubai            2024-03              March   \n",
       "394  55.136774  Dubai            2024-03              March   \n",
       "520  55.131475  Dubai            2024-03              March   \n",
       "\n",
       "     addedOn_month_num  addedOn_day_num                      Area  \n",
       "316                  3               16               Town Square  \n",
       "394                  3               27  Jumeirah Beach Residence  \n",
       "520                  3               21              Dubai Marina  "
      ],
      "text/html": [
       "<div>\n",
       "<style scoped>\n",
       "    .dataframe tbody tr th:only-of-type {\n",
       "        vertical-align: middle;\n",
       "    }\n",
       "\n",
       "    .dataframe tbody tr th {\n",
       "        vertical-align: top;\n",
       "    }\n",
       "\n",
       "    .dataframe thead th {\n",
       "        text-align: right;\n",
       "    }\n",
       "</style>\n",
       "<table border=\"1\" class=\"dataframe\">\n",
       "  <thead>\n",
       "    <tr style=\"text-align: right;\">\n",
       "      <th></th>\n",
       "      <th>title</th>\n",
       "      <th>bathrooms</th>\n",
       "      <th>bedrooms</th>\n",
       "      <th>type</th>\n",
       "      <th>price</th>\n",
       "      <th>verified</th>\n",
       "      <th>priceDuration</th>\n",
       "      <th>sizeMin</th>\n",
       "      <th>furnishing</th>\n",
       "      <th>description</th>\n",
       "      <th>latitude</th>\n",
       "      <th>longitude</th>\n",
       "      <th>City</th>\n",
       "      <th>addedOn_year_month</th>\n",
       "      <th>addedOn_month_name</th>\n",
       "      <th>addedOn_month_num</th>\n",
       "      <th>addedOn_day_num</th>\n",
       "      <th>Area</th>\n",
       "    </tr>\n",
       "  </thead>\n",
       "  <tbody>\n",
       "    <tr>\n",
       "      <th>316</th>\n",
       "      <td>Fully Furnished | Large Terrace | High ROI</td>\n",
       "      <td>1</td>\n",
       "      <td>1</td>\n",
       "      <td>Residential for Sale</td>\n",
       "      <td>830000</td>\n",
       "      <td>True</td>\n",
       "      <td>sell</td>\n",
       "      <td>32</td>\n",
       "      <td>YES</td>\n",
       "      <td>Lacon International is delighted to present th...</td>\n",
       "      <td>25.004149</td>\n",
       "      <td>55.286234</td>\n",
       "      <td>Dubai</td>\n",
       "      <td>2024-03</td>\n",
       "      <td>March</td>\n",
       "      <td>3</td>\n",
       "      <td>16</td>\n",
       "      <td>Town Square</td>\n",
       "    </tr>\n",
       "    <tr>\n",
       "      <th>394</th>\n",
       "      <td>FIVE Specialist | 10% ROI | Residential Resell</td>\n",
       "      <td>1</td>\n",
       "      <td>1</td>\n",
       "      <td>Residential for Sale</td>\n",
       "      <td>5200000</td>\n",
       "      <td>True</td>\n",
       "      <td>sell</td>\n",
       "      <td>32</td>\n",
       "      <td>YES</td>\n",
       "      <td>Residential Tower One Bedroom RESELL. Project ...</td>\n",
       "      <td>25.080890</td>\n",
       "      <td>55.136774</td>\n",
       "      <td>Dubai</td>\n",
       "      <td>2024-03</td>\n",
       "      <td>March</td>\n",
       "      <td>3</td>\n",
       "      <td>27</td>\n",
       "      <td>Jumeirah Beach Residence</td>\n",
       "    </tr>\n",
       "    <tr>\n",
       "      <th>520</th>\n",
       "      <td>Desirably Located | Dubai Marina | Modern buil...</td>\n",
       "      <td>2</td>\n",
       "      <td>1</td>\n",
       "      <td>Residential for Sale</td>\n",
       "      <td>1899000</td>\n",
       "      <td>True</td>\n",
       "      <td>sell</td>\n",
       "      <td>32</td>\n",
       "      <td>NO</td>\n",
       "      <td>Le-Pax Real Estate delighted to present to you...</td>\n",
       "      <td>25.068635</td>\n",
       "      <td>55.131475</td>\n",
       "      <td>Dubai</td>\n",
       "      <td>2024-03</td>\n",
       "      <td>March</td>\n",
       "      <td>3</td>\n",
       "      <td>21</td>\n",
       "      <td>Dubai Marina</td>\n",
       "    </tr>\n",
       "  </tbody>\n",
       "</table>\n",
       "</div>"
      ]
     },
     "execution_count": 22,
     "metadata": {},
     "output_type": "execute_result"
    }
   ],
   "execution_count": 22
  },
  {
   "metadata": {
    "ExecuteTime": {
     "end_time": "2025-06-10T09:42:15.915298Z",
     "start_time": "2025-06-10T09:42:15.908981Z"
    }
   },
   "cell_type": "code",
   "source": "data[\"Area\"].unique()",
   "id": "c269dcc4be7802fc",
   "outputs": [
    {
     "data": {
      "text/plain": [
       "array(['Business Bay', 'Jumeirah Beach Residence', 'Al Furjan', 'Meadows',\n",
       "       'Dubai Marina', 'Villa', 'Springs', 'Dubai Silicon Oasis',\n",
       "       'Dubai Land', 'Jumeirah Village', 'Hayyan', 'Jebel Ali',\n",
       "       'Al Reem Island', 'Damac Hills', 'Arabian Ranches', 'Al Barari',\n",
       "       'Khor Fakkan', 'Palm Jumeirah', 'City Walk', 'Downtown Dubai',\n",
       "       'Culture Village', 'Dubai Sports City', 'Muwaileh',\n",
       "       'Dubai Hills Estate', 'Jumeirah', 'Lakes',\n",
       "       'Dubai Residence Complex', 'Al Jubail Island', 'Manama',\n",
       "       'Al Riqqa', 'Al Ghadeer', 'Discovery Gardens', 'Al Shamkha',\n",
       "       'Zabeel', 'Views', 'Difc', 'Al Nahda', 'Town Square', 'Meydan',\n",
       "       'Motor City', 'Dubai Festival City', 'Majan', 'Nad Al Sheba',\n",
       "       'Al Jaddaf', 'International City', 'Al Marjan Island', 'Al Warsan',\n",
       "       'Wadi Al Safa', 'Barsha Heights', 'Al Wasl', 'Al Mamzar',\n",
       "       'Wasl Gate', 'Dubai Industrial City', 'Al Dhait', 'Al Qurm',\n",
       "       'Yas Island', 'Dubai Harbour', 'Al Tallah', 'Saadiyat Island',\n",
       "       'Al Helio', 'Mina Al Arab', 'Al Quoz', 'Hills', 'Al Barsha',\n",
       "       'Al Mairid', 'Al Hamra Village', 'Deira', 'Arjan',\n",
       "       'Al Ameera Village', 'Al Qusaidat', 'Seih Al Uraibi',\n",
       "       'Khalifa City', 'Al Zubair', 'Madinat Zayed', 'Al Reef',\n",
       "       'Al Qasimia'], dtype=object)"
      ]
     },
     "execution_count": 35,
     "metadata": {},
     "output_type": "execute_result"
    }
   ],
   "execution_count": 35
  },
  {
   "metadata": {
    "ExecuteTime": {
     "end_time": "2025-06-10T09:39:52.463172Z",
     "start_time": "2025-06-10T09:39:52.458704Z"
    }
   },
   "cell_type": "code",
   "source": "df1 = pd.DataFrame(data_dict[\"result\"])",
   "id": "a1fa101eb63d97cd",
   "outputs": [],
   "execution_count": 26
  },
  {
   "metadata": {
    "ExecuteTime": {
     "end_time": "2025-06-10T09:39:55.525368Z",
     "start_time": "2025-06-10T09:39:55.518543Z"
    }
   },
   "cell_type": "code",
   "source": "df1",
   "id": "942c21d749e81691",
   "outputs": [
    {
     "data": {
      "text/plain": [
       "  addedOn_year_month  property_count\n",
       "0            2023-09               1\n",
       "1            2024-02               2\n",
       "2            2024-03               2\n",
       "3            2024-04               1\n",
       "4            2024-05              10\n",
       "5            2024-06              13\n",
       "6            2024-07              46\n",
       "7            2024-08              28"
      ],
      "text/html": [
       "<div>\n",
       "<style scoped>\n",
       "    .dataframe tbody tr th:only-of-type {\n",
       "        vertical-align: middle;\n",
       "    }\n",
       "\n",
       "    .dataframe tbody tr th {\n",
       "        vertical-align: top;\n",
       "    }\n",
       "\n",
       "    .dataframe thead th {\n",
       "        text-align: right;\n",
       "    }\n",
       "</style>\n",
       "<table border=\"1\" class=\"dataframe\">\n",
       "  <thead>\n",
       "    <tr style=\"text-align: right;\">\n",
       "      <th></th>\n",
       "      <th>addedOn_year_month</th>\n",
       "      <th>property_count</th>\n",
       "    </tr>\n",
       "  </thead>\n",
       "  <tbody>\n",
       "    <tr>\n",
       "      <th>0</th>\n",
       "      <td>2023-09</td>\n",
       "      <td>1</td>\n",
       "    </tr>\n",
       "    <tr>\n",
       "      <th>1</th>\n",
       "      <td>2024-02</td>\n",
       "      <td>2</td>\n",
       "    </tr>\n",
       "    <tr>\n",
       "      <th>2</th>\n",
       "      <td>2024-03</td>\n",
       "      <td>2</td>\n",
       "    </tr>\n",
       "    <tr>\n",
       "      <th>3</th>\n",
       "      <td>2024-04</td>\n",
       "      <td>1</td>\n",
       "    </tr>\n",
       "    <tr>\n",
       "      <th>4</th>\n",
       "      <td>2024-05</td>\n",
       "      <td>10</td>\n",
       "    </tr>\n",
       "    <tr>\n",
       "      <th>5</th>\n",
       "      <td>2024-06</td>\n",
       "      <td>13</td>\n",
       "    </tr>\n",
       "    <tr>\n",
       "      <th>6</th>\n",
       "      <td>2024-07</td>\n",
       "      <td>46</td>\n",
       "    </tr>\n",
       "    <tr>\n",
       "      <th>7</th>\n",
       "      <td>2024-08</td>\n",
       "      <td>28</td>\n",
       "    </tr>\n",
       "  </tbody>\n",
       "</table>\n",
       "</div>"
      ]
     },
     "execution_count": 27,
     "metadata": {},
     "output_type": "execute_result"
    }
   ],
   "execution_count": 27
  },
  {
   "metadata": {
    "ExecuteTime": {
     "end_time": "2025-06-10T08:20:14.774824Z",
     "start_time": "2025-06-10T08:20:14.769805Z"
    }
   },
   "cell_type": "code",
   "source": "df1[\"latitude\"].min()",
   "id": "4f26710b8dc12f50",
   "outputs": [
    {
     "data": {
      "text/plain": [
       "25.3071588"
      ]
     },
     "execution_count": 12,
     "metadata": {},
     "output_type": "execute_result"
    }
   ],
   "execution_count": 12
  },
  {
   "metadata": {
    "ExecuteTime": {
     "end_time": "2025-06-10T07:24:22.031870Z",
     "start_time": "2025-06-10T07:24:22.028862Z"
    }
   },
   "cell_type": "code",
   "source": "query = 'Data Intent:\\nThe final table should include properties that are located north to Dubai Mall and are in the 30th percentile in that group. The table should include the following columns: title, bathrooms, bedrooms, type, price, verified, priceDuration, sizeMin, furnishing, description, latitude, longitude, City, addedOn_year_month, addedOn_month_name, addedOn_month_num, addedOn_day_num, and Area. The rows should be grouped by the location (north to Dubai'",
   "id": "5f69a18c76d0ff5f",
   "outputs": [],
   "execution_count": 8
  },
  {
   "metadata": {},
   "cell_type": "code",
   "outputs": [],
   "execution_count": null,
   "source": "",
   "id": "fe49eb7ad42efc83"
  },
  {
   "metadata": {},
   "cell_type": "code",
   "outputs": [],
   "execution_count": null,
   "source": "",
   "id": "aa9fddb521e2a7b5"
  },
  {
   "metadata": {
    "ExecuteTime": {
     "end_time": "2025-06-10T06:16:58.457942Z",
     "start_time": "2025-06-10T06:16:58.437199Z"
    }
   },
   "cell_type": "code",
   "source": "sample = pd.read_parquet(\"../data/sample_data.parquet\")",
   "id": "2b83640d0ea81b4a",
   "outputs": [],
   "execution_count": 5
  },
  {
   "metadata": {
    "ExecuteTime": {
     "end_time": "2025-06-10T07:00:09.280868Z",
     "start_time": "2025-06-10T07:00:09.275784Z"
    }
   },
   "cell_type": "code",
   "source": "sample.dtypes",
   "id": "8684daa21fde54a1",
   "outputs": [
    {
     "data": {
      "text/plain": [
       "title                  object\n",
       "bathrooms               int64\n",
       "bedrooms                int64\n",
       "type                   object\n",
       "price                   int64\n",
       "verified                 bool\n",
       "priceDuration          object\n",
       "sizeMin                 int64\n",
       "furnishing             object\n",
       "description            object\n",
       "latitude              float64\n",
       "longitude             float64\n",
       "City                   object\n",
       "addedOn_year_month     object\n",
       "addedOn_month_name     object\n",
       "addedOn_month_num       int64\n",
       "addedOn_day_num         int64\n",
       "Area                   object\n",
       "dtype: object"
      ]
     },
     "execution_count": 10,
     "metadata": {},
     "output_type": "execute_result"
    }
   ],
   "execution_count": 10
  },
  {
   "metadata": {
    "ExecuteTime": {
     "end_time": "2025-06-10T06:30:23.793803Z",
     "start_time": "2025-06-10T06:30:23.786651Z"
    }
   },
   "cell_type": "code",
   "source": "sample.to_dict(orient=\"records\")",
   "id": "cb044d8f7d46b2b6",
   "outputs": [
    {
     "data": {
      "text/plain": [
       "[{'title': 'Great ROI I High Floor I Creek View',\n",
       "  'bathrooms': 3,\n",
       "  'bedrooms': 2,\n",
       "  'type': 'Residential for Sale',\n",
       "  'price': 2500000,\n",
       "  'verified': True,\n",
       "  'priceDuration': 'sell',\n",
       "  'sizeMin': 44,\n",
       "  'furnishing': 'NO',\n",
       "  'description': 'MNA Properties is delighted to offer this apartment located in the well-esteemed Binghatti Canal, situated in the heart of Business Bay, Dubai, UAE. The 2BR apartment with the most attractive layout based on the high floor and offers the breathtaking panoramic view of Business Bay Canal; near Burj Khalifa.\\n\\nTo arrange a viewing or to find out more, please contact Amir via phone or Whatsapp on +971581684981 or email at amir.m@mnaproperties.ae\\n\\nProperty Features:\\n2 Bedrooms\\n2 Bathrooms + Guest room\\nSize 1,323 sq. ft.\\n2 Balconies\\nPrivate Jacuzzi / Small Pool\\nCanal View\\n\\nCan be sold Unfurnished as well\\n\\nBinghatti Canal Residences is a newly built project in Business Bay, Dubai that features symbolic design elements to generate a sense of community. Binghatti Canal reflects Binghatti Developers traditional Middle Eastern architecture and art, in addition to its modern design. Bingatti Canal finishing demonstrate the highest degree of quality and workmanship available only from the most reputable worldwide vendors. The interior design and fittings and fixtures in the 2BR Apartment are in perfect harmony, providing for an excellent balance between interior and outside spaces. Binghatti Canal residential complex - your gateway to luxury living in Business Bay.',\n",
       "  'latitude': 25.1861089,\n",
       "  'longitude': 55.2861562,\n",
       "  'City': 'Dubai',\n",
       "  'addedOn_year_month': '2024-08',\n",
       "  'addedOn_month_name': 'August',\n",
       "  'addedOn_month_num': 8,\n",
       "  'addedOn_day_num': 14,\n",
       "  'Area': 'Business Bay'},\n",
       " {'title': 'Full Sea View | Beach Life | Brand New Residence',\n",
       "  'bathrooms': 3,\n",
       "  'bedrooms': 2,\n",
       "  'type': 'Residential for Sale',\n",
       "  'price': 7200000,\n",
       "  'verified': True,\n",
       "  'priceDuration': 'sell',\n",
       "  'sizeMin': 44,\n",
       "  'furnishing': 'YES',\n",
       "  'description': 'Apartment for sale in La Vie, Jumeirah Beach Residence\\n\\nMultiple Options\\n\\nLuxury 2-Bedroom apartment in La Vie, Jumeirah Beach Residences\\n\\nThis 2-bedroom apartment in La Vie offers a luxurious waterfront living experience with world-class amenities and unparalleled views.\\n`Its Large Balcony overlooking Breathtaking views of Sea, the Palm Jumeirah.\\n\\nLocation: Prime spot in Jumeirah Beach Residences, Easy in and out.\\nFeatures:\\n\\n-2 Bedroom\\n-3 Baths\\n-Sea Views and Beautiful Sunsets\\n-High floor corner unit with a Large balcony\\n-Master bedroom with dressing room\\n-1 parking space\\n- Price Beach Access\\n\\nFacilities and Amenities\\nPrivate Beach\\nVIP drop Off\\n2 Swimming Pools (Kids &amp; Adults) Pool size - 31 Meter\\nVolley-Ball Court\\nBeach Club Drop Off\\nClub House Pool\\nModern huge GYM\\nHigh ceiling lobby\\nMultipurpose hall\\nBespoke Outdoor Gym\\nShaded Kids Area\\nSteam &amp; Sauna Area (2)\\nBBQ Area\\nGreen Grass Sitting Area\\nHigh speed Elevators\\n\\nConnectivity:\\n-Direct Access from Marina\\n-2 minutes to nearest shopping mall\\n-5 minutes drive to Sheikh Zayed Road\\n-10 minutes drive to Dubai Media City\\n-20 minutes drive to Dubai International Airport',\n",
       "  'latitude': 25.0797349,\n",
       "  'longitude': 55.1343655,\n",
       "  'City': 'Dubai',\n",
       "  'addedOn_year_month': '2024-08',\n",
       "  'addedOn_month_name': 'August',\n",
       "  'addedOn_month_num': 8,\n",
       "  'addedOn_day_num': 13,\n",
       "  'Area': 'Jumeirah Beach Residence'},\n",
       " {'title': 'Fully Furnished | Smart Home | High Floor',\n",
       "  'bathrooms': 1,\n",
       "  'bedrooms': 1,\n",
       "  'type': 'Residential for Sale',\n",
       "  'price': 950000,\n",
       "  'verified': True,\n",
       "  'priceDuration': 'sell',\n",
       "  'sizeMin': 32,\n",
       "  'furnishing': 'YES',\n",
       "  'description': '<p>Coldwell banker is pleased to present to you this stunning 1 bedroom apartment that offers the perfect blend of comfort, space, and villa views in East 40, Al furjan for sale. This 1 bedroom plus store apartment is ideal for couple or single professional seeking a harmonious living experience or also an investor as the property provides an excellent ROI.</p><p><br></p><p><strong>Property Features:</strong></p><p>1 Bedroom</p><p>1 Store room</p><p>1 bathroom</p><p>Fitted kitchen with Zanuzzi appliances</p><p>Large Terrace</p><p>Chiller Free Building</p><p>1 Parking</p><p>Total Area - 669.95 sq ft</p><p>Suite Area - 646.48 sq ft</p><p>Terrace Area - 23.47 sq ft</p><p><br></p><p>A fantastic one-bedroom apartment with a modern and well-designed layout in the sought-after community of Al Furjan. The open plan living area, kitchen/diner, and a modern bathroom provide a comfortable and stylish living space.</p><p><br></p><p>Contact our Al Furjan specialist, Alan for your private viewing now.</p><p><br></p><p>Company name: Coldwell Banker</p><p>RERA ORN: 1201</p><p>Address: Office 1211, Onyx Tower 1, Greens, Dubai</p><p>Office phone no: +97143825000</p><p>Primary email: info@coldwellbanker.ae</p><p>Website: www.coldwellbanker.ae</p>',\n",
       "  'latitude': 25.02109,\n",
       "  'longitude': 55.1403949,\n",
       "  'City': 'Dubai',\n",
       "  'addedOn_year_month': '2024-08',\n",
       "  'addedOn_month_name': 'August',\n",
       "  'addedOn_month_num': 8,\n",
       "  'addedOn_day_num': 15,\n",
       "  'Area': 'Al Furjan'}]"
      ]
     },
     "execution_count": 9,
     "metadata": {},
     "output_type": "execute_result"
    }
   ],
   "execution_count": 9
  },
  {
   "metadata": {},
   "cell_type": "code",
   "source": "from src.agent import main_agent",
   "id": "cf945488d37ec461",
   "outputs": [],
   "execution_count": null
  },
  {
   "metadata": {},
   "cell_type": "code",
   "source": "main_agent(\"show on map 2 bedroom flats that are cheaper than 2 million and in Dubai\")",
   "id": "ae54caf2ad969921",
   "outputs": [],
   "execution_count": null
  },
  {
   "metadata": {},
   "cell_type": "code",
   "source": [
    "USER_QUERY = \"show on map 2 bedroom flats that are cheaper than 2 million and in Dubai\"\n",
    "\n",
    "command = extract_data_intent.invoke(USER_QUERY)"
   ],
   "id": "1a8606353735cc6f",
   "outputs": [],
   "execution_count": null
  },
  {
   "metadata": {},
   "cell_type": "code",
   "source": "command",
   "id": "71c48ca4c8279f58",
   "outputs": [],
   "execution_count": null
  },
  {
   "cell_type": "code",
   "id": "7a6a769c",
   "metadata": {},
   "source": [
    "data_json_str = safe_dataframe_tool.invoke(command)\n",
    "data_dict = json.loads(data_json_str)"
   ],
   "outputs": [],
   "execution_count": null
  },
  {
   "cell_type": "code",
   "id": "3de1c5b9",
   "metadata": {},
   "source": "pd.DataFrame(data_dict[\"result\"])['latitude']",
   "outputs": [],
   "execution_count": null
  },
  {
   "cell_type": "code",
   "id": "30719e04",
   "metadata": {},
   "source": [
    "pd.DataFrame(data_dict[\"result\"])"
   ],
   "outputs": [],
   "execution_count": null
  },
  {
   "cell_type": "code",
   "id": "4ba791ef",
   "metadata": {},
   "source": [
    "data_json_str"
   ],
   "outputs": [],
   "execution_count": null
  },
  {
   "cell_type": "code",
   "id": "cdf17b5a",
   "metadata": {},
   "source": [
    "data_dict\n"
   ],
   "outputs": [],
   "execution_count": null
  },
  {
   "cell_type": "code",
   "id": "f5d75d01",
   "metadata": {},
   "source": [
    "pd.DataFrame(data_dict[\"result\"])"
   ],
   "outputs": [],
   "execution_count": null
  },
  {
   "cell_type": "code",
   "id": "88488b52",
   "metadata": {},
   "source": [
    "def main_agent(query: str):\n",
    "    # Step 1: Check if query is relevant\n",
    "    if not is_uae_real_estate_query(query):\n",
    "        return {\"type\": \"output\", \"data\": \"This is an irrelevant question to UAE property.\"}\n",
    "\n",
    "    # Step 2: Extract data intent from user query\n",
    "    data_intent = extract_data_intent.invoke(query)\n",
    "\n",
    "    # Step 3: Use PandasAI to retrieve relevant data\n",
    "    data_json_str = safe_dataframe_tool.invoke(data_intent)\n",
    "    data_dict = json.loads(data_json_str)\n",
    "\n",
    "    if not data_dict.get(\"success\"):\n",
    "        return {\"type\": \"error\", \"error\": data_dict.get(\"error\"), \"solution\": data_dict.get(\"solution\")}\n",
    "\n",
    "    # Step 4: Classify the user's goal\n",
    "    action = llm_classifier(query)\n",
    "    \n",
    "\n",
    "    # Step 5: Take action based on user intent\n",
    "    if action == \"output\":\n",
    "        return {\"type\": \"data\", \"data\": data_dict[\"result\"]}\n",
    "    \n",
    "    \n",
    "    elif action == \"plot_stats\":\n",
    "\n",
    "        viz_input = json.dumps({\"data\": data_dict[\"result\"], \"query\": query})\n",
    "        result_json_str = create_plotly_code.invoke(viz_input)\n",
    "        result = json.loads(result_json_str)\n",
    "        return {\"type\": \"plot\", **result}\n",
    "\n",
    "    elif action == \"geospatial_plot\":\n",
    "        \n",
    "        html = generate_google_maps_html(data_dict[\"result\"])\n",
    "        return {\"type\": \"html\", \"content\": html}\n",
    "\n",
    "    else:\n",
    "        return {\"type\": \"error\", \"error\": f\"Unknown action '{action}' from classifier.\"}\n"
   ],
   "outputs": [],
   "execution_count": null
  },
  {
   "metadata": {},
   "cell_type": "code",
   "source": "result = main_agent(\"show on map 2 bedroom flats that are cheaper than 2 million and in Dubai\")",
   "id": "36c4b24cd68519a8",
   "outputs": [],
   "execution_count": null
  },
  {
   "metadata": {},
   "cell_type": "code",
   "source": "result",
   "id": "6b9d844573215b2b",
   "outputs": [],
   "execution_count": null
  },
  {
   "cell_type": "code",
   "id": "fc2d6337",
   "metadata": {},
   "source": [
    "data_intent = extract_data_intent.invoke(\"create time series plot of the number of properties added in dubai per month\")\n",
    "\n",
    "    # Step 3: Use PandasAI to retrieve relevant data\n",
    "data_json_str = safe_dataframe_tool.invoke(data_intent)\n",
    "data_dict = json.loads(data_json_str)"
   ],
   "outputs": [],
   "execution_count": null
  },
  {
   "cell_type": "code",
   "id": "26b21782",
   "metadata": {},
   "source": [
    "data_dict"
   ],
   "outputs": [],
   "execution_count": null
  },
  {
   "cell_type": "code",
   "id": "b00f9bec",
   "metadata": {},
   "source": [
    "import streamlit as st\n",
    "import pandas as pd\n",
    "import openai\n",
    "from typing import Optional\n",
    "\n",
    "def get_openai_llm():\n",
    "    \"\"\"Initialize OpenAI client\"\"\"\n",
    "    return openai.OpenAI(api_key=st.secrets[\"OPENAI_API_KEY\"])\n",
    "\n",
    "def extract_python_code(text: str) -> Optional[str]:\n",
    "    \"\"\"\n",
    "    Extract Python code from markdown code blocks.\n",
    "    Returns None if no code found.\n",
    "    \"\"\"\n",
    "    if '```python' in text:\n",
    "        return text.split('```python')[1].split('```')[0].strip()\n",
    "    elif '```' in text:\n",
    "        return text.split('```')[1].split('```')[0].strip()\n",
    "    return None\n",
    "\n",
    "def create_plotly_code(data_dict: dict, user_input: str, verbose: bool = True):\n",
    "    \"\"\"Generate and execute Plotly code using your exact prompt format\"\"\"\n",
    "    # Prepare data\n",
    "    data = pd.DataFrame(data_dict[\"result\"])\n",
    "    \n",
    "    # Create prompt (using your exact format)\n",
    "    code_prompt = f\"\"\"\n",
    "        Generate the code <code> for plotting the data, {data}, in plotly,\n",
    "        in the format requested by: {user_input}.\n",
    "        The solution should be given using plotly and only plotly.\n",
    "        Do not use matplotlib. Return the code <code> in the following\n",
    "        format python <code>\n",
    "    \"\"\"\n",
    "    # Get AI response\n",
    "    official_ai = get_openai_llm()\n",
    "    response = official_ai.chat.completions.create(\n",
    "        model=\"gpt-4\",\n",
    "        messages=[{\"role\": \"user\", \"content\": code_prompt}],\n",
    "        max_tokens=1000\n",
    "    )\n",
    "    \n",
    "    # Extract code\n",
    "    raw_response = response.choices[0].message.content\n",
    "    code = extract_python_code(raw_response)\n",
    "\n",
    "    # Modify code for Streamlit\n",
    "    code = code.replace(\"fig.show()\", \"\")\n",
    "    code += \"\\nst.plotly_chart(fig, use_container_width=True)\"\n",
    "    \n",
    "    return code"
   ],
   "outputs": [],
   "execution_count": null
  },
  {
   "cell_type": "code",
   "id": "5d87018d",
   "metadata": {},
   "source": [
    "data_intent = extract_data_intent.invoke(\"make bar plot of the average property prices in Jumeirah by the number of rooms\")\n",
    "\n",
    "    # Step 3: Use PandasAI to retrieve relevant data\n",
    "data_json_str = safe_dataframe_tool.invoke(data_intent)\n",
    "data_dict = json.loads(data_json_str)"
   ],
   "outputs": [],
   "execution_count": null
  },
  {
   "cell_type": "code",
   "id": "7604360c",
   "metadata": {},
   "source": [
    "from src.tools import get"
   ],
   "outputs": [],
   "execution_count": null
  },
  {
   "cell_type": "code",
   "id": "65e038f9",
   "metadata": {},
   "source": [
    "data_intent"
   ],
   "outputs": [],
   "execution_count": null
  },
  {
   "cell_type": "code",
   "id": "aa413012",
   "metadata": {},
   "source": [
    "DATA_DIR = r\"../data/uae_real_estate_2024_geo_ready2.parquet\"\n",
    "df =  pd.read_parquet(DATA_DIR)"
   ],
   "outputs": [],
   "execution_count": null
  },
  {
   "cell_type": "code",
   "id": "768efeca",
   "metadata": {},
   "source": [
    "df.drop(columns=\"addedOn\", inplace=True)"
   ],
   "outputs": [],
   "execution_count": null
  },
  {
   "cell_type": "code",
   "id": "f51d86b3",
   "metadata": {},
   "source": [
    "df.columns"
   ],
   "outputs": [],
   "execution_count": null
  },
  {
   "cell_type": "code",
   "id": "cf47da3f",
   "metadata": {},
   "source": [
    "df.columns[df.isna().any()].tolist()\n"
   ],
   "outputs": [],
   "execution_count": null
  },
  {
   "cell_type": "code",
   "id": "86159052",
   "metadata": {},
   "source": [
    "df['bathrooms'].fillna(0, inplace=True)\n",
    "df['bedrooms'].fillna(0, inplace=True)\n",
    "df['furnishing'] = df['furnishing'].cat.add_categories('Unknown')\n",
    "df['furnishing'] = df['furnishing'].fillna('Unknown')\n"
   ],
   "outputs": [],
   "execution_count": null
  },
  {
   "cell_type": "code",
   "id": "26c08842",
   "metadata": {},
   "source": [
    "df[\"sizeMin\"] = df[\"bedrooms\"].apply(lambda x: 20 + 12 * x)"
   ],
   "outputs": [],
   "execution_count": null
  },
  {
   "cell_type": "code",
   "id": "2ac41cc3",
   "metadata": {},
   "source": [
    "df['addedOn'] = df['addedOn'].dt.strftime('%Y-%m-%dT%H:%M:%S')"
   ],
   "outputs": [],
   "execution_count": null
  },
  {
   "cell_type": "code",
   "id": "c7d7a654",
   "metadata": {},
   "source": [
    "df[\"displayAddress\"]"
   ],
   "outputs": [],
   "execution_count": null
  },
  {
   "cell_type": "code",
   "id": "5639550f",
   "metadata": {},
   "source": [
    "df.columns[df.isna().any()].tolist()\n"
   ],
   "outputs": [],
   "execution_count": null
  },
  {
   "cell_type": "code",
   "id": "796e45fd",
   "metadata": {},
   "source": [
    "df.to_csv(r\"../data/uae_real_estate_2024_geo_ready2.csv\", index=False)"
   ],
   "outputs": [],
   "execution_count": null
  },
  {
   "cell_type": "code",
   "id": "c700c9c4",
   "metadata": {},
   "source": [
    "import pandasai as pai\n",
    "\n",
    "companies = pai.create(\n",
    "  path=\"my-org/properties3\",\n",
    "  df=pai.read_csv(\"../data/uae_real_estate_2024_geo_ready2.csv\"),\n",
    "  description=\"UAE properties dataset 2\"\n",
    ")"
   ],
   "outputs": [],
   "execution_count": null
  },
  {
   "cell_type": "code",
   "id": "0631b653",
   "metadata": {},
   "source": [
    "result = companies.chat(\"Retrieve properties located within a 2-mile radius of Dubai Eye.\")"
   ],
   "outputs": [],
   "execution_count": null
  }
 ],
 "metadata": {
  "kernelspec": {
   "display_name": "chatbot_env2",
   "language": "python",
   "name": "python3"
  },
  "language_info": {
   "codemirror_mode": {
    "name": "ipython",
    "version": 3
   },
   "file_extension": ".py",
   "mimetype": "text/x-python",
   "name": "python",
   "nbconvert_exporter": "python",
   "pygments_lexer": "ipython3",
   "version": "3.10.17"
  }
 },
 "nbformat": 4,
 "nbformat_minor": 5
}
