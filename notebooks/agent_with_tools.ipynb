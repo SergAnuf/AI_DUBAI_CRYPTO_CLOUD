{
 "cells": [
  {
   "metadata": {
    "ExecuteTime": {
     "end_time": "2025-09-17T10:52:16.568335Z",
     "start_time": "2025-09-17T10:52:13.702738Z"
    }
   },
   "cell_type": "code",
   "source": [
    "import pandas as pd\n",
    "from src.geo_tools import generate_google_maps_html\n",
    "import pandasai as pai\n",
    "from src.tools import extract_data_intent, safe_dataframe_tool, get_openai_llm\n",
    "from src.classifiers import llm_classifier\n",
    "import json"
   ],
   "id": "f659893ba2716b41",
   "outputs": [
    {
     "name": "stdout",
     "output_type": "stream",
     "text": [
      "Dataset loaded successfully.\n"
     ]
    }
   ],
   "execution_count": 1
  },
  {
   "metadata": {
    "ExecuteTime": {
     "end_time": "2025-09-17T10:52:19.452172Z",
     "start_time": "2025-09-17T10:52:19.446702Z"
    }
   },
   "cell_type": "code",
   "source": [
    "\"Step 1 - original question\"\n",
    "\n",
    "QUERY = \"show on map furnished single room properties in westmister\""
   ],
   "id": "f045d0de3ebd0ae5",
   "outputs": [],
   "execution_count": 2
  },
  {
   "metadata": {
    "ExecuteTime": {
     "end_time": "2025-09-13T19:35:34.897979Z",
     "start_time": "2025-09-13T19:35:33.915852Z"
    }
   },
   "cell_type": "code",
   "source": [
    "\"Step 2 - What is the data needed to answer the question?\"\n",
    "\n",
    "processed_query = extract_data_intent.invoke(QUERY)\n",
    "\n",
    "print(processed_query)"
   ],
   "id": "13c3488361a317df",
   "outputs": [
    {
     "name": "stdout",
     "output_type": "stream",
     "text": [
      "Compare the price_gbp for properties with bedrooms equal to 1 and property_type containing \"flat\", grouped by borough in London.\n"
     ]
    }
   ],
   "execution_count": 3
  },
  {
   "metadata": {
    "ExecuteTime": {
     "end_time": "2025-09-17T10:44:41.888873Z",
     "start_time": "2025-09-17T10:44:41.414734Z"
    }
   },
   "cell_type": "code",
   "source": [
    "\"Step 3 - What to do with the above data either [print, plot or map]?\"\n",
    "\n",
    "print(llm_classifier(QUERY))"
   ],
   "id": "a7a66a653b708f58",
   "outputs": [
    {
     "name": "stdout",
     "output_type": "stream",
     "text": [
      "geospatial_plot\n",
      "geospatial_plot\n"
     ]
    }
   ],
   "execution_count": 23
  },
  {
   "metadata": {
    "ExecuteTime": {
     "end_time": "2025-09-17T10:18:57.623383Z",
     "start_time": "2025-09-17T10:18:57.614271Z"
    }
   },
   "cell_type": "code",
   "source": [
    "# \"Step 4 - get the data asked for in Step 2 by pandas ai\"\n",
    "#\n",
    "# ans = safe_dataframe_tool.invoke(processed_query)\n",
    "#\n",
    "# print(\"Sucsees = \", json.loads(ans)['success'])\n",
    "# print(\"Result = \", pd.DataFrame(json.loads(ans)['result']))"
   ],
   "id": "d2e471c1206381e",
   "outputs": [],
   "execution_count": 11
  },
  {
   "metadata": {
    "ExecuteTime": {
     "end_time": "2025-09-17T10:52:34.043979Z",
     "start_time": "2025-09-17T10:52:25.176437Z"
    }
   },
   "cell_type": "code",
   "source": [
    "ans = safe_dataframe_tool.invoke(QUERY)\n",
    "\n",
    "\n",
    "print(\"Sucsees = \", json.loads(ans)['success'])\n",
    "print(\"Result = \", pd.DataFrame(json.loads(ans)['result']))"
   ],
   "id": "ff5203db500f6806",
   "outputs": [
    {
     "name": "stdout",
     "output_type": "stream",
     "text": [
      "Dataset loaded successfully.\n",
      "{'type': 'dataframe', 'value':             id                                              title  \\\n",
      "0    147560057  1 bedroom flat share for rent in Room 5, 58A C...   \n",
      "1    149396807  1 bedroom apartment for rent in Dunraven Stree...   \n",
      "2    156112556  1 bedroom flat for rent in Catherine Place, \\n...   \n",
      "3    147560597  1 bedroom flat share for rent in Room 5, 52 Ch...   \n",
      "4    154843757  1 bedroom apartment for rent in Hay Hill, Mayf...   \n",
      "..         ...                                                ...   \n",
      "769  156424463  1 bedroom apartment for rent in Bentinck House...   \n",
      "770  156517772  1 bedroom flat for rent in Medway Street, Vict...   \n",
      "771  155848805  1 bedroom flat for rent in North Audley Street...   \n",
      "772    5688648  1 bedroom ground floor flat for rent in Bell S...   \n",
      "773  145972292  1 bedroom apartment for rent in Welbeck Street...   \n",
      "\n",
      "                                   display_address postcode_outcode  \\\n",
      "0                 Room 5, 58A Chippenham Road, W9                W9   \n",
      "1            Dunraven Street, Mayfair, London, W1K              W1K   \n",
      "2             Catherine Place, \\nWestminster, SW1E             SW1E   \n",
      "3                   Room 5, 52 Chippenham Road, W9               W9   \n",
      "4                   Hay Hill, Mayfair, London, W1J              W1J   \n",
      "..                                             ...              ...   \n",
      "769  Bentinck House, 34 Monck Street, London, SW1P             SW1P   \n",
      "770                  Medway Street, Victoria, SW1P             SW1P   \n",
      "771               North Audley Street, London, W1K              W1K   \n",
      "772                         Bell Street,London,NW1              NW1   \n",
      "773        Welbeck Street, Marylebone, London, W1G              W1G   \n",
      "\n",
      "    postcode_incode  bathrooms  bedrooms property_type  price_gbp  \\\n",
      "0               2AE          1         1    Flat Share       1400   \n",
      "1               7FD          1         1     Apartment       4117   \n",
      "2               6DY          1         1          Flat       3250   \n",
      "3               2AE          1         1    Flat Share       1400   \n",
      "4               8NS          1         1     Apartment       4996   \n",
      "..              ...        ...       ...           ...        ...   \n",
      "769             2BF          1         1     Apartment       2200   \n",
      "770             2TB          1         1          Flat       2350   \n",
      "771             6ZN          1         1          Flat       3792   \n",
      "772             6TA          1         1         other       1950   \n",
      "773             9XH          2         1     Apartment       9477   \n",
      "\n",
      "    furnish_type   latitude  longitude      borough  \n",
      "0      Furnished  51.525609  -0.197588  Westminster  \n",
      "1      Furnished  51.512159  -0.156915  Westminster  \n",
      "2      Furnished  51.499260  -0.140160  Westminster  \n",
      "3      Furnished  51.525456  -0.197694  Westminster  \n",
      "4      Furnished  51.509045  -0.143512  Westminster  \n",
      "..           ...        ...        ...          ...  \n",
      "769    Furnished  51.495877  -0.130444  Westminster  \n",
      "770    Furnished  51.495973  -0.131884  Westminster  \n",
      "771    Furnished  51.512480  -0.153510  Westminster  \n",
      "772    Furnished  51.521610  -0.167700  Westminster  \n",
      "773    Furnished  51.517020  -0.149345  Westminster  \n",
      "\n",
      "[774 rows x 13 columns]}\n",
      "Sucsees =  True\n",
      "Result =              id                                              title  \\\n",
      "0    147560057  1 bedroom flat share for rent in Room 5, 58A C...   \n",
      "1    149396807  1 bedroom apartment for rent in Dunraven Stree...   \n",
      "2    156112556  1 bedroom flat for rent in Catherine Place, \\n...   \n",
      "3    147560597  1 bedroom flat share for rent in Room 5, 52 Ch...   \n",
      "4    154843757  1 bedroom apartment for rent in Hay Hill, Mayf...   \n",
      "..         ...                                                ...   \n",
      "769  156424463  1 bedroom apartment for rent in Bentinck House...   \n",
      "770  156517772  1 bedroom flat for rent in Medway Street, Vict...   \n",
      "771  155848805  1 bedroom flat for rent in North Audley Street...   \n",
      "772    5688648  1 bedroom ground floor flat for rent in Bell S...   \n",
      "773  145972292  1 bedroom apartment for rent in Welbeck Street...   \n",
      "\n",
      "                                   display_address postcode_outcode  \\\n",
      "0                 Room 5, 58A Chippenham Road, W9                W9   \n",
      "1            Dunraven Street, Mayfair, London, W1K              W1K   \n",
      "2             Catherine Place, \\nWestminster, SW1E             SW1E   \n",
      "3                   Room 5, 52 Chippenham Road, W9               W9   \n",
      "4                   Hay Hill, Mayfair, London, W1J              W1J   \n",
      "..                                             ...              ...   \n",
      "769  Bentinck House, 34 Monck Street, London, SW1P             SW1P   \n",
      "770                  Medway Street, Victoria, SW1P             SW1P   \n",
      "771               North Audley Street, London, W1K              W1K   \n",
      "772                         Bell Street,London,NW1              NW1   \n",
      "773        Welbeck Street, Marylebone, London, W1G              W1G   \n",
      "\n",
      "    postcode_incode  bathrooms  bedrooms property_type  price_gbp  \\\n",
      "0               2AE          1         1    Flat Share       1400   \n",
      "1               7FD          1         1     Apartment       4117   \n",
      "2               6DY          1         1          Flat       3250   \n",
      "3               2AE          1         1    Flat Share       1400   \n",
      "4               8NS          1         1     Apartment       4996   \n",
      "..              ...        ...       ...           ...        ...   \n",
      "769             2BF          1         1     Apartment       2200   \n",
      "770             2TB          1         1          Flat       2350   \n",
      "771             6ZN          1         1          Flat       3792   \n",
      "772             6TA          1         1         other       1950   \n",
      "773             9XH          2         1     Apartment       9477   \n",
      "\n",
      "    furnish_type   latitude  longitude      borough  \n",
      "0      Furnished  51.525609  -0.197588  Westminster  \n",
      "1      Furnished  51.512159  -0.156915  Westminster  \n",
      "2      Furnished  51.499260  -0.140160  Westminster  \n",
      "3      Furnished  51.525456  -0.197694  Westminster  \n",
      "4      Furnished  51.509045  -0.143512  Westminster  \n",
      "..           ...        ...        ...          ...  \n",
      "769    Furnished  51.495877  -0.130444  Westminster  \n",
      "770    Furnished  51.495973  -0.131884  Westminster  \n",
      "771    Furnished  51.512480  -0.153510  Westminster  \n",
      "772    Furnished  51.521610  -0.167700  Westminster  \n",
      "773    Furnished  51.517020  -0.149345  Westminster  \n",
      "\n",
      "[774 rows x 13 columns]\n"
     ]
    }
   ],
   "execution_count": 3
  },
  {
   "metadata": {
    "ExecuteTime": {
     "end_time": "2025-09-17T10:39:22.827936Z",
     "start_time": "2025-09-17T10:39:22.823614Z"
    }
   },
   "cell_type": "code",
   "source": "result = json.loads(ans)['result']",
   "id": "a3ecd5bba46966f8",
   "outputs": [],
   "execution_count": 11
  },
  {
   "metadata": {
    "ExecuteTime": {
     "end_time": "2025-09-17T10:39:24.596339Z",
     "start_time": "2025-09-17T10:39:24.590936Z"
    }
   },
   "cell_type": "code",
   "source": "result",
   "id": "222a91c703fcb44a",
   "outputs": [
    {
     "data": {
      "text/plain": [
       "[{'id': 155473763,\n",
       "  'title': '1 bedroom house share for rent in Waterhead, Varndell Street, NW1',\n",
       "  'display_address': 'Waterhead, Varndell Street, NW1',\n",
       "  'postcode_outcode': 'NW1',\n",
       "  'postcode_incode': '3RR',\n",
       "  'price_gbp': 899,\n",
       "  'latitude': 51.529281,\n",
       "  'longitude': -0.139209},\n",
       " {'id': 87059196,\n",
       "  'title': '1 bedroom house share for rent in Harmood Street, Chalk Farm, NW1',\n",
       "  'display_address': 'Harmood Street, Chalk Farm, NW1',\n",
       "  'postcode_outcode': 'NW1',\n",
       "  'postcode_incode': '8DY',\n",
       "  'price_gbp': 899,\n",
       "  'latitude': 51.544647,\n",
       "  'longitude': -0.14774},\n",
       " {'id': 155616965,\n",
       "  'title': '1 bedroom house share for rent in Chalton Street, Euston, , NW1',\n",
       "  'display_address': 'Chalton Street, Euston, ',\n",
       "  'postcode_outcode': 'NW1',\n",
       "  'postcode_incode': '1HH',\n",
       "  'price_gbp': 899,\n",
       "  'latitude': 51.530622,\n",
       "  'longitude': -0.13133},\n",
       " {'id': 155857817,\n",
       "  'title': \"1 bedroom house share for rent in Stanhope Street, Regent's Park, NW1\",\n",
       "  'display_address': \"Stanhope Street, Regent's Park, NW1\",\n",
       "  'postcode_outcode': 'NW1',\n",
       "  'postcode_incode': '3LR',\n",
       "  'price_gbp': 899,\n",
       "  'latitude': 51.527801,\n",
       "  'longitude': -0.141172},\n",
       " {'id': 155821721,\n",
       "  'title': '1 bedroom house share for rent in West End Lane, London, NW6',\n",
       "  'display_address': 'West End Lane, London',\n",
       "  'postcode_outcode': 'NW6',\n",
       "  'postcode_incode': '1UX',\n",
       "  'price_gbp': 1000,\n",
       "  'latitude': 51.54544,\n",
       "  'longitude': -0.191492}]"
      ]
     },
     "execution_count": 12,
     "metadata": {},
     "output_type": "execute_result"
    }
   ],
   "execution_count": 12
  },
  {
   "metadata": {
    "ExecuteTime": {
     "end_time": "2025-09-17T10:52:43.589229Z",
     "start_time": "2025-09-17T10:52:43.582579Z"
    }
   },
   "cell_type": "code",
   "source": "html = generate_google_maps_html(json.loads(ans)['result'])",
   "id": "4f66feb80e539a7e",
   "outputs": [],
   "execution_count": 4
  },
  {
   "metadata": {
    "ExecuteTime": {
     "end_time": "2025-09-17T10:52:45.301164Z",
     "start_time": "2025-09-17T10:52:45.296675Z"
    }
   },
   "cell_type": "code",
   "source": "html",
   "id": "3ddc3c0e1b4d913b",
   "outputs": [
    {
     "data": {
      "text/plain": [
       "'<html><body><h1>Too many properties to display. Please refine your search.</h1></body></html>'"
      ]
     },
     "execution_count": 5,
     "metadata": {},
     "output_type": "execute_result"
    }
   ],
   "execution_count": 5
  },
  {
   "metadata": {
    "ExecuteTime": {
     "end_time": "2025-09-17T10:52:52.235112Z",
     "start_time": "2025-09-17T10:52:52.232310Z"
    }
   },
   "cell_type": "code",
   "source": [
    "with open(\"properties_westminster_large_number.html\", \"w\", encoding=\"utf-8\") as f:\n",
    "    f.write(html)\n",
    "\n",
    "print(\"Saved as properties_map.html\")"
   ],
   "id": "f880c98b8f23f1ff",
   "outputs": [
    {
     "name": "stdout",
     "output_type": "stream",
     "text": [
      "Saved as properties_map.html\n"
     ]
    }
   ],
   "execution_count": 6
  },
  {
   "metadata": {
    "ExecuteTime": {
     "end_time": "2025-09-13T18:08:56.022826Z",
     "start_time": "2025-09-13T18:08:56.018540Z"
    }
   },
   "cell_type": "code",
   "source": "from prompts.tool_prompts import get_plotly_code_prompt",
   "id": "98d904d955ca37ce",
   "outputs": [],
   "execution_count": 7
  },
  {
   "metadata": {
    "ExecuteTime": {
     "end_time": "2025-09-13T18:08:58.068529Z",
     "start_time": "2025-09-13T18:08:58.062356Z"
    }
   },
   "cell_type": "code",
   "source": "prompt = get_plotly_code_prompt(QUERY,data)",
   "id": "e77693683e266ca7",
   "outputs": [],
   "execution_count": 8
  },
  {
   "metadata": {
    "ExecuteTime": {
     "end_time": "2025-09-13T18:09:01.375593Z",
     "start_time": "2025-09-13T18:09:01.371246Z"
    }
   },
   "cell_type": "code",
   "source": "print(prompt)",
   "id": "f881c8f0308b0393",
   "outputs": [
    {
     "name": "stdout",
     "output_type": "stream",
     "text": [
      "\n",
      "You are an assistant that generates **only Python code** using Plotly (not matplotlib).\n",
      "\n",
      "The dataset is already available in memory as a variable named `df`.\n",
      "\n",
      "Dataset columns: borough, avg_price\n",
      "Sample rows (first 5, for reference only — do NOT hardcode them): [{'borough': 'Kensington and Chelsea', 'avg_price': 3628.487394958}, {'borough': 'Westminster', 'avg_price': 3459.3021201413}, {'borough': 'City of London', 'avg_price': 3157.4137931034}, {'borough': 'Camden', 'avg_price': 2582.2489270386}, {'borough': 'Hammersmith and Fulham', 'avg_price': 2424.3733905579}]\n",
      "\n",
      "User request: \"compare prices per each london borough for 1 bedroom flat\"\n",
      "\n",
      "Instructions:\n",
      "- Always use the full dataset `df` (not just the sample).\n",
      "- Do not recreate or hardcode the dataset.\n",
      "- If there is only one row, still plot it (e.g., single bar or single point).\n",
      "- Choose the most appropriate plot type (bar, line, scatter, histogram, etc.).\n",
      "- Return only valid Python code, wrapped like this:\n",
      "\n",
      "```python\n",
      "# code here\n",
      "\n"
     ]
    }
   ],
   "execution_count": 9
  },
  {
   "metadata": {
    "ExecuteTime": {
     "end_time": "2025-09-13T18:09:23.941678Z",
     "start_time": "2025-09-13T18:09:21.140143Z"
    }
   },
   "cell_type": "code",
   "source": [
    "from openai.types.chat import ChatCompletionSystemMessageParam, ChatCompletionUserMessageParam\n",
    "\n",
    "official_ai = get_openai_llm()\n",
    "response = official_ai.chat.completions.create(\n",
    "        model=\"gpt-4.1-mini\",\n",
    "        messages=\n",
    "        [\n",
    "            ChatCompletionSystemMessageParam(role=\"system\",\n",
    "                                             content=\"You create Plotly code based on user_input and data\"),\n",
    "            ChatCompletionUserMessageParam(role=\"user\", content=prompt)\n",
    "        ],\n",
    "        max_tokens=400\n",
    "    )\n",
    "    # Extract code\n",
    "raw_response = response.choices[0].message.content"
   ],
   "id": "f6fe2bdaee48af3",
   "outputs": [],
   "execution_count": 10
  },
  {
   "metadata": {
    "ExecuteTime": {
     "end_time": "2025-09-13T18:09:30.412254Z",
     "start_time": "2025-09-13T18:09:30.408211Z"
    }
   },
   "cell_type": "code",
   "source": "print(raw_response)",
   "id": "5958802f4d323e5c",
   "outputs": [
    {
     "name": "stdout",
     "output_type": "stream",
     "text": [
      "```python\n",
      "import plotly.express as px\n",
      "\n",
      "fig = px.bar(df, x='borough', y='avg_price',\n",
      "             title='Average Price per 1 Bedroom Flat by London Borough',\n",
      "             labels={'borough': 'London Borough', 'avg_price': 'Average Price (£)'},\n",
      "             text=df['avg_price'].round(0))\n",
      "\n",
      "fig.update_traces(textposition='outside')\n",
      "fig.update_layout(xaxis_tickangle=-45, yaxis_title='Average Price (£)', yaxis=dict(tickformat=\",.0f\"))\n",
      "fig.show()\n",
      "```\n"
     ]
    }
   ],
   "execution_count": 11
  },
  {
   "metadata": {
    "ExecuteTime": {
     "end_time": "2025-09-13T18:09:36.497653Z",
     "start_time": "2025-09-13T18:09:36.494135Z"
    }
   },
   "cell_type": "code",
   "source": "from src.tools import extract_python_code",
   "id": "bf16bbb237831f0b",
   "outputs": [],
   "execution_count": 12
  },
  {
   "metadata": {
    "ExecuteTime": {
     "end_time": "2025-09-13T18:09:38.285959Z",
     "start_time": "2025-09-13T18:09:38.282987Z"
    }
   },
   "cell_type": "code",
   "source": [
    "code = extract_python_code(raw_response)\n",
    "\n",
    "print(code)"
   ],
   "id": "607a8cd0ce95fdea",
   "outputs": [
    {
     "name": "stdout",
     "output_type": "stream",
     "text": [
      "import plotly.express as px\n",
      "\n",
      "fig = px.bar(df, x='borough', y='avg_price',\n",
      "             title='Average Price per 1 Bedroom Flat by London Borough',\n",
      "             labels={'borough': 'London Borough', 'avg_price': 'Average Price (£)'},\n",
      "             text=df['avg_price'].round(0))\n",
      "\n",
      "fig.update_traces(textposition='outside')\n",
      "fig.update_layout(xaxis_tickangle=-45, yaxis_title='Average Price (£)', yaxis=dict(tickformat=\",.0f\"))\n",
      "fig.show()\n"
     ]
    }
   ],
   "execution_count": 13
  },
  {
   "metadata": {
    "ExecuteTime": {
     "end_time": "2025-09-13T18:09:48.204931Z",
     "start_time": "2025-09-13T18:09:48.200663Z"
    }
   },
   "cell_type": "code",
   "source": [
    "code = code.replace(\"fig.show()\", \"\")\n",
    "code += \"\\nst.plotly_chart(fig, use_container_width=True)\"\n",
    "\n",
    "print(code)"
   ],
   "id": "bf235110c8e45dd9",
   "outputs": [
    {
     "name": "stdout",
     "output_type": "stream",
     "text": [
      "import plotly.express as px\n",
      "\n",
      "fig = px.bar(df, x='borough', y='avg_price',\n",
      "             title='Average Price per 1 Bedroom Flat by London Borough',\n",
      "             labels={'borough': 'London Borough', 'avg_price': 'Average Price (£)'},\n",
      "             text=df['avg_price'].round(0))\n",
      "\n",
      "fig.update_traces(textposition='outside')\n",
      "fig.update_layout(xaxis_tickangle=-45, yaxis_title='Average Price (£)', yaxis=dict(tickformat=\",.0f\"))\n",
      "\n",
      "st.plotly_chart(fig, use_container_width=True)\n"
     ]
    }
   ],
   "execution_count": 14
  },
  {
   "cell_type": "code",
   "id": "4ba791ef",
   "metadata": {
    "ExecuteTime": {
     "end_time": "2025-09-13T16:22:49.244623Z",
     "start_time": "2025-09-13T16:22:41.487466Z"
    }
   },
   "source": "print(pd.DataFrame(json.loads(safe_dataframe_tool.invoke(QUERY))['result']))",
   "outputs": [
    {
     "name": "stdout",
     "output_type": "stream",
     "text": [
      "Dataset loaded successfully.\n",
      "                   borough    avg_price\n",
      "0           City of London  3919.207792\n",
      "1              Westminster  3359.210151\n",
      "2   Kensington and Chelsea  3200.649524\n",
      "3                   Camden  2537.114035\n",
      "4               Wandsworth  2414.468085\n",
      "5   Hammersmith and Fulham  2393.431915\n",
      "6            Tower Hamlets  2294.065121\n",
      "7                Southwark  2219.508621\n",
      "8                  Hackney  2192.873377\n",
      "9                Islington  2154.578406\n",
      "10                 Lambeth  2095.029851\n",
      "11    Richmond upon Thames  2021.737931\n",
      "12                  Newham  1896.700599\n",
      "13                   Brent  1720.505338\n",
      "14                Haringey  1701.506623\n",
      "15               Greenwich  1661.082192\n",
      "16                Hounslow  1634.705645\n",
      "17                  Merton  1565.407080\n",
      "18                  Ealing  1564.715517\n",
      "19                Lewisham  1535.686207\n",
      "20                  Barnet  1512.812500\n",
      "21    Kingston upon Thames  1466.611765\n",
      "22          Waltham Forest  1428.560440\n",
      "23                  Harrow  1398.074074\n",
      "24    Barking and Dagenham  1354.458333\n",
      "25                 Enfield  1339.360544\n",
      "26                 Croydon  1339.192140\n",
      "27                 Bromley  1330.407692\n",
      "28               Redbridge  1288.213836\n",
      "29              Hillingdon  1285.762376\n",
      "30                  Sutton  1244.391304\n",
      "31                Havering  1237.046875\n",
      "32                  Bexley  1101.313725\n"
     ]
    }
   ],
   "execution_count": 11
  }
 ],
 "metadata": {
  "kernelspec": {
   "display_name": "chatbot_env2",
   "language": "python",
   "name": "python3"
  },
  "language_info": {
   "codemirror_mode": {
    "name": "ipython",
    "version": 3
   },
   "file_extension": ".py",
   "mimetype": "text/x-python",
   "name": "python",
   "nbconvert_exporter": "python",
   "pygments_lexer": "ipython3",
   "version": "3.10.17"
  }
 },
 "nbformat": 4,
 "nbformat_minor": 5
}
