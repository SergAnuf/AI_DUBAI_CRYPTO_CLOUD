{
 "cells": [
  {
   "cell_type": "code",
   "execution_count": 1,
   "id": "e2c15367",
   "metadata": {},
   "outputs": [
    {
     "data": {
      "text/plain": [
       "True"
      ]
     },
     "execution_count": 1,
     "metadata": {},
     "output_type": "execute_result"
    }
   ],
   "source": [
    "import pandas as pd\n",
    "from dotenv import load_dotenv\n",
    "import os\n",
    "import pandas as pd\n",
    "import openai\n",
    "from IPython.display import HTML\n",
    "import sys\n",
    "\n",
    "project_root = os.path.dirname(os.getcwd())\n",
    "sys.path.append(project_root)\n",
    "\n",
    "from src.classifiers import is_uae_real_estate_query, llm_classifier\n",
    "from src.tools import visualize_tool, safe_dataframe_tool\n",
    "\n",
    "load_dotenv()"
   ]
  },
  {
   "cell_type": "code",
   "execution_count": 2,
   "id": "f1302657",
   "metadata": {},
   "outputs": [],
   "source": [
    "from src.agent import main_agent"
   ]
  },
  {
   "cell_type": "code",
   "execution_count": 3,
   "id": "ad4b0f0f",
   "metadata": {},
   "outputs": [
    {
     "name": "stderr",
     "output_type": "stream",
     "text": [
      "/home/zcemg08/projects/chatbot/src/agent.py:10: LangChainDeprecationWarning: The method `BaseTool.__call__` was deprecated in langchain-core 0.1.47 and will be removed in 1.0. Use :meth:`~invoke` instead.\n",
      "  data = safe_dataframe_tool(query)\n"
     ]
    },
    {
     "name": "stdout",
     "output_type": "stream",
     "text": [
      "   Average Price in Dubai Marina\n",
      "0                   5.050924e+06\n",
      "output\n"
     ]
    }
   ],
   "source": [
    "res = main_agent('Show average price in Dubai Marina')"
   ]
  },
  {
   "cell_type": "code",
   "execution_count": 4,
   "id": "1666a379",
   "metadata": {},
   "outputs": [
    {
     "data": {
      "text/plain": [
       "'data'"
      ]
     },
     "execution_count": 4,
     "metadata": {},
     "output_type": "execute_result"
    }
   ],
   "source": [
    "res[\"type\"]"
   ]
  },
  {
   "cell_type": "code",
   "execution_count": 2,
   "id": "7ba75bf2",
   "metadata": {},
   "outputs": [],
   "source": [
    "def main_agent(query: str):\n",
    "    if not is_uae_real_estate_query(query):\n",
    "        return {\"type\": \"output\", \"data\": \"This is an irrelevant question to UAE property.\"}\n",
    "\n",
    "    data = safe_dataframe_tool(query)\n",
    "    if isinstance(data, dict) and data.get(\"error\"):\n",
    "        return data\n",
    "\n",
    "    action = llm_classifier(query)\n",
    "\n",
    "    if action == \"output\":\n",
    "        return {\"type\": \"data\", \"data\": data}\n",
    "\n",
    "    elif action == \"plot_stats\":\n",
    "        result = visualize_tool.invoke({\"data\": data, \"query\": query})\n",
    "        return {\"type\": \"plot\", **result}\n",
    "\n",
    "    elif action == \"geospatial_plot\":\n",
    "        return {\"error\": \"Geospatial plotting tool not implemented yet.\"}\n",
    "\n",
    "    else:\n",
    "        return {\"error\": f\"Unknown action '{action}' from classifier.\"}\n",
    "\n"
   ]
  },
  {
   "cell_type": "code",
   "execution_count": 3,
   "id": "83b19ba0",
   "metadata": {},
   "outputs": [
    {
     "name": "stderr",
     "output_type": "stream",
     "text": [
      "/tmp/ipykernel_38130/3144146417.py:5: LangChainDeprecationWarning: The method `BaseTool.__call__` was deprecated in langchain-core 0.1.47 and will be removed in 1.0. Use :meth:`~invoke` instead.\n",
      "  data = safe_dataframe_tool(query)\n"
     ]
    },
    {
     "name": "stdout",
     "output_type": "stream",
     "text": [
      "   Average Price in Dubai Marina\n",
      "0                   5.050924e+06\n",
      "output\n"
     ]
    }
   ],
   "source": [
    "result = main_agent(\"Show average price in Dubai Marina\")"
   ]
  },
  {
   "cell_type": "code",
   "execution_count": 4,
   "id": "20a897d5",
   "metadata": {},
   "outputs": [
    {
     "data": {
      "text/plain": [
       "dict_keys(['type', 'data'])"
      ]
     },
     "execution_count": 4,
     "metadata": {},
     "output_type": "execute_result"
    }
   ],
   "source": [
    "result.keys()"
   ]
  },
  {
   "cell_type": "code",
   "execution_count": 5,
   "id": "fb17fdbb",
   "metadata": {},
   "outputs": [
    {
     "data": {
      "text/plain": [
       "'data'"
      ]
     },
     "execution_count": 5,
     "metadata": {},
     "output_type": "execute_result"
    }
   ],
   "source": [
    "result['type']"
   ]
  },
  {
   "cell_type": "code",
   "execution_count": 4,
   "id": "48cc80a2",
   "metadata": {},
   "outputs": [
    {
     "data": {
      "text/plain": [
       "{'type': 'data',\n",
       " 'data': [{'Average Price in Dubai Marina': 5050923.614867536}]}"
      ]
     },
     "execution_count": 4,
     "metadata": {},
     "output_type": "execute_result"
    }
   ],
   "source": [
    "result"
   ]
  },
  {
   "cell_type": "code",
   "execution_count": 1,
   "id": "05d2ce61",
   "metadata": {},
   "outputs": [],
   "source": [
    "# from IPython.display import HTML\n",
    "\n",
    "\n",
    "# html_img = f'<img src=\"data:image/png;base64,{result[\"image\"]}\" />'\n",
    "# display(HTML(html_img))"
   ]
  }
 ],
 "metadata": {
  "kernelspec": {
   "display_name": ".chatbot_env",
   "language": "python",
   "name": "python3"
  },
  "language_info": {
   "codemirror_mode": {
    "name": "ipython",
    "version": 3
   },
   "file_extension": ".py",
   "mimetype": "text/x-python",
   "name": "python",
   "nbconvert_exporter": "python",
   "pygments_lexer": "ipython3",
   "version": "3.12.3"
  }
 },
 "nbformat": 4,
 "nbformat_minor": 5
}
